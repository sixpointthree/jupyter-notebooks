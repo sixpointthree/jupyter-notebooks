{
 "cells": [
  {
   "cell_type": "markdown",
   "metadata": {},
   "source": [
    "Aufgaben PyTorch\n",
    "================\n",
    "\n"
   ]
  },
  {
   "cell_type": "markdown",
   "metadata": {},
   "source": [
    "## Install PyTorch\n",
    "\n"
   ]
  },
  {
   "cell_type": "markdown",
   "metadata": {},
   "source": [
    "Checkout this website, to obtain the command to install Pytorch:\n",
    "[https://pytorch.org/get-started/locally/](https://pytorch.org/get-started/locally/)\n",
    "\n",
    "Check the version\n",
    "\n"
   ]
  },
  {
   "cell_type": "code",
   "execution_count": 1,
   "metadata": {},
   "outputs": [
    {
     "name": "stdout",
     "output_type": "stream",
     "text": [
      "Version 1.12.1\n"
     ]
    }
   ],
   "source": [
    "import torch\n",
    "print(f'Version {torch.__version__}')"
   ]
  },
  {
   "cell_type": "markdown",
   "metadata": {},
   "source": [
    "and run some code:\n",
    "\n"
   ]
  },
  {
   "cell_type": "code",
   "execution_count": 2,
   "metadata": {},
   "outputs": [
    {
     "name": "stdout",
     "output_type": "stream",
     "text": [
      "tensor([[0.7496, 0.0502, 0.3450],\n",
      "        [0.6730, 0.7747, 0.3278],\n",
      "        [0.6845, 0.8165, 0.1180],\n",
      "        [0.7094, 0.4464, 0.3486],\n",
      "        [0.4081, 0.2729, 0.6026]])\n"
     ]
    }
   ],
   "source": [
    "x = torch.rand(5, 3)\n",
    "print(x)"
   ]
  },
  {
   "cell_type": "markdown",
   "metadata": {},
   "source": [
    "## Shapes\n",
    "\n"
   ]
  },
  {
   "cell_type": "markdown",
   "metadata": {},
   "source": [
    "1.  Create a tensor `a` from a list with 9 elements (e.g, `range(9)`). Predict and then check the shape (size).\n",
    "\n",
    "2.  Create a new tensor using `b = a.view(3, 3)`. What does view do? Check that a and b share the same storage.\n",
    "\n",
    "3.  Create a tensor `c = b[1:, 1:]`. Predict and then check the shape.\n",
    "\n"
   ]
  },
  {
   "cell_type": "code",
   "execution_count": 3,
   "metadata": {},
   "outputs": [
    {
     "name": "stdout",
     "output_type": "stream",
     "text": [
      "tensor([0, 1, 2, 3, 4, 5, 6, 7, 8])\n",
      "cpu\n"
     ]
    }
   ],
   "source": [
    "# 1.\n",
    "a = torch.tensor([i for i in range(9)])\n",
    "print(a)\n",
    "print(a.device)"
   ]
  },
  {
   "cell_type": "code",
   "execution_count": 4,
   "metadata": {},
   "outputs": [
    {
     "name": "stdout",
     "output_type": "stream",
     "text": [
      "tensor([[0, 1, 2],\n",
      "        [3, 4, 5],\n",
      "        [6, 7, 8]])\n",
      "tensor([42,  1,  2,  3,  4,  5,  6,  7,  8])\n"
     ]
    }
   ],
   "source": [
    "# 2. \n",
    "b = a.view(3, 3)\n",
    "print(b)\n",
    "# Same storage?\n",
    "b[0, 0] = 42\n",
    "print(a)"
   ]
  },
  {
   "cell_type": "code",
   "execution_count": 5,
   "metadata": {},
   "outputs": [
    {
     "name": "stdout",
     "output_type": "stream",
     "text": [
      "tensor([[4, 5],\n",
      "        [7, 8]])\n"
     ]
    }
   ],
   "source": [
    "#3.\n",
    "c = b[1:, 1:]\n",
    "print(c)"
   ]
  },
  {
   "cell_type": "markdown",
   "metadata": {},
   "source": [
    "## Broadcasting\n",
    "\n"
   ]
  },
  {
   "cell_type": "markdown",
   "metadata": {},
   "source": [
    "Predict and check the result of the following operation:\n",
    "\n"
   ]
  },
  {
   "cell_type": "code",
   "execution_count": 6,
   "metadata": {},
   "outputs": [
    {
     "name": "stdout",
     "output_type": "stream",
     "text": [
      "tensor([[0, 1, 2],\n",
      "        [3, 4, 5],\n",
      "        [6, 7, 8]])\n",
      "tensor([1, 1, 1])\n",
      "tensor([[1, 2, 3],\n",
      "        [4, 5, 6],\n",
      "        [7, 8, 9]])\n"
     ]
    }
   ],
   "source": [
    "a = torch.tensor(range(9)).reshape(3,3)\n",
    "b = torch.tensor([1, 1, 1])\n",
    "print(a)\n",
    "print(b)\n",
    "print(a+b)"
   ]
  },
  {
   "cell_type": "markdown",
   "metadata": {},
   "source": [
    "Can you  explain the observed behaviour?\n",
    "\n"
   ]
  },
  {
   "cell_type": "markdown",
   "metadata": {},
   "source": [
    "## Sharing between NumPy and PyTorch\n",
    "\n"
   ]
  },
  {
   "cell_type": "markdown",
   "metadata": {},
   "source": [
    "Create a random `numpy` array (for example with `numpy.random.normal`) of shape (4,3).\n",
    "Now create a bridged torch tensor (`from_numpy`).\n",
    "Show that multiplying the torch tensor with some number, also change `a`.\n",
    "Hint: to multiply in place use `mul_`.\n",
    "\n"
   ]
  },
  {
   "cell_type": "code",
   "execution_count": 7,
   "metadata": {},
   "outputs": [
    {
     "name": "stdout",
     "output_type": "stream",
     "text": [
      "[[0.6345527  0.98936709 0.92851592]\n",
      " [0.86885191 0.41357955 0.18062408]\n",
      " [0.64417304 0.84928555 0.02117523]\n",
      " [0.77289656 0.31918671 0.52143605]]\n"
     ]
    }
   ],
   "source": [
    "import numpy as np\n",
    "\n",
    "a = np.random.rand(4, 3)\n",
    "print(a)"
   ]
  },
  {
   "cell_type": "code",
   "execution_count": 8,
   "metadata": {},
   "outputs": [
    {
     "name": "stdout",
     "output_type": "stream",
     "text": [
      "[[63.45527045 98.93670893 92.8515919 ]\n",
      " [86.88519084 41.3579547  18.06240767]\n",
      " [64.41730423 84.92855489  2.1175227 ]\n",
      " [77.28965625 31.91867088 52.14360541]]\n",
      "cpu\n"
     ]
    }
   ],
   "source": [
    "b = torch.from_numpy(a)\n",
    "b.mul_(100)\n",
    "print(a)\n",
    "print(b.device)"
   ]
  },
  {
   "cell_type": "markdown",
   "metadata": {},
   "source": [
    "## Autograd\n",
    "\n"
   ]
  },
  {
   "cell_type": "markdown",
   "metadata": {},
   "source": [
    "For $x=1$ compute the following\n",
    "$$\n",
    "\\frac{d}{d x} f(h(x))\n",
    "$$\n",
    "where $f(x) = x^3$ and $h(x)=cos(x)$.\n",
    "\n",
    "1.  First compute the result by *hand* (use the chain rule, and a calculator)\n",
    "2.  Write a Python script to compute it with PyTorch using  `autograd`.\n",
    "\n"
   ]
  },
  {
   "cell_type": "code",
   "execution_count": 9,
   "metadata": {},
   "outputs": [],
   "source": [
    "%matplotlib inline\n",
    "import matplotlib.pyplot as plt"
   ]
  },
  {
   "cell_type": "code",
   "execution_count": 10,
   "metadata": {},
   "outputs": [],
   "source": [
    "import math\n",
    "def f(x):\n",
    "    return torch.pow(x, 3)\n",
    "def h(x):\n",
    "    return torch.cos(x)"
   ]
  },
  {
   "cell_type": "code",
   "execution_count": 11,
   "metadata": {},
   "outputs": [
    {
     "name": "stdout",
     "output_type": "stream",
     "text": [
      "tensor([[1.]], requires_grad=True)\n",
      "None\n",
      "tensor([[0.1577]], grad_fn=<PowBackward0>)\n"
     ]
    }
   ],
   "source": [
    "x = torch.tensor([[1.0]], requires_grad=True)\n",
    "print(x)\n",
    "print(x.grad)\n",
    "y = f(h(x))\n",
    "print(y)"
   ]
  },
  {
   "cell_type": "code",
   "execution_count": 12,
   "metadata": {},
   "outputs": [
    {
     "name": "stdout",
     "output_type": "stream",
     "text": [
      "tensor([[-0.7369]])\n"
     ]
    }
   ],
   "source": [
    "y.backward()\n",
    "print(x.grad)"
   ]
  },
  {
   "cell_type": "code",
   "execution_count": 13,
   "metadata": {},
   "outputs": [
    {
     "data": {
      "text/plain": [
       "<matplotlib.legend.Legend at 0x2b6b1d35c10>"
      ]
     },
     "execution_count": 13,
     "metadata": {},
     "output_type": "execute_result"
    },
    {
     "data": {
      "image/png": "[encoded data removed]",
      "text/plain": [
       "<Figure size 432x288 with 1 Axes>"
      ]
     },
     "metadata": {
      "needs_background": "light"
     },
     "output_type": "display_data"
    }
   ],
   "source": [
    "fig, axs = plt.subplots()\n",
    "axs.plot(y.detach().numpy(), label=f\"f(h(x))\")\n",
    "fig.legend()"
   ]
  },
  {
   "cell_type": "code",
   "execution_count": null,
   "metadata": {},
   "outputs": [],
   "source": []
  }
 ],
 "metadata": {
  "kernelspec": {
   "display_name": "Python 3 (ipykernel)",
   "language": "python",
   "name": "python3"
  },
  "language_info": {
   "codemirror_mode": {
    "name": "ipython",
    "version": 3
   },
   "file_extension": ".py",
   "mimetype": "text/x-python",
   "name": "python",
   "nbconvert_exporter": "python",
   "pygments_lexer": "ipython3",
   "version": "3.9.12"
  },
  "org": null,
  "toc": {
   "base_numbering": 1,
   "nav_menu": {},
   "number_sections": true,
   "sideBar": true,
   "skip_h1_title": false,
   "title_cell": "Table of Contents",
   "title_sidebar": "Contents",
   "toc_cell": false,
   "toc_position": {},
   "toc_section_display": true,
   "toc_window_display": true
  }
 },
 "nbformat": 4,
 "nbformat_minor": 1
}
