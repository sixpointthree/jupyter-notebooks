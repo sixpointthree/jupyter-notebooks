{
 "cells": [
  {
   "cell_type": "code",
   "execution_count": 13,
   "id": "9b33fb7e",
   "metadata": {},
   "outputs": [],
   "source": [
    "import pandas as pd"
   ]
  },
  {
   "cell_type": "code",
   "execution_count": 14,
   "id": "f7826297",
   "metadata": {},
   "outputs": [],
   "source": [
    "s1 = pd.Series([8,2,4,5,1,2,6])"
   ]
  },
  {
   "cell_type": "code",
   "execution_count": 18,
   "id": "e2754d0f",
   "metadata": {},
   "outputs": [
    {
     "name": "stdout",
     "output_type": "stream",
     "text": [
      "Mean is: 4.0\n"
     ]
    }
   ],
   "source": [
    "# Mean Value\n",
    "summe = 0\n",
    "for val in s1:\n",
    "    summe += val\n",
    "mean = summe/s1.count()\n",
    "print(f\"Mean is: {mean}\")"
   ]
  },
  {
   "cell_type": "code",
   "execution_count": 27,
   "id": "5535fc5c",
   "metadata": {},
   "outputs": [],
   "source": [
    "# Calculate Quantil\n",
    "def print_quantil(q, series):\n",
    "    total_sum = series.sum()\n",
    "    aggregated_vals = 0\n",
    "    median = -1\n",
    "    for i, val in enumerate(series):\n",
    "        if aggregated_vals/total_sum > q:\n",
    "            median = i - 1\n",
    "            break\n",
    "        else:\n",
    "            aggregated_vals += val\n",
    "    print(f\"Quantil({q}) is: {median}\")"
   ]
  },
  {
   "cell_type": "code",
   "execution_count": 28,
   "id": "8943a58a",
   "metadata": {},
   "outputs": [
    {
     "name": "stdout",
     "output_type": "stream",
     "text": [
      "Quantil(0.5) is: 3\n",
      "Quantil(0.25) is: 0\n",
      "Quantil(0.75) is: 5\n"
     ]
    }
   ],
   "source": [
    "#Median\n",
    "print_quantil(0.5, s1)\n",
    "print_quantil(0.25, s1)\n",
    "print_quantil(0.75, s1)"
   ]
  },
  {
   "cell_type": "code",
   "execution_count": null,
   "id": "2d6cc61a",
   "metadata": {},
   "outputs": [],
   "source": []
  }
 ],
 "metadata": {
  "kernelspec": {
   "display_name": "Python 3 (ipykernel)",
   "language": "python",
   "name": "python3"
  },
  "language_info": {
   "codemirror_mode": {
    "name": "ipython",
    "version": 3
   },
   "file_extension": ".py",
   "mimetype": "text/x-python",
   "name": "python",
   "nbconvert_exporter": "python",
   "pygments_lexer": "ipython3",
   "version": "3.9.12"
  }
 },
 "nbformat": 4,
 "nbformat_minor": 5
}
