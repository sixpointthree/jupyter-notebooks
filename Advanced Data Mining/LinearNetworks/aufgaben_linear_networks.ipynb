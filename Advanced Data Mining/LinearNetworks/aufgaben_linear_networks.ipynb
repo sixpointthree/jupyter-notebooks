{
 "cells": [
  {
   "cell_type": "markdown",
   "metadata": {},
   "source": [
    "Aufgaben Linear Networks\n",
    "========================\n",
    "\n"
   ]
  },
  {
   "cell_type": "markdown",
   "metadata": {},
   "source": [
    "## Imports\n",
    "\n"
   ]
  },
  {
   "cell_type": "markdown",
   "metadata": {},
   "source": [
    "the common imports:\n",
    "\n"
   ]
  },
  {
   "cell_type": "code",
   "execution_count": 156,
   "metadata": {},
   "outputs": [],
   "source": [
    "%matplotlib inline\n",
    "import matplotlib.pyplot as plt\n",
    "import torch\n",
    "import numpy as np"
   ]
  },
  {
   "cell_type": "markdown",
   "metadata": {},
   "source": [
    "## Linear Regression Network\n",
    "\n"
   ]
  },
  {
   "cell_type": "markdown",
   "metadata": {},
   "source": [
    "In the following exercise you should create a linear regression\n",
    "model from scratch and test it on some synthetically created data:\n",
    "\n"
   ]
  },
  {
   "cell_type": "code",
   "execution_count": 157,
   "metadata": {},
   "outputs": [
    {
     "name": "stdout",
     "output_type": "stream",
     "text": [
      "torch.Size([100, 2]) torch.Size([100, 1])\n"
     ]
    }
   ],
   "source": [
    "def synthetic_data(w, b, num_examples):  #@save\n",
    "    \"\"\"Generate y = Xw + b + noise.\"\"\"\n",
    "    X = torch.normal(0, 1, (num_examples, len(w)))\n",
    "    y = torch.matmul(X, w) + b\n",
    "    # Rauschen dazu addieren, Form von y\n",
    "    y += torch.normal(0, 0.01, y.shape)\n",
    "    return X, y.reshape((-1, 1))\n",
    "\n",
    "true_w = torch.tensor([2, -3.4])\n",
    "true_b = 4.2\n",
    "\n",
    "n_samples=100\n",
    "X, y = synthetic_data(true_w, true_b, n_samples)\n",
    "K = 2\n",
    "print(X.shape, y.shape)"
   ]
  },
  {
   "cell_type": "markdown",
   "metadata": {},
   "source": [
    "Our goal is to fit a simple regression model with Batch Gradient Descent.\n",
    "We start with randomly chosen values for the weights and zero bias.\n",
    "First, implement the function below.\n",
    "\n"
   ]
  },
  {
   "cell_type": "code",
   "execution_count": 158,
   "metadata": {},
   "outputs": [
    {
     "name": "stdout",
     "output_type": "stream",
     "text": [
      "torch.Size([100, 2])\n",
      "torch.Size([2, 1])\n",
      "torch.Size([1])\n"
     ]
    }
   ],
   "source": [
    "torch.manual_seed(0)\n",
    "w = torch.normal(0, 0.01, size=(K, 1))\n",
    "b = torch.zeros(1)\n",
    "print(X.shape)\n",
    "print(w.shape)\n",
    "print(b.shape)\n",
    "\n",
    "def linreg(X, w, b):\n",
    "    \"\"\"The linear regression model.\"\"\"\n",
    "    return torch.matmul(X, w) + b"
   ]
  },
  {
   "cell_type": "markdown",
   "metadata": {},
   "source": [
    "Now we need to define the loss functions to be used:\n",
    "\n"
   ]
  },
  {
   "cell_type": "code",
   "execution_count": 159,
   "metadata": {},
   "outputs": [],
   "source": [
    "def squared_loss(y_hat, y):\n",
    "    assert y_hat.shape == y.shape\n",
    "    return 0.5*((y_hat -y)**2).sum()"
   ]
  },
  {
   "cell_type": "markdown",
   "metadata": {},
   "source": [
    "Now we need to implement the training loop for Gradient Descent.\n",
    "You should not use `autograd` for computing the gradient, instead\n",
    "build on the closed formula presented in the lecture.\n",
    "\n"
   ]
  },
  {
   "cell_type": "code",
   "execution_count": 160,
   "metadata": {},
   "outputs": [
    {
     "name": "stdout",
     "output_type": "stream",
     "text": [
      "True weights: tensor([ 2.0000, -3.4000])\n",
      "Epoch(0):\n",
      "  - Gradients: tensor([-2.8184,  3.3779])\n",
      "  - New Weights: tensor([[ 0.2973],\n",
      "        [-0.3407]])\n",
      "  - New Bias: tensor([0.3503])\n",
      "Epoch(10):\n",
      "  - Gradients: tensor([-0.6558,  1.1300])\n",
      "  - New Weights: tensor([[ 1.6873],\n",
      "        [-2.2630]])\n",
      "  - New Bias: tensor([2.6115])\n",
      "Epoch(20):\n",
      "  - Gradients: tensor([-0.1247,  0.4224])\n",
      "  - New Weights: tensor([[ 1.9899],\n",
      "        [-2.9416]])\n",
      "  - New Bias: tensor([3.5520])\n",
      "Epoch(30):\n",
      "  - Gradients: tensor([-0.0070,  0.1709])\n",
      "  - New Weights: tensor([[ 2.0348],\n",
      "        [-3.2058]])\n",
      "  - New Bias: tensor([3.9353])\n",
      "Epoch(40):\n",
      "  - Gradients: tensor([0.0113, 0.0725])\n",
      "  - New Weights: tensor([[ 2.0283],\n",
      "        [-3.3154]])\n",
      "  - New Bias: tensor([4.0907])\n",
      "Epoch(50):\n",
      "  - Gradients: tensor([0.0095, 0.0315])\n",
      "  - New Weights: tensor([[ 2.0175],\n",
      "        [-3.3625]])\n",
      "  - New Bias: tensor([4.1541])\n",
      "Epoch(60):\n",
      "  - Gradients: tensor([0.0056, 0.0139])\n",
      "  - New Weights: tensor([[ 2.0102],\n",
      "        [-3.3831]])\n",
      "  - New Bias: tensor([4.1801])\n",
      "Epoch(70):\n",
      "  - Gradients: tensor([0.0029, 0.0061])\n",
      "  - New Weights: tensor([[ 2.0062],\n",
      "        [-3.3922]])\n",
      "  - New Bias: tensor([4.1908])\n",
      "Epoch(80):\n",
      "  - Gradients: tensor([0.0014, 0.0027])\n",
      "  - New Weights: tensor([[ 2.0042],\n",
      "        [-3.3962]])\n",
      "  - New Bias: tensor([4.1953])\n",
      "Epoch(90):\n",
      "  - Gradients: tensor([0.0007, 0.0012])\n",
      "  - New Weights: tensor([[ 2.0032],\n",
      "        [-3.3980]])\n",
      "  - New Bias: tensor([4.1972])\n",
      "Final weights: tensor([[ 2.0027],\n",
      "        [-3.3987]])\n",
      "Final bias: tensor([4.1980])\n"
     ]
    },
    {
     "data": {
      "text/plain": [
       "[<matplotlib.lines.Line2D at 0x2b3fe1b3250>]"
      ]
     },
     "execution_count": 160,
     "metadata": {},
     "output_type": "execute_result"
    },
    {
     "data": {
      "image/png": "[encoded data removed]",
      "text/plain": [
       "<Figure size 432x288 with 1 Axes>"
      ]
     },
     "metadata": {
      "needs_background": "light"
     },
     "output_type": "display_data"
    }
   ],
   "source": [
    "step = 0.1\n",
    "n_epoch = 100\n",
    "\n",
    "loss_arr = np.zeros(n_epoch) # to record current loss\n",
    "print(f\"True weights: {true_w}\")\n",
    "\n",
    "for epoch in range(n_epoch):\n",
    "    # 1.  Compute the prediction y_hat\n",
    "    y_hat = linreg(X, w, b)\n",
    "    # remember the loss for plotting it later\n",
    "    loss_arr[epoch] = squared_loss(y_hat, y)\n",
    "    # 2. Use y_hat and y to compute the gradients\n",
    "    gradient_vals = torch.zeros(len(X), len(w))\n",
    "    bias_grad_vals = torch.zeros(len(X), 1)\n",
    "    #bias ergänzen!!!!!!!!!!!!\n",
    "    for i in range(0, len(X)):\n",
    "        gradient_vals[i] = (y_hat[i] - y[i]) * X[i]\n",
    "        bias_grad_vals[i] = (y_hat[i] - y[i])\n",
    "    gradients = torch.mean(gradient_vals, 0)\n",
    "    bias_gradients = torch.mean(bias_grad_vals, 0)\n",
    "    # 3. Update the parameters\n",
    "    w = w - step * gradients.reshape(-1, 1)\n",
    "    b = b - step * bias_gradients\n",
    "    if epoch % 10 == 0:\n",
    "        print(f\"Epoch({epoch}):\")\n",
    "        print(f\"  - Gradients: {gradients}\")\n",
    "        print(f\"  - New Weights: {w}\")\n",
    "        print(f\"  - New Bias: {b}\")\n",
    "print(f\"Final weights: {w}\")\n",
    "print(f\"Final bias: {b}\")\n",
    "plt.plot(loss_arr)"
   ]
  },
  {
   "cell_type": "markdown",
   "metadata": {},
   "source": [
    "## Linear networks with autograd\n",
    "\n"
   ]
  },
  {
   "cell_type": "markdown",
   "metadata": {},
   "source": [
    "The goal now is to use `autograd` the compute the gradient.\n",
    "You can use the same skeleton as before\n",
    "\n"
   ]
  },
  {
   "cell_type": "code",
   "execution_count": 161,
   "metadata": {},
   "outputs": [
    {
     "name": "stdout",
     "output_type": "stream",
     "text": [
      "Epoch(0):\n",
      "  - New Weights: tensor([[ 0.2973],\n",
      "        [-0.3407]], requires_grad=True)\n",
      "  - New Bias: tensor([0.3503], requires_grad=True)\n",
      "Epoch(10):\n",
      "  - New Weights: tensor([[ 1.6873],\n",
      "        [-2.2630]], requires_grad=True)\n",
      "  - New Bias: tensor([2.6115], requires_grad=True)\n",
      "Epoch(20):\n",
      "  - New Weights: tensor([[ 1.9899],\n",
      "        [-2.9416]], requires_grad=True)\n",
      "  - New Bias: tensor([3.5520], requires_grad=True)\n",
      "Epoch(30):\n",
      "  - New Weights: tensor([[ 2.0348],\n",
      "        [-3.2058]], requires_grad=True)\n",
      "  - New Bias: tensor([3.9353], requires_grad=True)\n",
      "Epoch(40):\n",
      "  - New Weights: tensor([[ 2.0283],\n",
      "        [-3.3154]], requires_grad=True)\n",
      "  - New Bias: tensor([4.0907], requires_grad=True)\n",
      "Epoch(50):\n",
      "  - New Weights: tensor([[ 2.0175],\n",
      "        [-3.3625]], requires_grad=True)\n",
      "  - New Bias: tensor([4.1541], requires_grad=True)\n",
      "Epoch(60):\n",
      "  - New Weights: tensor([[ 2.0102],\n",
      "        [-3.3831]], requires_grad=True)\n",
      "  - New Bias: tensor([4.1801], requires_grad=True)\n",
      "Epoch(70):\n",
      "  - New Weights: tensor([[ 2.0062],\n",
      "        [-3.3922]], requires_grad=True)\n",
      "  - New Bias: tensor([4.1908], requires_grad=True)\n",
      "Epoch(80):\n",
      "  - New Weights: tensor([[ 2.0042],\n",
      "        [-3.3962]], requires_grad=True)\n",
      "  - New Bias: tensor([4.1953], requires_grad=True)\n",
      "Epoch(90):\n",
      "  - New Weights: tensor([[ 2.0032],\n",
      "        [-3.3980]], requires_grad=True)\n",
      "  - New Bias: tensor([4.1972], requires_grad=True)\n",
      "Final weights: tensor([[ 2.0027],\n",
      "        [-3.3987]], requires_grad=True)\n",
      "Final bias: tensor([4.1980], requires_grad=True)\n"
     ]
    },
    {
     "data": {
      "text/plain": [
       "[<matplotlib.lines.Line2D at 0x2b3fe37c370>]"
      ]
     },
     "execution_count": 161,
     "metadata": {},
     "output_type": "execute_result"
    },
    {
     "data": {
      "image/png": "[encoded data removed]",
      "text/plain": [
       "<Figure size 432x288 with 1 Axes>"
      ]
     },
     "metadata": {
      "needs_background": "light"
     },
     "output_type": "display_data"
    }
   ],
   "source": [
    "torch.manual_seed(0)\n",
    "w = torch.normal(0, 0.01, size=(K,1), requires_grad=True)\n",
    "b = torch.zeros(1, requires_grad=True)\n",
    "\n",
    "step = 0.1\n",
    "n_epoch = 100\n",
    "\n",
    "loss_arr = torch.zeros(n_epoch) # to record current loss\n",
    "\n",
    "for epoch in range(n_epoch):\n",
    "    # 1.  Compute the prediction y_hat\n",
    "    y_hat = linreg(X, w, b)\n",
    "    # remember the loss for plotting it later\n",
    "    loss = squared_loss(y_hat, y)\n",
    "    loss_arr[epoch] = loss.detach()\n",
    "    # 2. Use the computed loss to compute the gradients\n",
    "    loss.backward()\n",
    "    with torch.no_grad():\n",
    "        w -= step*w.grad/n_samples\n",
    "        b -= step*b.grad/n_samples\n",
    "        w.grad.zero_()\n",
    "        b.grad.zero_()\n",
    "    \n",
    "    if epoch % 10 == 0:\n",
    "        print(f\"Epoch({epoch}):\")\n",
    "        print(f\"  - New Weights: {w}\")\n",
    "        print(f\"  - New Bias: {b}\")\n",
    "print(f\"Final weights: {w}\")\n",
    "print(f\"Final bias: {b}\")\n",
    "\n",
    "plt.plot(loss_arr)"
   ]
  },
  {
   "cell_type": "markdown",
   "metadata": {},
   "source": [
    "## Linear classification\n",
    "\n"
   ]
  },
  {
   "cell_type": "markdown",
   "metadata": {},
   "source": [
    "We  want to implement a linear network for classification.\n",
    "We use the famous IRIS data set as an example.\n",
    "\n"
   ]
  },
  {
   "cell_type": "code",
   "execution_count": 162,
   "metadata": {},
   "outputs": [],
   "source": [
    "from sklearn.datasets import load_iris\n",
    "X, y = load_iris(return_X_y=True)\n",
    "X = torch.tensor(X, dtype=torch.float32)\n",
    "y = torch.tensor(y)"
   ]
  },
  {
   "cell_type": "markdown",
   "metadata": {},
   "source": [
    "This time the network is implemented as a class,\n",
    "the only thing missing is the implementation of the softmax function,\n",
    "for example\n",
    "$$\n",
    "softmax(y)_1 = \\frac{e^{y_1}}{ \\sum_{i=1}^p  e^{y_i} }.\n",
    "$$\n",
    "You have to implement it below.\n",
    "\n"
   ]
  },
  {
   "cell_type": "code",
   "execution_count": 214,
   "metadata": {},
   "outputs": [
    {
     "name": "stdout",
     "output_type": "stream",
     "text": [
      "torch.Size([3, 1])\n",
      "tensor([-0.0141, -0.0156, -0.0042])\n",
      "tensor([0, 0, 0])\n"
     ]
    },
    {
     "name": "stderr",
     "output_type": "stream",
     "text": [
      "C:\\Users\\steffen.lang\\AppData\\Local\\Temp\\ipykernel_18656\\1668991339.py:14: UserWarning: To copy construct from a tensor, it is recommended to use sourceTensor.clone().detach() or sourceTensor.clone().detach().requires_grad_(True), rather than torch.tensor(sourceTensor).\n",
      "  return torch.tensor(y_exp, dtype=int)\n"
     ]
    }
   ],
   "source": [
    "def softmax(y):\n",
    "    y_exp_one_hot = torch.exp(y)\n",
    "    y_exp = torch.zeros(len(y))\n",
    "    partition = y_exp_one_hot.sum(axis=1, keepdims=True)\n",
    "    y_exp_one_hot = y_exp_one_hot / partition\n",
    "    print(y_exp_one_hot.shape)\n",
    "    for i, row in enumerate(y):\n",
    "        max_val = row[0]\n",
    "        for j, col in enumerate(row):\n",
    "            if col > max_val:\n",
    "                max_val = j\n",
    "        y_exp[i] = max_val\n",
    "    print(y_exp)\n",
    "    return torch.tensor(y_exp, dtype=int)\n",
    "\n",
    "print(softmax(torch.normal(0, 0.01, size=(3, 1), dtype=torch.float64)))\n",
    "\n",
    "class SoftmaxNetwork:\n",
    "\n",
    "    def __init__(self, num_input, num_output, dtype=torch.float64):\n",
    "        \"\"\"\n",
    "        Args:\n",
    "            num_input: dimension of input space\n",
    "            num_output: number if output classes\n",
    "        \"\"\"\n",
    "        self.w = torch.randn((num_input,num_output),\n",
    "                             dtype=dtype).requires_grad_(True)\n",
    "        self.b = torch.randn(num_output, dtype=dtype).requires_grad_(True)\n",
    "\n",
    "    def forward(self, X):\n",
    "        \"\"\"\n",
    "        Args:\n",
    "            X: tensor of shape (n, d)\n",
    "        \"\"\"\n",
    "        y = (X @ self.w + self.b)\n",
    "        return softmax(y)"
   ]
  },
  {
   "cell_type": "markdown",
   "metadata": {},
   "source": [
    "Next we have to implement the cross entropy loss, it is already finished:\n",
    "\n"
   ]
  },
  {
   "cell_type": "code",
   "execution_count": 215,
   "metadata": {},
   "outputs": [],
   "source": [
    "def cross_entropy(y_hat, y):\n",
    "    return (-torch.log(y_hat[range(len(y_hat)), y])).mean()"
   ]
  },
  {
   "cell_type": "markdown",
   "metadata": {},
   "source": [
    "Note that this implementation does not require a one-hot-encoding for $y$\n",
    "(but there is one side effect: $y$ has to be of type `torch.int64`!).\n",
    "\n",
    "The final step is to implement a function that runs the training for us:\n",
    "\n"
   ]
  },
  {
   "cell_type": "code",
   "execution_count": 216,
   "metadata": {},
   "outputs": [],
   "source": [
    "def run_training(net, X, y, f_loss, n_epochs, lr=0.1):\n",
    "    train_loss = np.zeros(n_epochs)\n",
    "    \n",
    "    for epoch in range(0, n_epochs):\n",
    "        y_hat = net.forward(X)\n",
    "        print(type(y_hat), y_hat.shape)\n",
    "        print(type(y), y.shape)\n",
    "        loss = f_loss(y_hat, y)\n",
    "        loss.backward()\n",
    "        with torch.no_grad():\n",
    "            net.w -= lr*net.w.grad\n",
    "            net.b -= lr*net.b.grad\n",
    "            net.w.grad.zero_()\n",
    "            net.b.grad.zero_()\n",
    "        train_loss[epoch] = loss\n",
    "    return loss"
   ]
  },
  {
   "cell_type": "markdown",
   "metadata": {},
   "source": [
    "Now train the model, don't forget to cast X and y to Pytorch tensors.\n",
    "\n"
   ]
  },
  {
   "cell_type": "code",
   "execution_count": 217,
   "metadata": {},
   "outputs": [
    {
     "name": "stdout",
     "output_type": "stream",
     "text": [
      "torch.Size([150, 3])\n",
      "tensor([2., 2., 2., 2., 2., 2., 2., 2., 2., 2., 2., 2., 2., 2., 2., 2., 2., 2.,\n",
      "        2., 2., 2., 2., 2., 2., 2., 2., 2., 2., 2., 2., 2., 2., 2., 2., 2., 2.,\n",
      "        2., 2., 2., 2., 2., 2., 2., 2., 2., 2., 2., 2., 2., 2., 2., 2., 2., 2.,\n",
      "        2., 2., 2., 2., 2., 2., 2., 2., 2., 2., 2., 2., 2., 2., 2., 2., 2., 2.,\n",
      "        2., 2., 2., 2., 2., 2., 2., 2., 2., 2., 2., 2., 2., 2., 2., 2., 2., 2.,\n",
      "        2., 2., 2., 2., 2., 2., 2., 2., 2., 2., 2., 2., 2., 2., 2., 2., 2., 2.,\n",
      "        2., 2., 2., 2., 2., 2., 2., 2., 2., 2., 2., 2., 2., 2., 2., 2., 2., 2.,\n",
      "        2., 2., 2., 2., 2., 2., 2., 2., 2., 2., 2., 2., 2., 2., 2., 2., 2., 2.,\n",
      "        2., 2., 2., 2., 2., 2.])\n",
      "<class 'torch.Tensor'> torch.Size([150])\n",
      "<class 'torch.Tensor'> torch.Size([150])\n"
     ]
    },
    {
     "name": "stderr",
     "output_type": "stream",
     "text": [
      "C:\\Users\\steffen.lang\\AppData\\Local\\Temp\\ipykernel_18656\\1668991339.py:14: UserWarning: To copy construct from a tensor, it is recommended to use sourceTensor.clone().detach() or sourceTensor.clone().detach().requires_grad_(True), rather than torch.tensor(sourceTensor).\n",
      "  return torch.tensor(y_exp, dtype=int)\n"
     ]
    },
    {
     "ename": "IndexError",
     "evalue": "too many indices for tensor of dimension 1",
     "output_type": "error",
     "traceback": [
      "\u001b[1;31m---------------------------------------------------------------------------\u001b[0m",
      "\u001b[1;31mIndexError\u001b[0m                                Traceback (most recent call last)",
      "Input \u001b[1;32mIn [217]\u001b[0m, in \u001b[0;36m<cell line: 2>\u001b[1;34m()\u001b[0m\n\u001b[0;32m      1\u001b[0m net \u001b[38;5;241m=\u001b[39m SoftmaxNetwork(\u001b[38;5;241m4\u001b[39m,\u001b[38;5;241m3\u001b[39m, dtype\u001b[38;5;241m=\u001b[39mtorch\u001b[38;5;241m.\u001b[39mfloat32)\n\u001b[1;32m----> 2\u001b[0m train_loss \u001b[38;5;241m=\u001b[39m \u001b[43mrun_training\u001b[49m\u001b[43m(\u001b[49m\u001b[43mnet\u001b[49m\u001b[43m,\u001b[49m\u001b[43m \u001b[49m\u001b[43mX\u001b[49m\u001b[43m,\u001b[49m\u001b[43m \u001b[49m\u001b[43my\u001b[49m\u001b[43m,\u001b[49m\u001b[43m  \u001b[49m\u001b[43mcross_entropy\u001b[49m\u001b[43m,\u001b[49m\u001b[43m \u001b[49m\u001b[43mn_epochs\u001b[49m\u001b[38;5;241;43m=\u001b[39;49m\u001b[38;5;241;43m100\u001b[39;49m\u001b[43m,\u001b[49m\u001b[43m \u001b[49m\u001b[43mlr\u001b[49m\u001b[38;5;241;43m=\u001b[39;49m\u001b[38;5;241;43m0.2\u001b[39;49m\u001b[43m)\u001b[49m\n\u001b[0;32m      4\u001b[0m plt\u001b[38;5;241m.\u001b[39mplot(train_loss)\n\u001b[0;32m      5\u001b[0m plt\u001b[38;5;241m.\u001b[39mxlabel(\u001b[38;5;124m'\u001b[39m\u001b[38;5;124mepochs\u001b[39m\u001b[38;5;124m'\u001b[39m)\n",
      "Input \u001b[1;32mIn [216]\u001b[0m, in \u001b[0;36mrun_training\u001b[1;34m(net, X, y, f_loss, n_epochs, lr)\u001b[0m\n\u001b[0;32m      6\u001b[0m \u001b[38;5;28mprint\u001b[39m(\u001b[38;5;28mtype\u001b[39m(y_hat), y_hat\u001b[38;5;241m.\u001b[39mshape)\n\u001b[0;32m      7\u001b[0m \u001b[38;5;28mprint\u001b[39m(\u001b[38;5;28mtype\u001b[39m(y), y\u001b[38;5;241m.\u001b[39mshape)\n\u001b[1;32m----> 8\u001b[0m loss \u001b[38;5;241m=\u001b[39m \u001b[43mf_loss\u001b[49m\u001b[43m(\u001b[49m\u001b[43my_hat\u001b[49m\u001b[43m,\u001b[49m\u001b[43m \u001b[49m\u001b[43my\u001b[49m\u001b[43m)\u001b[49m\n\u001b[0;32m      9\u001b[0m loss\u001b[38;5;241m.\u001b[39mbackward()\n\u001b[0;32m     10\u001b[0m \u001b[38;5;28;01mwith\u001b[39;00m torch\u001b[38;5;241m.\u001b[39mno_grad():\n",
      "Input \u001b[1;32mIn [215]\u001b[0m, in \u001b[0;36mcross_entropy\u001b[1;34m(y_hat, y)\u001b[0m\n\u001b[0;32m      1\u001b[0m \u001b[38;5;28;01mdef\u001b[39;00m \u001b[38;5;21mcross_entropy\u001b[39m(y_hat, y):\n\u001b[1;32m----> 2\u001b[0m     \u001b[38;5;28;01mreturn\u001b[39;00m (\u001b[38;5;241m-\u001b[39mtorch\u001b[38;5;241m.\u001b[39mlog(\u001b[43my_hat\u001b[49m\u001b[43m[\u001b[49m\u001b[38;5;28;43mrange\u001b[39;49m\u001b[43m(\u001b[49m\u001b[38;5;28;43mlen\u001b[39;49m\u001b[43m(\u001b[49m\u001b[43my_hat\u001b[49m\u001b[43m)\u001b[49m\u001b[43m)\u001b[49m\u001b[43m,\u001b[49m\u001b[43m \u001b[49m\u001b[43my\u001b[49m\u001b[43m]\u001b[49m))\u001b[38;5;241m.\u001b[39mmean()\n",
      "\u001b[1;31mIndexError\u001b[0m: too many indices for tensor of dimension 1"
     ]
    }
   ],
   "source": [
    "net = SoftmaxNetwork(4,3, dtype=torch.float32)\n",
    "train_loss = run_training(net, X, y,  cross_entropy, n_epochs=100, lr=0.2)\n",
    "\n",
    "plt.plot(train_loss)\n",
    "plt.xlabel('epochs')\n",
    "plt.ylabel('loss')\n",
    "plt.title('Learning curve');"
   ]
  },
  {
   "cell_type": "markdown",
   "metadata": {},
   "source": [
    "1.  Run the training several times, and observe the different learning curves.\n",
    "2.  Try the same with a lower learning rate, say $lr=0.05$. Do you see any differences?\n",
    "\n",
    "Finally check the accuracy of the model, that is the fraction of correctly predicted examples.\n",
    "Of course this is on training only. If you like you can try to split the\n",
    "data into train and test and evaluate your network on the test data set.\n",
    "A useful function for this is `train_test_split` found in `sklearn.model_selection`.\n",
    "\n"
   ]
  },
  {
   "cell_type": "code",
   "execution_count": null,
   "metadata": {},
   "outputs": [],
   "source": []
  },
  {
   "cell_type": "code",
   "execution_count": null,
   "metadata": {},
   "outputs": [],
   "source": []
  }
 ],
 "metadata": {
  "kernelspec": {
   "display_name": "Python 3 (ipykernel)",
   "language": "python",
   "name": "python3"
  },
  "language_info": {
   "codemirror_mode": {
    "name": "ipython",
    "version": 3
   },
   "file_extension": ".py",
   "mimetype": "text/x-python",
   "name": "python",
   "nbconvert_exporter": "python",
   "pygments_lexer": "ipython3",
   "version": "3.9.12"
  },
  "org": null,
  "toc": {
   "base_numbering": 1,
   "nav_menu": {},
   "number_sections": true,
   "sideBar": true,
   "skip_h1_title": false,
   "title_cell": "Table of Contents",
   "title_sidebar": "Contents",
   "toc_cell": false,
   "toc_position": {},
   "toc_section_display": true,
   "toc_window_display": true
  }
 },
 "nbformat": 4,
 "nbformat_minor": 1
}
