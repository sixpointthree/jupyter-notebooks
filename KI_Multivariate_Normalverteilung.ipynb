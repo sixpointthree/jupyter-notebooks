{
 "cells": [
  {
   "cell_type": "code",
   "execution_count": 1,
   "id": "b3b9f5a9",
   "metadata": {},
   "outputs": [
    {
     "name": "stdout",
     "output_type": "stream",
     "text": [
      "Using matplotlib backend: Qt5Agg\n"
     ]
    }
   ],
   "source": [
    "%matplotlib\n",
    "import numpy as np\n",
    "import matplotlib.pyplot as plt"
   ]
  },
  {
   "cell_type": "code",
   "execution_count": 2,
   "id": "1494172e",
   "metadata": {},
   "outputs": [],
   "source": [
    "import scipy.stats as stats\n",
    "from mpl_toolkits.mplot3d import Axes3D"
   ]
  },
  {
   "cell_type": "code",
   "execution_count": 3,
   "id": "a94c5556",
   "metadata": {},
   "outputs": [],
   "source": [
    "#Parameters to set\n",
    "mu = [0, 0]\n",
    "cov_m = [\n",
    "    [2, 1],\n",
    "    [1, 2]\n",
    "]\n",
    "\n",
    "#Create grid and multivariate normal\n",
    "x = np.linspace(-6,6,500)\n",
    "y = np.linspace(-6,6,500)\n",
    "X, Y = np.meshgrid(x,y)\n",
    "pos = np.empty(X.shape + (2,))\n",
    "pos[:, :, 0] = X; pos[:, :, 1] = Y\n",
    "rv = stats.multivariate_normal(mean=mu, cov=cov_m)\n",
    "\n",
    "#Make a 3D plot\n",
    "fig = plt.figure()\n",
    "ax = fig.add_subplot(projection='3d')\n",
    "ax.plot_surface(X, Y, rv.pdf(pos),cmap='viridis',linewidth=0)\n",
    "ax.set_xlabel('X axis')\n",
    "ax.set_ylabel('Y axis')\n",
    "ax.set_zlabel('Z axis')\n",
    "plt.show()"
   ]
  },
  {
   "cell_type": "code",
   "execution_count": 4,
   "id": "e54b92f4",
   "metadata": {},
   "outputs": [
    {
     "data": {
      "text/plain": [
       "(array([[0.00523337, 0.        , 0.        , 0.01046674, 0.        ,\n",
       "         0.00523337, 0.01570011, 0.01046674, 0.0366336 , 0.01570011,\n",
       "         0.05233371, 0.07850057, 0.04710034, 0.04710034, 0.10466742,\n",
       "         0.12036754, 0.1099008 , 0.12560091, 0.20410148, 0.20410148,\n",
       "         0.25120182, 0.27736867, 0.25643519, 0.28260205, 0.24596845,\n",
       "         0.26690193, 0.24073508, 0.26690193, 0.26166856, 0.31923564,\n",
       "         0.22503496, 0.16746788, 0.19363473, 0.11513417, 0.13083428,\n",
       "         0.14130102, 0.12036754, 0.06280045, 0.04186697, 0.02616686,\n",
       "         0.05756708, 0.01570011, 0.02616686, 0.01570011, 0.01046674,\n",
       "         0.01046674, 0.        , 0.        , 0.00523337, 0.00523337],\n",
       "        [0.01046674, 0.        , 0.        , 0.00523337, 0.01046674,\n",
       "         0.01570011, 0.01046674, 0.02616686, 0.02093348, 0.04186697,\n",
       "         0.05756708, 0.06803383, 0.06803383, 0.09943405, 0.08373394,\n",
       "         0.09420068, 0.08373394, 0.18316799, 0.27736867, 0.17270125,\n",
       "         0.24073508, 0.30353553, 0.20410148, 0.26166856, 0.28783542,\n",
       "         0.25643519, 0.28260205, 0.26166856, 0.28260205, 0.25120182,\n",
       "         0.21456822, 0.16223451, 0.15700114, 0.15176777, 0.14653439,\n",
       "         0.09420068, 0.06280045, 0.07850057, 0.05233371, 0.0366336 ,\n",
       "         0.04186697, 0.02616686, 0.00523337, 0.00523337, 0.02616686,\n",
       "         0.        , 0.00523337, 0.00523337, 0.        , 0.        ]]),\n",
       " array([-4.80673333, -4.61565191, -4.42457049, -4.23348908, -4.04240766,\n",
       "        -3.85132624, -3.66024482, -3.4691634 , -3.27808198, -3.08700056,\n",
       "        -2.89591914, -2.70483772, -2.5137563 , -2.32267488, -2.13159346,\n",
       "        -1.94051204, -1.74943062, -1.5583492 , -1.36726778, -1.17618637,\n",
       "        -0.98510495, -0.79402353, -0.60294211, -0.41186069, -0.22077927,\n",
       "        -0.02969785,  0.16138357,  0.35246499,  0.54354641,  0.73462783,\n",
       "         0.92570925,  1.11679067,  1.30787209,  1.49895351,  1.69003493,\n",
       "         1.88111634,  2.07219776,  2.26327918,  2.4543606 ,  2.64544202,\n",
       "         2.83652344,  3.02760486,  3.21868628,  3.4097677 ,  3.60084912,\n",
       "         3.79193054,  3.98301196,  4.17409338,  4.3651748 ,  4.55625622,\n",
       "         4.74733764]),\n",
       " <a list of 2 BarContainer objects>)"
      ]
     },
     "execution_count": 4,
     "metadata": {},
     "output_type": "execute_result"
    }
   ],
   "source": [
    "# Histogramm einer Realisierung\n",
    "plt.hist(rv.rvs(1000), density=1, bins=50)"
   ]
  },
  {
   "cell_type": "code",
   "execution_count": 29,
   "id": "eb7c485b",
   "metadata": {},
   "outputs": [
    {
     "name": "stdout",
     "output_type": "stream",
     "text": [
      "[[-2.54852156 -1.74217332]\n",
      " [ 0.2268845  -1.32054417]\n",
      " [-0.08197384 -1.94312155]\n",
      " ...\n",
      " [ 1.20762505  0.33364996]\n",
      " [ 0.74753006  2.24714338]\n",
      " [ 1.004608    1.35912875]]\n"
     ]
    },
    {
     "data": {
      "text/plain": [
       "1.4111811251238613"
      ]
     },
     "execution_count": 29,
     "metadata": {},
     "output_type": "execute_result"
    }
   ],
   "source": [
    "vals = rv.rvs(size=1000)\n",
    "print(vals)\n",
    "np.std(vals)\n"
   ]
  },
  {
   "cell_type": "code",
   "execution_count": null,
   "id": "316705ef",
   "metadata": {},
   "outputs": [],
   "source": []
  }
 ],
 "metadata": {
  "kernelspec": {
   "display_name": "Python 3 (ipykernel)",
   "language": "python",
   "name": "python3"
  },
  "language_info": {
   "codemirror_mode": {
    "name": "ipython",
    "version": 3
   },
   "file_extension": ".py",
   "mimetype": "text/x-python",
   "name": "python",
   "nbconvert_exporter": "python",
   "pygments_lexer": "ipython3",
   "version": "3.9.7"
  }
 },
 "nbformat": 4,
 "nbformat_minor": 5
}
