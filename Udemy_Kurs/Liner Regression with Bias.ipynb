{
 "cells": [
  {
   "cell_type": "markdown",
   "id": "90b639fb",
   "metadata": {},
   "source": [
    "# °C in °F umrechnen mit Neuron + Bias!"
   ]
  },
  {
   "cell_type": "code",
   "execution_count": 1,
   "id": "113f270a",
   "metadata": {},
   "outputs": [],
   "source": [
    "X = [\n",
    "    [-10],\n",
    "    [0],\n",
    "    [20]\n",
    "]\n",
    "\n",
    "y = [\n",
    "    14,\n",
    "    32,\n",
    "    68\n",
    "]"
   ]
  },
  {
   "cell_type": "code",
   "execution_count": 3,
   "id": "d952bfeb",
   "metadata": {},
   "outputs": [
    {
     "data": {
      "text/plain": [
       "LinearRegression()"
      ]
     },
     "execution_count": 3,
     "metadata": {},
     "output_type": "execute_result"
    }
   ],
   "source": [
    "from sklearn.linear_model import LinearRegression\n",
    "\n",
    "# Bias erlauben! X1 * w1 + Xn * wn + b * 1\n",
    "model = LinearRegression(fit_intercept = True)\n",
    "model.fit(X, y)"
   ]
  },
  {
   "cell_type": "code",
   "execution_count": 9,
   "id": "a6a43739",
   "metadata": {},
   "outputs": [
    {
     "name": "stdout",
     "output_type": "stream",
     "text": [
      "[1.8]\n",
      "32.0\n"
     ]
    }
   ],
   "source": [
    "# Formel X1 * 1.8 + 32\n",
    "print(model.coef_)\n",
    "print(model.intercept_)"
   ]
  }
 ],
 "metadata": {
  "kernelspec": {
   "display_name": "Python 3 (ipykernel)",
   "language": "python",
   "name": "python3"
  },
  "language_info": {
   "codemirror_mode": {
    "name": "ipython",
    "version": 3
   },
   "file_extension": ".py",
   "mimetype": "text/x-python",
   "name": "python",
   "nbconvert_exporter": "python",
   "pygments_lexer": "ipython3",
   "version": "3.9.7"
  }
 },
 "nbformat": 4,
 "nbformat_minor": 5
}
