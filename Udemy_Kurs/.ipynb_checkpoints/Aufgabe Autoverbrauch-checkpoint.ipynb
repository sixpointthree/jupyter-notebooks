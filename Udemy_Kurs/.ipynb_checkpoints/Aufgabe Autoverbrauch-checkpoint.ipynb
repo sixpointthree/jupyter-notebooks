{
 "cells": [
  {
   "cell_type": "code",
   "execution_count": 1,
   "id": "3a0f0321",
   "metadata": {},
   "outputs": [
    {
     "name": "stdout",
     "output_type": "stream",
     "text": [
      "13.067511372473643\n"
     ]
    }
   ],
   "source": [
    "import pandas as pd\n",
    "\n",
    "df = pd.read_csv(\"C:/Users/Steffen/Documents/Jupyter Notebooks/Udemy_Kurs/Kursmaterialien/Kursmaterialien/100 - Ein einzelnes Neuron/mpg-dataset.csv\")\n",
    "\n",
    "def mpg_to_l_per_100km(mpg):\n",
    "    LITERS_PER_GALLON = 3.785421784\n",
    "    KILOMETERS_PER_MILES = 1.609344\n",
    "    return (100 * LITERS_PER_GALLON) / (KILOMETERS_PER_MILES * mpg)\n",
    "\n",
    "print(mpg_to_l_per_100km(18))"
   ]
  },
  {
   "cell_type": "code",
   "execution_count": 2,
   "id": "c67c7540",
   "metadata": {},
   "outputs": [
    {
     "name": "stdout",
     "output_type": "stream",
     "text": [
      "     cylinders  horsepower  weight\n",
      "0            8         130    3504\n",
      "1            8         165    3693\n",
      "2            8         150    3436\n",
      "3            8         150    3433\n",
      "4            8         140    3449\n",
      "..         ...         ...     ...\n",
      "387          4          86    2790\n",
      "388          4          52    2130\n",
      "389          4          84    2295\n",
      "390          4          79    2625\n",
      "391          4          82    2720\n",
      "\n",
      "[392 rows x 3 columns]\n"
     ]
    }
   ],
   "source": [
    "X = df[[\"cylinders\", \"horsepower\", \"weight\"]]\n",
    "print(X)"
   ]
  },
  {
   "cell_type": "code",
   "execution_count": 3,
   "id": "a0a7c355",
   "metadata": {},
   "outputs": [
    {
     "name": "stdout",
     "output_type": "stream",
     "text": [
      "0      18.0\n",
      "1      15.0\n",
      "2      18.0\n",
      "3      16.0\n",
      "4      17.0\n",
      "       ... \n",
      "387    27.0\n",
      "388    44.0\n",
      "389    32.0\n",
      "390    28.0\n",
      "391    31.0\n",
      "Name: mpg, Length: 392, dtype: float64\n"
     ]
    }
   ],
   "source": [
    "y = df[\"mpg\"]\n",
    "print(y)"
   ]
  },
  {
   "cell_type": "code",
   "execution_count": 4,
   "id": "76f09636",
   "metadata": {},
   "outputs": [
    {
     "data": {
      "text/plain": [
       "LinearRegression()"
      ]
     },
     "execution_count": 4,
     "metadata": {},
     "output_type": "execute_result"
    }
   ],
   "source": [
    "# Modell zur Prediction erstellen\n",
    "from sklearn.linear_model import LinearRegression\n",
    "\n",
    "model = LinearRegression(fit_intercept = True)\n",
    "model.fit(X, y)"
   ]
  },
  {
   "cell_type": "code",
   "execution_count": 5,
   "id": "5eb0e34e",
   "metadata": {},
   "outputs": [
    {
     "name": "stdout",
     "output_type": "stream",
     "text": [
      "[-0.38897448 -0.04272767 -0.0052723 ]\n",
      "45.73681722345198\n"
     ]
    }
   ],
   "source": [
    "# Modellparameter:\n",
    "print(model.coef_)\n",
    "print(model.intercept_)"
   ]
  },
  {
   "cell_type": "code",
   "execution_count": 6,
   "id": "bdd036cb",
   "metadata": {},
   "outputs": [
    {
     "data": {
      "text/plain": [
       "array([20.89873457])"
      ]
     },
     "execution_count": 6,
     "metadata": {},
     "output_type": "execute_result"
    }
   ],
   "source": [
    "# Test 8 Zyl, 200 PS, 2500 kg\n",
    "model.predict(\n",
    "[\n",
    "    [8, 200, 2500]\n",
    "]\n",
    ")"
   ]
  },
  {
   "cell_type": "code",
   "execution_count": 8,
   "id": "98ed7cea",
   "metadata": {},
   "outputs": [
    {
     "name": "stdout",
     "output_type": "stream",
     "text": [
      "[0.27574323 0.03284575 0.00229433]\n",
      "-0.5232107041553995\n"
     ]
    }
   ],
   "source": [
    "# Als Liter / 100 km:\n",
    "y_l100km = mpg_to_l_per_100km(y)\n",
    "\n",
    "model_l100km = LinearRegression(fit_intercept = True)\n",
    "model_l100km.fit(X, y_l100km)\n",
    "print(model_l100km.coef_)\n",
    "print(model_l100km.intercept_)"
   ]
  },
  {
   "cell_type": "code",
   "execution_count": 9,
   "id": "a30371ff",
   "metadata": {},
   "outputs": [
    {
     "name": "stdout",
     "output_type": "stream",
     "text": [
      "[13.98769856]\n"
     ]
    }
   ],
   "source": [
    "print(model_l100km.predict([[8, 200, 2500]]))"
   ]
  },
  {
   "cell_type": "code",
   "execution_count": null,
   "id": "ac323d2a",
   "metadata": {},
   "outputs": [],
   "source": []
  }
 ],
 "metadata": {
  "kernelspec": {
   "display_name": "Python 3 (ipykernel)",
   "language": "python",
   "name": "python3"
  },
  "language_info": {
   "codemirror_mode": {
    "name": "ipython",
    "version": 3
   },
   "file_extension": ".py",
   "mimetype": "text/x-python",
   "name": "python",
   "nbconvert_exporter": "python",
   "pygments_lexer": "ipython3",
   "version": "3.9.7"
  }
 },
 "nbformat": 4,
 "nbformat_minor": 5
}
