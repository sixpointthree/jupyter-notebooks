{
 "cells": [
  {
   "cell_type": "markdown",
   "id": "c38aef7e",
   "metadata": {},
   "source": [
    "# Kilometer in Meilen umrechnen mit einzelnem Neuron"
   ]
  },
  {
   "cell_type": "code",
   "execution_count": 32,
   "id": "1dd545be",
   "metadata": {},
   "outputs": [],
   "source": [
    "import numpy as np"
   ]
  },
  {
   "cell_type": "code",
   "execution_count": 19,
   "id": "4eed9b13",
   "metadata": {},
   "outputs": [],
   "source": [
    "X = [\n",
    "    [10], \n",
    "    [15],\n",
    "    [60]\n",
    "]\n",
    "\n",
    "y = [\n",
    "    6.2,\n",
    "    9.3,\n",
    "    37.3\n",
    "]"
   ]
  },
  {
   "cell_type": "code",
   "execution_count": 24,
   "id": "0f1bf1e2",
   "metadata": {},
   "outputs": [
    {
     "data": {
      "text/plain": [
       "LinearRegression(fit_intercept=False)"
      ]
     },
     "execution_count": 24,
     "metadata": {},
     "output_type": "execute_result"
    }
   ],
   "source": [
    "from sklearn.linear_model import LinearRegression\n",
    "\n",
    "model = LinearRegression(fit_intercept = False)\n",
    "model.fit(X, y)"
   ]
  },
  {
   "cell_type": "code",
   "execution_count": 25,
   "id": "9336c7ff",
   "metadata": {},
   "outputs": [
    {
     "data": {
      "text/plain": [
       "array([0.62152866])"
      ]
     },
     "execution_count": 25,
     "metadata": {},
     "output_type": "execute_result"
    }
   ],
   "source": [
    "model.coef_"
   ]
  },
  {
   "cell_type": "code",
   "execution_count": 28,
   "id": "52d69cc4",
   "metadata": {},
   "outputs": [
    {
     "name": "stdout",
     "output_type": "stream",
     "text": [
      "37.291719745222935\n"
     ]
    }
   ],
   "source": [
    "print(60 * model.coef_[0])"
   ]
  },
  {
   "cell_type": "code",
   "execution_count": 30,
   "id": "a87c9270",
   "metadata": {},
   "outputs": [
    {
     "name": "stdout",
     "output_type": "stream",
     "text": [
      "74.58343949044587\n"
     ]
    }
   ],
   "source": [
    "print(120 * model.coef_[0])"
   ]
  },
  {
   "cell_type": "code",
   "execution_count": 31,
   "id": "af4b2475",
   "metadata": {},
   "outputs": [
    {
     "data": {
      "text/plain": [
       "array([74.58343949, 80.79872611])"
      ]
     },
     "execution_count": 31,
     "metadata": {},
     "output_type": "execute_result"
    }
   ],
   "source": [
    "model.predict(\n",
    "[\n",
    "    [120],\n",
    "    [130]\n",
    "]\n",
    ")"
   ]
  },
  {
   "cell_type": "code",
   "execution_count": null,
   "id": "21c82cae",
   "metadata": {},
   "outputs": [],
   "source": []
  }
 ],
 "metadata": {
  "kernelspec": {
   "display_name": "Python 3 (ipykernel)",
   "language": "python",
   "name": "python3"
  },
  "language_info": {
   "codemirror_mode": {
    "name": "ipython",
    "version": 3
   },
   "file_extension": ".py",
   "mimetype": "text/x-python",
   "name": "python",
   "nbconvert_exporter": "python",
   "pygments_lexer": "ipython3",
   "version": "3.9.7"
  }
 },
 "nbformat": 4,
 "nbformat_minor": 5
}
