{
 "cells": [
  {
   "cell_type": "code",
   "execution_count": 1,
   "id": "f9c825ba",
   "metadata": {},
   "outputs": [],
   "source": [
    "# Wenn Daten nicht aufgeteilt sind:\n",
    "#from sklearn.model_selection import train_test_split\n",
    "#X_train, X_test, y_train, y_test = train_test_split(X, y)\n",
    "# Unsere Daten sind aber schon aufgeteilt!"
   ]
  },
  {
   "cell_type": "code",
   "execution_count": 2,
   "id": "6d381936",
   "metadata": {},
   "outputs": [],
   "source": [
    "# Vorstellung: MNIST-Daten!\n",
    "# http://yann.lecun.com/exdb/mnist/\n",
    "# FashionMNIST: https://github.com/zalandoresearch/fashion-mnist\n",
    "\n",
    "import gzip\n",
    "import numpy as np\n",
    "\n",
    "def open_images(filename):\n",
    "    with gzip.open(filename, \"rb\") as file:\n",
    "        data = file.read()\n",
    "        return np.frombuffer(data, dtype=np.uint8, offset=16)\\\n",
    "            .reshape(-1, 28, 28)\\\n",
    "            .astype(np.float32)\n",
    "\n",
    "\n",
    "def open_labels(filename):\n",
    "    with gzip.open(filename, \"rb\") as file:\n",
    "        data = file.read()\n",
    "        return np.frombuffer(data, dtype=np.uint8, offset=8)"
   ]
  },
  {
   "cell_type": "code",
   "execution_count": 3,
   "id": "e2da1b30",
   "metadata": {},
   "outputs": [],
   "source": [
    "X_train = open_images(\"C:/Users/Steffen/Documents/Jupyter Notebooks/Udemy_Kurs/Kursmaterialien/Kursmaterialien/data/fashion/train-images-idx3-ubyte.gz\")\n",
    "y_train = open_labels(\"C:/Users/Steffen/Documents/Jupyter Notebooks/Udemy_Kurs/Kursmaterialien/Kursmaterialien/data/fashion/train-labels-idx1-ubyte.gz\")\n",
    "y_train_is_tshirt = y_train == 0\n",
    "\n",
    "# Testdaten!\n",
    "X_test = open_images(\"C:/Users/Steffen/Documents/Jupyter Notebooks/Udemy_Kurs/Kursmaterialien/Kursmaterialien/data/fashion/t10k-images-idx3-ubyte.gz\")\n",
    "y_test = open_labels(\"C:/Users/Steffen/Documents/Jupyter Notebooks/Udemy_Kurs/Kursmaterialien/Kursmaterialien/data/fashion/t10k-labels-idx1-ubyte.gz\")\n",
    "y_test_is_tshirt = y_test == 0"
   ]
  },
  {
   "cell_type": "code",
   "execution_count": 4,
   "id": "040444d6",
   "metadata": {},
   "outputs": [],
   "source": [
    "from tensorflow.keras.models import Sequential\n",
    "from tensorflow.keras.layers import Dense"
   ]
  },
  {
   "cell_type": "code",
   "execution_count": 5,
   "id": "eee360e1",
   "metadata": {},
   "outputs": [
    {
     "name": "stdout",
     "output_type": "stream",
     "text": [
      "Epoch 1/10\n",
      "60/60 [==============================] - 1s 6ms/step - loss: 0.2660 - accuracy: 0.9003\n",
      "Epoch 2/10\n",
      "60/60 [==============================] - 0s 6ms/step - loss: 0.1797 - accuracy: 0.9295\n",
      "Epoch 3/10\n",
      "60/60 [==============================] - 0s 6ms/step - loss: 0.1569 - accuracy: 0.9449\n",
      "Epoch 4/10\n",
      "60/60 [==============================] - 0s 6ms/step - loss: 0.1446 - accuracy: 0.9500\n",
      "Epoch 5/10\n",
      "60/60 [==============================] - 0s 6ms/step - loss: 0.1364 - accuracy: 0.9516\n",
      "Epoch 6/10\n",
      "60/60 [==============================] - 0s 6ms/step - loss: 0.1300 - accuracy: 0.9528\n",
      "Epoch 7/10\n",
      "60/60 [==============================] - 0s 6ms/step - loss: 0.1262 - accuracy: 0.9534\n",
      "Epoch 8/10\n",
      "60/60 [==============================] - 0s 6ms/step - loss: 0.1234 - accuracy: 0.9541\n",
      "Epoch 9/10\n",
      "60/60 [==============================] - 0s 7ms/step - loss: 0.1205 - accuracy: 0.9544\n",
      "Epoch 10/10\n",
      "60/60 [==============================] - 0s 7ms/step - loss: 0.1185 - accuracy: 0.9546\n"
     ]
    },
    {
     "data": {
      "text/plain": [
       "<keras.callbacks.History at 0x2b9b8faaf10>"
      ]
     },
     "execution_count": 5,
     "metadata": {},
     "output_type": "execute_result"
    }
   ],
   "source": [
    "model = Sequential()\n",
    "# 100 Neuronen im Hidden Layer, Sigmoid als Aktivierungsfunktion, 28 x 28 px --> 784 Eingänge\n",
    "model.add(Dense(100, activation=\"sigmoid\", input_shape=(784,)))\n",
    "# 1 Ausgangsneuron, Sigmoid als Aktivierungsfunktion\n",
    "model.add(Dense(1, activation=\"sigmoid\"))\n",
    "# Modell kompilieren --> Code wird für Hardware (GPU) vorbereitet, optimizer für weights: Stochastic Gradient Descent, Metriken angeben\n",
    "model.compile(optimizer=\"sgd\", loss=\"binary_crossentropy\", metrics=[\"accuracy\"])\n",
    "# X_train Daten reshapen Matrix von 28 x 28 --> Liste 784\n",
    "X_train_784 = X_train.reshape(60000, 784)\n",
    "# fit(Eingabedaten, Labels, Epochen: Daten werden 10x durchlaufen, Batch Size: batch von 1000 Eingabedaten, dann weight opt.)\n",
    "model.fit(X_train_784, y_train_is_tshirt, epochs=10, batch_size=1000)"
   ]
  },
  {
   "cell_type": "code",
   "execution_count": 8,
   "id": "c86b839c",
   "metadata": {},
   "outputs": [
    {
     "name": "stdout",
     "output_type": "stream",
     "text": [
      "['loss', 'accuracy']\n",
      "313/313 [==============================] - 1s 1ms/step - loss: 0.1229 - accuracy: 0.9536\n"
     ]
    },
    {
     "data": {
      "text/plain": [
       "[0.12286950647830963, 0.9535999894142151]"
      ]
     },
     "execution_count": 8,
     "metadata": {},
     "output_type": "execute_result"
    }
   ],
   "source": [
    "# Genauigkeit mit Testdaten bestimmen\n",
    "print(model.metrics_names)\n",
    "X_test_784 = X_test.reshape(10000, 784)\n",
    "model.evaluate(X_test_784, y_test_is_tshirt)"
   ]
  },
  {
   "cell_type": "code",
   "execution_count": null,
   "id": "3a8cabf4",
   "metadata": {},
   "outputs": [],
   "source": []
  }
 ],
 "metadata": {
  "kernelspec": {
   "display_name": "Python 3 (ipykernel)",
   "language": "python",
   "name": "python3"
  },
  "language_info": {
   "codemirror_mode": {
    "name": "ipython",
    "version": 3
   },
   "file_extension": ".py",
   "mimetype": "text/x-python",
   "name": "python",
   "nbconvert_exporter": "python",
   "pygments_lexer": "ipython3",
   "version": "3.9.7"
  }
 },
 "nbformat": 4,
 "nbformat_minor": 5
}
