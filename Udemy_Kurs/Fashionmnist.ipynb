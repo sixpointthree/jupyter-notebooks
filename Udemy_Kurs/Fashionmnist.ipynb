{
 "cells": [
  {
   "cell_type": "code",
   "execution_count": 1,
   "id": "70ddc1e1",
   "metadata": {},
   "outputs": [],
   "source": [
    "# Vorstellung: MNIST-Daten!\n",
    "# http://yann.lecun.com/exdb/mnist/\n",
    "# FashionMNIST: https://github.com/zalandoresearch/fashion-mnist\n",
    "\n",
    "import gzip\n",
    "import numpy as np\n",
    "\n",
    "def open_images(filename):\n",
    "    with gzip.open(filename, \"rb\") as file:\n",
    "        data = file.read()\n",
    "        return np.frombuffer(data, dtype=np.uint8, offset=16)\\\n",
    "            .reshape(-1, 28, 28)\\\n",
    "            .astype(np.float32)\n",
    "\n",
    "\n",
    "def open_labels(filename):\n",
    "    with gzip.open(filename, \"rb\") as file:\n",
    "        data = file.read()\n",
    "        return np.frombuffer(data, dtype=np.uint8, offset=8)"
   ]
  },
  {
   "cell_type": "code",
   "execution_count": 9,
   "id": "c7e815fd",
   "metadata": {},
   "outputs": [
    {
     "data": {
      "text/plain": [
       "(60000, 28, 28)"
      ]
     },
     "execution_count": 9,
     "metadata": {},
     "output_type": "execute_result"
    }
   ],
   "source": [
    "X_train = open_images(\"C:/Users/Steffen/Documents/Jupyter Notebooks/Udemy_Kurs/Kursmaterialien/Kursmaterialien/data/fashion/train-images-idx3-ubyte.gz\")\n",
    "X_train.shape"
   ]
  },
  {
   "cell_type": "code",
   "execution_count": 10,
   "id": "2b969eae",
   "metadata": {},
   "outputs": [],
   "source": [
    "# Um hier in Umgebung ausgeben\n",
    "%matplotlib inline\n",
    "import matplotlib.pyplot as plt"
   ]
  },
  {
   "cell_type": "code",
   "execution_count": 19,
   "id": "5ffe32a7",
   "metadata": {},
   "outputs": [
    {
     "data": {
      "text/plain": [
       "<matplotlib.image.AxesImage at 0x27581312580>"
      ]
     },
     "execution_count": 19,
     "metadata": {},
     "output_type": "execute_result"
    },
    {
     "data": {
      "image/png": "[encoded data removed]",
      "text/plain": [
       "<Figure size 432x288 with 1 Axes>"
      ]
     },
     "metadata": {
      "needs_background": "light"
     },
     "output_type": "display_data"
    }
   ],
   "source": [
    "# Bild anzeigen, cmap um Bild einzufärben - Wert \"gray\" oder \"gray_r\" für reverse\n",
    "plt.imshow(X_train[1], cmap=\"gray_r\")\n"
   ]
  },
  {
   "cell_type": "code",
   "execution_count": 31,
   "id": "e3412d87",
   "metadata": {},
   "outputs": [
    {
     "data": {
      "text/plain": [
       "array([False,  True,  True, ..., False,  True, False])"
      ]
     },
     "execution_count": 31,
     "metadata": {},
     "output_type": "execute_result"
    }
   ],
   "source": [
    "# Labeldaten importieren\n",
    "y_train = open_labels(\"C:/Users/Steffen/Documents/Jupyter Notebooks/Udemy_Kurs/Kursmaterialien/Kursmaterialien/data/fashion/train-labels-idx1-ubyte.gz\")\n",
    "# Ein Label ausgeben\n",
    "y_train[1]\n",
    "\n",
    "# y_train enthält 0-9. Array kann mit == operator in array mit bool verändert werden\n",
    "y_train_is_tshirt = y_train == 0   # Kategorie T-shirt/top\n",
    "y_train_is_tshirt"
   ]
  },
  {
   "cell_type": "markdown",
   "id": "01aa848f",
   "metadata": {},
   "source": [
    "![Label-Legende](./Labelbezeichner_fashionmnist.png)"
   ]
  },
  {
   "cell_type": "code",
   "execution_count": 40,
   "id": "91aedba6",
   "metadata": {},
   "outputs": [],
   "source": [
    "from tensorflow.keras.models import Sequential\n",
    "from tensorflow.keras.layers import Dense"
   ]
  },
  {
   "cell_type": "code",
   "execution_count": 41,
   "id": "76c5cb18",
   "metadata": {},
   "outputs": [],
   "source": [
    "model = Sequential()\n",
    "# 100 Neuronen im Hidden Layer, Sigmoid als Aktivierungsfunktion, 28 x 28 px --> 784 Eingänge\n",
    "model.add(Dense(100, activation=\"sigmoid\", input_shape=(784,)))\n",
    "# 1 Ausgangsneuron, Sigmoid als Aktivierungsfunktion\n",
    "model.add(Dense(1, activation=\"sigmoid\"))\n",
    "# Modell kompilieren --> Code wird für Hardware (GPU) vorbereitet, optimizer für weights: Stochastic Gradient Descent\n",
    "model.compile(optimizer=\"sgd\", loss=\"binary_crossentropy\")"
   ]
  },
  {
   "cell_type": "code",
   "execution_count": 42,
   "id": "66ecd8b6",
   "metadata": {},
   "outputs": [
    {
     "name": "stdout",
     "output_type": "stream",
     "text": [
      "Epoch 1/10\n",
      "60/60 [==============================] - 1s 6ms/step - loss: 0.2778\n",
      "Epoch 2/10\n",
      "60/60 [==============================] - 0s 6ms/step - loss: 0.1810\n",
      "Epoch 3/10\n",
      "60/60 [==============================] - 0s 6ms/step - loss: 0.1611\n",
      "Epoch 4/10\n",
      "60/60 [==============================] - 0s 6ms/step - loss: 0.1490\n",
      "Epoch 5/10\n",
      "60/60 [==============================] - 0s 6ms/step - loss: 0.1407\n",
      "Epoch 6/10\n",
      "60/60 [==============================] - 0s 6ms/step - loss: 0.1343\n",
      "Epoch 7/10\n",
      "60/60 [==============================] - 0s 6ms/step - loss: 0.1294\n",
      "Epoch 8/10\n",
      "60/60 [==============================] - 0s 6ms/step - loss: 0.1257\n",
      "Epoch 9/10\n",
      "60/60 [==============================] - 0s 6ms/step - loss: 0.1226\n",
      "Epoch 10/10\n",
      "60/60 [==============================] - 0s 6ms/step - loss: 0.1201\n"
     ]
    },
    {
     "data": {
      "text/plain": [
       "<keras.callbacks.History at 0x27588d3baf0>"
      ]
     },
     "execution_count": 42,
     "metadata": {},
     "output_type": "execute_result"
    }
   ],
   "source": [
    "# X_train Daten reshapen Matrix von 28 x 28 --> Liste 784\n",
    "X_train_784 = X_train.reshape(60000, 784)\n",
    "# fit(Eingabedaten, Labels, Epochen: Daten werden 10x durchlaufen, Batch Size: batch von 1000 Eingabedaten, dann weight opt.)\n",
    "model.fit(X_train_784, y_train_is_tshirt, epochs=10, batch_size=1000)"
   ]
  },
  {
   "cell_type": "code",
   "execution_count": 46,
   "id": "07ffffa8",
   "metadata": {},
   "outputs": [
    {
     "name": "stdout",
     "output_type": "stream",
     "text": [
      "True\n"
     ]
    }
   ],
   "source": [
    "print(y_train_is_tshirt[1])"
   ]
  },
  {
   "cell_type": "code",
   "execution_count": 47,
   "id": "3da2083e",
   "metadata": {},
   "outputs": [
    {
     "data": {
      "text/plain": [
       "array([[0.84116405]], dtype=float32)"
      ]
     },
     "execution_count": 47,
     "metadata": {},
     "output_type": "execute_result"
    }
   ],
   "source": [
    "model.predict(X_train_784[1].reshape(1, 784))"
   ]
  },
  {
   "cell_type": "code",
   "execution_count": null,
   "id": "abdae67c",
   "metadata": {},
   "outputs": [],
   "source": []
  }
 ],
 "metadata": {
  "kernelspec": {
   "display_name": "Python 3 (ipykernel)",
   "language": "python",
   "name": "python3"
  },
  "language_info": {
   "codemirror_mode": {
    "name": "ipython",
    "version": 3
   },
   "file_extension": ".py",
   "mimetype": "text/x-python",
   "name": "python",
   "nbconvert_exporter": "python",
   "pygments_lexer": "ipython3",
   "version": "3.9.7"
  }
 },
 "nbformat": 4,
 "nbformat_minor": 5
}
