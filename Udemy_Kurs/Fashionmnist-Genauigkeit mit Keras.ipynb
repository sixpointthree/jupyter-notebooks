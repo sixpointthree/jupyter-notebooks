{
 "cells": [
  {
   "cell_type": "code",
   "execution_count": 1,
   "id": "6d381936",
   "metadata": {},
   "outputs": [],
   "source": [
    "# Vorstellung: MNIST-Daten!\n",
    "# http://yann.lecun.com/exdb/mnist/\n",
    "# FashionMNIST: https://github.com/zalandoresearch/fashion-mnist\n",
    "\n",
    "import gzip\n",
    "import numpy as np\n",
    "\n",
    "def open_images(filename):\n",
    "    with gzip.open(filename, \"rb\") as file:\n",
    "        data = file.read()\n",
    "        return np.frombuffer(data, dtype=np.uint8, offset=16)\\\n",
    "            .reshape(-1, 28, 28)\\\n",
    "            .astype(np.float32)\n",
    "\n",
    "\n",
    "def open_labels(filename):\n",
    "    with gzip.open(filename, \"rb\") as file:\n",
    "        data = file.read()\n",
    "        return np.frombuffer(data, dtype=np.uint8, offset=8)"
   ]
  },
  {
   "cell_type": "code",
   "execution_count": 2,
   "id": "e2da1b30",
   "metadata": {},
   "outputs": [],
   "source": [
    "X_train = open_images(\"C:/Users/Steffen/Documents/Jupyter Notebooks/Udemy_Kurs/Kursmaterialien/Kursmaterialien/data/fashion/train-images-idx3-ubyte.gz\")\n",
    "y_train = open_labels(\"C:/Users/Steffen/Documents/Jupyter Notebooks/Udemy_Kurs/Kursmaterialien/Kursmaterialien/data/fashion/train-labels-idx1-ubyte.gz\")\n",
    "y_train_is_tshirt = y_train == 0"
   ]
  },
  {
   "cell_type": "code",
   "execution_count": 3,
   "id": "040444d6",
   "metadata": {},
   "outputs": [],
   "source": [
    "from tensorflow.keras.models import Sequential\n",
    "from tensorflow.keras.layers import Dense"
   ]
  },
  {
   "cell_type": "code",
   "execution_count": 10,
   "id": "eee360e1",
   "metadata": {},
   "outputs": [
    {
     "name": "stdout",
     "output_type": "stream",
     "text": [
      "Epoch 1/10\n",
      "60/60 [==============================] - 1s 6ms/step - loss: 0.2783 - accuracy: 0.8865\n",
      "Epoch 2/10\n",
      "60/60 [==============================] - 0s 6ms/step - loss: 0.1768 - accuracy: 0.9329\n",
      "Epoch 3/10\n",
      "60/60 [==============================] - 0s 6ms/step - loss: 0.1552 - accuracy: 0.9449\n",
      "Epoch 4/10\n",
      "60/60 [==============================] - 0s 6ms/step - loss: 0.1440 - accuracy: 0.9492\n",
      "Epoch 5/10\n",
      "60/60 [==============================] - 0s 6ms/step - loss: 0.1359 - accuracy: 0.9509\n",
      "Epoch 6/10\n",
      "60/60 [==============================] - 0s 6ms/step - loss: 0.1304 - accuracy: 0.9523\n",
      "Epoch 7/10\n",
      "60/60 [==============================] - 0s 6ms/step - loss: 0.1267 - accuracy: 0.9529\n",
      "Epoch 8/10\n",
      "60/60 [==============================] - 0s 6ms/step - loss: 0.1233 - accuracy: 0.9538\n",
      "Epoch 9/10\n",
      "60/60 [==============================] - 0s 6ms/step - loss: 0.1211 - accuracy: 0.9539\n",
      "Epoch 10/10\n",
      "60/60 [==============================] - 0s 6ms/step - loss: 0.1189 - accuracy: 0.9540\n"
     ]
    },
    {
     "data": {
      "text/plain": [
       "<keras.callbacks.History at 0x16de51cae50>"
      ]
     },
     "execution_count": 10,
     "metadata": {},
     "output_type": "execute_result"
    }
   ],
   "source": [
    "model = Sequential()\n",
    "# 100 Neuronen im Hidden Layer, Sigmoid als Aktivierungsfunktion, 28 x 28 px --> 784 Eingänge\n",
    "model.add(Dense(100, activation=\"sigmoid\", input_shape=(784,)))\n",
    "# 1 Ausgangsneuron, Sigmoid als Aktivierungsfunktion\n",
    "model.add(Dense(1, activation=\"sigmoid\"))\n",
    "# Modell kompilieren --> Code wird für Hardware (GPU) vorbereitet, optimizer für weights: Stochastic Gradient Descent, Metriken angeben\n",
    "model.compile(optimizer=\"sgd\", loss=\"binary_crossentropy\", metrics=[\"accuracy\"])\n",
    "# X_train Daten reshapen Matrix von 28 x 28 --> Liste 784\n",
    "X_train_784 = X_train.reshape(60000, 784)\n",
    "# fit(Eingabedaten, Labels, Epochen: Daten werden 10x durchlaufen, Batch Size: batch von 1000 Eingabedaten, dann weight opt.)\n",
    "model.fit(X_train_784, y_train_is_tshirt, epochs=10, batch_size=1000)"
   ]
  },
  {
   "cell_type": "code",
   "execution_count": 13,
   "id": "c86b839c",
   "metadata": {},
   "outputs": [
    {
     "name": "stdout",
     "output_type": "stream",
     "text": [
      "['loss', 'accuracy']\n",
      "1875/1875 [==============================] - 2s 995us/step - loss: 0.1176 - accuracy: 0.9547\n"
     ]
    },
    {
     "data": {
      "text/plain": [
       "[0.11760213971138, 0.9546666741371155]"
      ]
     },
     "execution_count": 13,
     "metadata": {},
     "output_type": "execute_result"
    }
   ],
   "source": [
    "# Achtung! Genauigkeit nicht repräsentativ, da Trainingsdaten zum Validieren verwendet wurde --> \"Overfitting\" auf Traininsdaten!\n",
    "print(model.metrics_names)\n",
    "model.evaluate(X_train_784, y_train_is_tshirt)"
   ]
  },
  {
   "cell_type": "code",
   "execution_count": null,
   "id": "fb150512",
   "metadata": {},
   "outputs": [],
   "source": []
  }
 ],
 "metadata": {
  "kernelspec": {
   "display_name": "Python 3 (ipykernel)",
   "language": "python",
   "name": "python3"
  },
  "language_info": {
   "codemirror_mode": {
    "name": "ipython",
    "version": 3
   },
   "file_extension": ".py",
   "mimetype": "text/x-python",
   "name": "python",
   "nbconvert_exporter": "python",
   "pygments_lexer": "ipython3",
   "version": "3.9.7"
  }
 },
 "nbformat": 4,
 "nbformat_minor": 5
}
