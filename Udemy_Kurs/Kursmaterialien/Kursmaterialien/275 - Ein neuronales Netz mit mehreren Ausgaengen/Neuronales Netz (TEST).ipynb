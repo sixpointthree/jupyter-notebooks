{
 "cells": [
  {
   "cell_type": "code",
   "execution_count": 25,
   "metadata": {},
   "outputs": [],
   "source": [
    "# Vorstellung: MNIST-Daten!\n",
    "# http://yann.lecun.com/exdb/mnist/\n",
    "# FashionMNIST: https://github.com/zalandoresearch/fashion-mnist\n",
    "\n",
    "import gzip\n",
    "import numpy as np\n",
    "from keras.utils import to_categorical\n",
    "\n",
    "def open_images(filename):\n",
    "    with gzip.open(filename, \"rb\") as file:\n",
    "        data = file.read()\n",
    "        return np.frombuffer(data, dtype=np.uint8, offset=16)\\\n",
    "            .reshape(-1, 28, 28)\\\n",
    "            .astype(np.float32)\n",
    "\n",
    "\n",
    "def open_labels(filename):\n",
    "    with gzip.open(filename, \"rb\") as file:\n",
    "        data = file.read()\n",
    "        return np.frombuffer(data, dtype=np.uint8, offset=8)\n",
    "    \n",
    "X_train = open_images(\"../data/fashion/train-images-idx3-ubyte.gz\")\n",
    "y_train = open_labels(\"../data/fashion/train-labels-idx1-ubyte.gz\")\n",
    "\n",
    "X_test = open_images(\"../data/fashion/t10k-images-idx3-ubyte.gz\")\n",
    "y_test = open_labels(\"../data/fashion/t10k-labels-idx1-ubyte.gz\")\n",
    "\n",
    "y_train = to_categorical(y_train)\n",
    "y_test = to_categorical(y_test)"
   ]
  },
  {
   "cell_type": "markdown",
   "metadata": {},
   "source": [
    "### Neuronales Netz (mit Softmax)"
   ]
  },
  {
   "cell_type": "code",
   "execution_count": 19,
   "metadata": {},
   "outputs": [],
   "source": []
  },
  {
   "cell_type": "code",
   "execution_count": 26,
   "metadata": {
    "scrolled": true
   },
   "outputs": [
    {
     "name": "stdout",
     "output_type": "stream",
     "text": [
      "Epoch 1/100\n",
      "60000/60000 [==============================] - 4s 60us/step - loss: 2.8121 - acc: 0.2374\n",
      "Epoch 2/100\n",
      "60000/60000 [==============================] - 3s 44us/step - loss: 2.0585 - acc: 0.4261\n",
      "Epoch 3/100\n",
      "60000/60000 [==============================] - 3s 44us/step - loss: 1.9048 - acc: 0.4918\n",
      "Epoch 4/100\n",
      "60000/60000 [==============================] - 3s 44us/step - loss: 1.8108 - acc: 0.5232\n",
      "Epoch 5/100\n",
      "60000/60000 [==============================] - 3s 44us/step - loss: 1.7278 - acc: 0.5399\n",
      "Epoch 6/100\n",
      "60000/60000 [==============================] - 3s 46us/step - loss: 1.6330 - acc: 0.5543\n",
      "Epoch 7/100\n",
      "60000/60000 [==============================] - 3s 46us/step - loss: 1.3806 - acc: 0.6086\n",
      "Epoch 8/100\n",
      "60000/60000 [==============================] - 3s 47us/step - loss: 1.0893 - acc: 0.6838\n",
      "Epoch 9/100\n",
      "60000/60000 [==============================] - 3s 46us/step - loss: 0.9543 - acc: 0.7181\n",
      "Epoch 10/100\n",
      "60000/60000 [==============================] - 3s 46us/step - loss: 0.8687 - acc: 0.7384\n",
      "Epoch 11/100\n",
      "60000/60000 [==============================] - 3s 47us/step - loss: 0.8113 - acc: 0.7490\n",
      "Epoch 12/100\n",
      "60000/60000 [==============================] - 3s 48us/step - loss: 0.7681 - acc: 0.7576\n",
      "Epoch 13/100\n",
      "60000/60000 [==============================] - 3s 46us/step - loss: 0.7338 - acc: 0.7659\n",
      "Epoch 14/100\n",
      "60000/60000 [==============================] - 3s 46us/step - loss: 0.7014 - acc: 0.7747\n",
      "Epoch 15/100\n",
      "60000/60000 [==============================] - 3s 46us/step - loss: 0.6713 - acc: 0.7829\n",
      "Epoch 16/100\n",
      "60000/60000 [==============================] - 3s 47us/step - loss: 0.6395 - acc: 0.7928\n",
      "Epoch 17/100\n",
      "60000/60000 [==============================] - 3s 48us/step - loss: 0.6130 - acc: 0.7987\n",
      "Epoch 18/100\n",
      "60000/60000 [==============================] - 3s 48us/step - loss: 0.5878 - acc: 0.8042\n",
      "Epoch 19/100\n",
      "60000/60000 [==============================] - 3s 45us/step - loss: 0.5668 - acc: 0.8091\n",
      "Epoch 20/100\n",
      "60000/60000 [==============================] - 3s 45us/step - loss: 0.5440 - acc: 0.8165\n",
      "Epoch 21/100\n",
      "60000/60000 [==============================] - 3s 46us/step - loss: 0.5267 - acc: 0.8207\n",
      "Epoch 22/100\n",
      "60000/60000 [==============================] - 3s 52us/step - loss: 0.5123 - acc: 0.8253\n",
      "Epoch 23/100\n",
      "60000/60000 [==============================] - 3s 51us/step - loss: 0.5031 - acc: 0.8264\n",
      "Epoch 24/100\n",
      "60000/60000 [==============================] - 3s 45us/step - loss: 0.4950 - acc: 0.8310\n",
      "Epoch 25/100\n",
      "60000/60000 [==============================] - 3s 45us/step - loss: 0.4885 - acc: 0.8310\n",
      "Epoch 26/100\n",
      "60000/60000 [==============================] - 3s 44us/step - loss: 0.4831 - acc: 0.8326\n",
      "Epoch 27/100\n",
      "60000/60000 [==============================] - 3s 54us/step - loss: 0.4797 - acc: 0.8323\n",
      "Epoch 28/100\n",
      "60000/60000 [==============================] - 4s 66us/step - loss: 0.4746 - acc: 0.8352\n",
      "Epoch 29/100\n",
      "60000/60000 [==============================] - 4s 62us/step - loss: 0.4707 - acc: 0.8355\n",
      "Epoch 30/100\n",
      "60000/60000 [==============================] - 4s 62us/step - loss: 0.4691 - acc: 0.8367\n",
      "Epoch 31/100\n",
      "60000/60000 [==============================] - 3s 55us/step - loss: 0.4662 - acc: 0.8364\n",
      "Epoch 32/100\n",
      "60000/60000 [==============================] - 3s 57us/step - loss: 0.4618 - acc: 0.8376\n",
      "Epoch 33/100\n",
      "60000/60000 [==============================] - 3s 56us/step - loss: 0.4596 - acc: 0.8383\n",
      "Epoch 34/100\n",
      "60000/60000 [==============================] - 3s 57us/step - loss: 0.4565 - acc: 0.8410\n",
      "Epoch 35/100\n",
      "60000/60000 [==============================] - 4s 60us/step - loss: 0.4548 - acc: 0.8386\n",
      "Epoch 36/100\n",
      "60000/60000 [==============================] - 3s 57us/step - loss: 0.4526 - acc: 0.8403\n",
      "Epoch 37/100\n",
      "60000/60000 [==============================] - 3s 55us/step - loss: 0.4501 - acc: 0.8415\n",
      "Epoch 38/100\n",
      "60000/60000 [==============================] - 4s 63us/step - loss: 0.4471 - acc: 0.8418\n",
      "Epoch 39/100\n",
      "60000/60000 [==============================] - 4s 66us/step - loss: 0.4445 - acc: 0.8432\n",
      "Epoch 40/100\n",
      "60000/60000 [==============================] - 4s 66us/step - loss: 0.4410 - acc: 0.8444\n",
      "Epoch 41/100\n",
      "60000/60000 [==============================] - 4s 59us/step - loss: 0.4396 - acc: 0.8452\n",
      "Epoch 42/100\n",
      "60000/60000 [==============================] - 4s 61us/step - loss: 0.4371 - acc: 0.8453\n",
      "Epoch 43/100\n",
      "60000/60000 [==============================] - 4s 59us/step - loss: 0.4334 - acc: 0.8477\n",
      "Epoch 44/100\n",
      "60000/60000 [==============================] - 3s 58us/step - loss: 0.4307 - acc: 0.8492\n",
      "Epoch 45/100\n",
      "60000/60000 [==============================] - 3s 54us/step - loss: 0.4287 - acc: 0.8492\n",
      "Epoch 46/100\n",
      "60000/60000 [==============================] - 3s 55us/step - loss: 0.4269 - acc: 0.8491\n",
      "Epoch 47/100\n",
      "60000/60000 [==============================] - 3s 54us/step - loss: 0.4232 - acc: 0.8511\n",
      "Epoch 48/100\n",
      "60000/60000 [==============================] - 4s 63us/step - loss: 0.4224 - acc: 0.8500\n",
      "Epoch 49/100\n",
      "60000/60000 [==============================] - 4s 62us/step - loss: 0.4191 - acc: 0.8519\n",
      "Epoch 50/100\n",
      "60000/60000 [==============================] - 4s 61us/step - loss: 0.4169 - acc: 0.8529\n",
      "Epoch 51/100\n",
      "60000/60000 [==============================] - 4s 63us/step - loss: 0.4140 - acc: 0.8524\n",
      "Epoch 52/100\n",
      "60000/60000 [==============================] - 3s 58us/step - loss: 0.4145 - acc: 0.8526\n",
      "Epoch 53/100\n",
      "60000/60000 [==============================] - 3s 55us/step - loss: 0.4110 - acc: 0.8553\n",
      "Epoch 54/100\n",
      "60000/60000 [==============================] - 3s 57us/step - loss: 0.4094 - acc: 0.8557\n",
      "Epoch 55/100\n",
      "60000/60000 [==============================] - 3s 56us/step - loss: 0.4086 - acc: 0.8562\n",
      "Epoch 56/100\n",
      "60000/60000 [==============================] - 4s 58us/step - loss: 0.4077 - acc: 0.8556\n",
      "Epoch 57/100\n",
      "60000/60000 [==============================] - 4s 67us/step - loss: 0.4069 - acc: 0.8563\n",
      "Epoch 58/100\n",
      "60000/60000 [==============================] - 4s 63us/step - loss: 0.4044 - acc: 0.8569\n",
      "Epoch 59/100\n",
      "60000/60000 [==============================] - 4s 60us/step - loss: 0.4021 - acc: 0.8579\n",
      "Epoch 60/100\n",
      "60000/60000 [==============================] - 4s 62us/step - loss: 0.4010 - acc: 0.8571\n",
      "Epoch 61/100\n",
      "60000/60000 [==============================] - 4s 62us/step - loss: 0.3995 - acc: 0.8584\n",
      "Epoch 62/100\n",
      "60000/60000 [==============================] - 4s 61us/step - loss: 0.3987 - acc: 0.8580\n",
      "Epoch 63/100\n",
      "60000/60000 [==============================] - 4s 62us/step - loss: 0.3968 - acc: 0.8600\n",
      "Epoch 64/100\n",
      "60000/60000 [==============================] - 4s 61us/step - loss: 0.3961 - acc: 0.8585\n",
      "Epoch 65/100\n",
      "60000/60000 [==============================] - 4s 64us/step - loss: 0.3952 - acc: 0.8590\n",
      "Epoch 66/100\n",
      "60000/60000 [==============================] - 4s 61us/step - loss: 0.3942 - acc: 0.8596\n",
      "Epoch 67/100\n",
      "60000/60000 [==============================] - 4s 61us/step - loss: 0.3936 - acc: 0.8600\n",
      "Epoch 68/100\n",
      "60000/60000 [==============================] - 4s 61us/step - loss: 0.3922 - acc: 0.8607\n",
      "Epoch 69/100\n",
      "60000/60000 [==============================] - 4s 65us/step - loss: 0.3910 - acc: 0.8609: 0s - loss: 0.3883 - acc\n",
      "Epoch 70/100\n",
      "60000/60000 [==============================] - 4s 66us/step - loss: 0.3904 - acc: 0.8614\n",
      "Epoch 71/100\n",
      "60000/60000 [==============================] - 4s 66us/step - loss: 0.3904 - acc: 0.8604\n",
      "Epoch 72/100\n",
      "60000/60000 [==============================] - 3s 58us/step - loss: 0.3896 - acc: 0.8606\n",
      "Epoch 73/100\n",
      "60000/60000 [==============================] - 4s 62us/step - loss: 0.3879 - acc: 0.8614\n",
      "Epoch 74/100\n",
      "60000/60000 [==============================] - 4s 63us/step - loss: 0.3872 - acc: 0.8632: 1s - loss:\n",
      "Epoch 75/100\n",
      "60000/60000 [==============================] - 4s 61us/step - loss: 0.3876 - acc: 0.8624\n",
      "Epoch 76/100\n",
      "60000/60000 [==============================] - 4s 61us/step - loss: 0.3869 - acc: 0.8625\n",
      "Epoch 77/100\n",
      "60000/60000 [==============================] - 4s 60us/step - loss: 0.3871 - acc: 0.8619\n",
      "Epoch 78/100\n",
      "60000/60000 [==============================] - 4s 62us/step - loss: 0.3864 - acc: 0.8628\n",
      "Epoch 79/100\n",
      "60000/60000 [==============================] - 3s 58us/step - loss: 0.3852 - acc: 0.8632\n",
      "Epoch 80/100\n",
      "60000/60000 [==============================] - 3s 57us/step - loss: 0.3838 - acc: 0.8645\n",
      "Epoch 81/100\n"
     ]
    },
    {
     "name": "stdout",
     "output_type": "stream",
     "text": [
      "60000/60000 [==============================] - 4s 61us/step - loss: 0.3831 - acc: 0.8645\n",
      "Epoch 82/100\n",
      "60000/60000 [==============================] - 3s 58us/step - loss: 0.3836 - acc: 0.8641\n",
      "Epoch 83/100\n",
      "60000/60000 [==============================] - 4s 59us/step - loss: 0.3821 - acc: 0.8641\n",
      "Epoch 84/100\n",
      "60000/60000 [==============================] - 4s 59us/step - loss: 0.3809 - acc: 0.8646\n",
      "Epoch 85/100\n",
      "60000/60000 [==============================] - 3s 57us/step - loss: 0.3812 - acc: 0.8656\n",
      "Epoch 86/100\n",
      "60000/60000 [==============================] - 3s 55us/step - loss: 0.3810 - acc: 0.8651\n",
      "Epoch 87/100\n",
      "60000/60000 [==============================] - 3s 55us/step - loss: 0.3803 - acc: 0.8647\n",
      "Epoch 88/100\n",
      "60000/60000 [==============================] - 3s 56us/step - loss: 0.3791 - acc: 0.8653\n",
      "Epoch 89/100\n",
      "60000/60000 [==============================] - 3s 57us/step - loss: 0.3789 - acc: 0.8657\n",
      "Epoch 90/100\n",
      "60000/60000 [==============================] - 3s 58us/step - loss: 0.3776 - acc: 0.8661\n",
      "Epoch 91/100\n",
      "60000/60000 [==============================] - 4s 59us/step - loss: 0.3782 - acc: 0.8660\n",
      "Epoch 92/100\n",
      "60000/60000 [==============================] - 3s 57us/step - loss: 0.3773 - acc: 0.8664\n",
      "Epoch 93/100\n",
      "60000/60000 [==============================] - 3s 57us/step - loss: 0.3777 - acc: 0.8662\n",
      "Epoch 94/100\n",
      "60000/60000 [==============================] - 4s 60us/step - loss: 0.3771 - acc: 0.8663\n",
      "Epoch 95/100\n",
      "60000/60000 [==============================] - 4s 60us/step - loss: 0.3765 - acc: 0.8664\n",
      "Epoch 96/100\n",
      "60000/60000 [==============================] - 4s 60us/step - loss: 0.3763 - acc: 0.8663\n",
      "Epoch 97/100\n",
      "60000/60000 [==============================] - 4s 60us/step - loss: 0.3764 - acc: 0.8664\n",
      "Epoch 98/100\n",
      "60000/60000 [==============================] - 4s 61us/step - loss: 0.3756 - acc: 0.8676\n",
      "Epoch 99/100\n",
      "60000/60000 [==============================] - 4s 61us/step - loss: 0.3759 - acc: 0.8663\n",
      "Epoch 100/100\n",
      "60000/60000 [==============================] - 4s 62us/step - loss: 0.3743 - acc: 0.8677\n"
     ]
    },
    {
     "data": {
      "text/plain": [
       "<keras.callbacks.History at 0xb30243128>"
      ]
     },
     "execution_count": 26,
     "metadata": {},
     "output_type": "execute_result"
    }
   ],
   "source": [
    "model = Sequential()\n",
    "\n",
    "model.add(Convolution2D(1, activation=\"relu\", input_shape=(28, 28, 1), kernel_size=(3, 3)))\n",
    "model.add(Flatten())\n",
    "model.add(Dense(10, activation=\"softmax\"))\n",
    "\n",
    "# rmsprop, adam\n",
    "model.compile(optimizer=\"adam\", loss=\"categorical_crossentropy\", metrics=[\"accuracy\"])\n",
    "\n",
    "model.fit(\n",
    "    X_train.reshape(60000, 28, 28, 1),\n",
    "    y_train,\n",
    "    epochs=100,\n",
    "    batch_size=1000)"
   ]
  },
  {
   "cell_type": "markdown",
   "metadata": {},
   "source": [
    "### Es gilt: Das Netz passt sich an die Daten an.\n",
    "\n",
    "- Testgenauigkeit nur minimal schlechter wie die Trainingsgenauigkeit: Das Modell darf vermutlich noch was komplexer sein \n",
    "\n",
    "- Testgenauigkeit sehr viel schlechter wie die Trainingsgenauigkeit: Das Modell ist zu komplex (das Modell hat sich zu stark an die Trainingsdaten angepasst)\n",
    "\n",
    "- Beides schlecht: Du brauchst mehr Daten!"
   ]
  },
  {
   "cell_type": "code",
   "execution_count": 22,
   "metadata": {},
   "outputs": [
    {
     "name": "stdout",
     "output_type": "stream",
     "text": [
      "60000/60000 [==============================] - 6s 100us/step\n"
     ]
    },
    {
     "data": {
      "text/plain": [
       "[0.02140176951667915, 0.9951166666666666]"
      ]
     },
     "execution_count": 22,
     "metadata": {},
     "output_type": "execute_result"
    }
   ],
   "source": [
    "model.evaluate(X_train.reshape(-1, 28, 28, 1), y_train)"
   ]
  },
  {
   "cell_type": "code",
   "execution_count": 23,
   "metadata": {},
   "outputs": [
    {
     "name": "stdout",
     "output_type": "stream",
     "text": [
      "10000/10000 [==============================] - 1s 98us/step\n"
     ]
    },
    {
     "data": {
      "text/plain": [
       "[0.394114729565382, 0.9003]"
      ]
     },
     "execution_count": 23,
     "metadata": {},
     "output_type": "execute_result"
    }
   ],
   "source": [
    "model.evaluate(X_test.reshape(-1, 28, 28, 1), y_test)"
   ]
  },
  {
   "cell_type": "code",
   "execution_count": null,
   "metadata": {},
   "outputs": [],
   "source": []
  }
 ],
 "metadata": {
  "kernelspec": {
   "display_name": "Python 3",
   "language": "python",
   "name": "python3"
  },
  "language_info": {
   "codemirror_mode": {
    "name": "ipython",
    "version": 3
   },
   "file_extension": ".py",
   "mimetype": "text/x-python",
   "name": "python",
   "nbconvert_exporter": "python",
   "pygments_lexer": "ipython3",
   "version": "3.6.5"
  }
 },
 "nbformat": 4,
 "nbformat_minor": 2
}
