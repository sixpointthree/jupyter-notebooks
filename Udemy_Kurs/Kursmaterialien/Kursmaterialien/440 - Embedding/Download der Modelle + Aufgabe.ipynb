{
 "cells": [
  {
   "cell_type": "code",
   "execution_count": 2,
   "metadata": {},
   "outputs": [
    {
     "name": "stdout",
     "output_type": "stream",
     "text": [
      "Downloading 106.20376586914062 MB.\n"
     ]
    },
    {
     "data": {
      "application/vnd.jupyter.widget-view+json": {
       "model_id": "a33f7bd4630f44edbd15194662c1fb36",
       "version_major": 2,
       "version_minor": 0
      },
      "text/plain": [
       "HBox(children=(IntProgress(value=0, max=108752), HTML(value='')))"
      ]
     },
     "metadata": {},
     "output_type": "display_data"
    },
    {
     "name": "stdout",
     "output_type": "stream",
     "text": [
      "\n",
      "Done: faust.model\n",
      "Downloading 5.5026397705078125 MB.\n"
     ]
    },
    {
     "data": {
      "application/vnd.jupyter.widget-view+json": {
       "model_id": "5f6b14dee0bc4b37bd3477a028477fe6",
       "version_major": 2,
       "version_minor": 0
      },
      "text/plain": [
       "HBox(children=(IntProgress(value=0, max=5634), HTML(value='')))"
      ]
     },
     "metadata": {},
     "output_type": "display_data"
    },
    {
     "name": "stdout",
     "output_type": "stream",
     "text": [
      "\n",
      "Done: verwandlung.model\n"
     ]
    }
   ],
   "source": [
    "from tqdm import tqdm_notebook as tqdm \n",
    "import requests\n",
    "import math\n",
    "import os\n",
    "import zipfile\n",
    "\n",
    "files = {\n",
    "    \"faust.model\": \"https://downloads.codingcoursestv.eu/037%20-%20neuronale%20netze/faust.model\",\n",
    "    \"verwandlung.model\": \"https://downloads.codingcoursestv.eu/037%20-%20neuronale%20netze/verwandlung.model\"\n",
    "}\n",
    "\n",
    "for local, remote in files.items():\n",
    "    if not os.path.exists(local):\n",
    "        # Streaming, so we can iterate over the response.\n",
    "        r = requests.get(remote, stream=True)\n",
    "\n",
    "        # Total size in bytes.\n",
    "        total_size = int(r.headers.get('content-length', 0));\n",
    "\n",
    "        print(\"Downloading \" + str(total_size / 1024 / 1024) + \" MB.\")\n",
    "\n",
    "        block_size = 1024\n",
    "        with open(local, 'wb') as f:\n",
    "            for data in tqdm(r.iter_content(block_size), total=math.ceil(total_size//block_size), unit='KB', unit_divisor=1024, unit_scale=True):\n",
    "                f.write(data)\n",
    "    \n",
    "    print(\"Done: \" + local)"
   ]
  },
  {
   "cell_type": "markdown",
   "metadata": {},
   "source": [
    "## Aufgabe: Generiere Text auf Basis von \"Faust\" sowie der \"Verwandlung\"!\n",
    "\n",
    "- Lese dazu die passenden Dictionary-Dateien ein (word_to_int, int_to_word)\n",
    "- Lese die Textdatei ein mit dem Ursprungstext (faust.txt / verwandlung.txt)\n",
    "- Wandle den Text in Zahlen um (1:1 so wie in den Notebooks, wo wir das Netz generiert haben), verwende dazu die Variable word_to_int\n",
    "- Wähle aus dem Text 40 Zahlen aus, mit denen du den Prozess starten möchtest\n",
    "- Orientiere dich hierzu am Abschnitt, wo wir Text auf Buchstabenbasis vorhergesagt haben!\n",
    "\n",
    "### Faust:\n",
    "- Daten: `faust.model`, `word_to_int.faust.pickle`, `int_to_word.faust.pickle`\n",
    "\n",
    "### Verwandlung:\n",
    "- Daten: `verwandlung.model`, `word_to_int.pickle`, `int_to_word.pickle`"
   ]
  },
  {
   "cell_type": "code",
   "execution_count": null,
   "metadata": {},
   "outputs": [],
   "source": []
  }
 ],
 "metadata": {
  "kernelspec": {
   "display_name": "Python 3",
   "language": "python",
   "name": "python3"
  },
  "language_info": {
   "codemirror_mode": {
    "name": "ipython",
    "version": 3
   },
   "file_extension": ".py",
   "mimetype": "text/x-python",
   "name": "python",
   "nbconvert_exporter": "python",
   "pygments_lexer": "ipython3",
   "version": "3.6.5"
  }
 },
 "nbformat": 4,
 "nbformat_minor": 2
}
