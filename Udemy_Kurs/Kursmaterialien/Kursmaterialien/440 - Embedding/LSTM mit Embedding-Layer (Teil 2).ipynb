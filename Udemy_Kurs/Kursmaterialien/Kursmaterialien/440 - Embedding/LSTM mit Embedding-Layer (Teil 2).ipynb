{
 "cells": [
  {
   "cell_type": "code",
   "execution_count": 1,
   "metadata": {},
   "outputs": [],
   "source": [
    "with open(\"verwandlung.txt\", \"r\", encoding=\"utf-8\") as file:\n",
    "    contents = file.read()\n",
    "    \n",
    "contents = \"\\n\".join(contents.split(\"\\n\")[59:1952])"
   ]
  },
  {
   "cell_type": "code",
   "execution_count": 7,
   "metadata": {},
   "outputs": [
    {
     "name": "stdout",
     "output_type": "stream",
     "text": [
      "[nltk_data] Downloading package punkt to /home/ubuntu/nltk_data...\n",
      "[nltk_data]   Package punkt is already up-to-date!\n"
     ]
    }
   ],
   "source": [
    "# http://www.nltk.org/\n",
    "\n",
    "import nltk\n",
    "from nltk import word_tokenize\n",
    "from sklearn.feature_extraction.text import CountVectorizer\n",
    "\n",
    "nltk.download('punkt')\n",
    "\n",
    "tokens = word_tokenize(contents)\n",
    "\n",
    "cv = CountVectorizer(max_features=1000, lowercase=False, token_pattern=\"(.*)\")\n",
    "cv.fit(tokens)\n",
    "\n",
    "features = cv.get_feature_names()"
   ]
  },
  {
   "cell_type": "code",
   "execution_count": 13,
   "metadata": {},
   "outputs": [],
   "source": [
    "word_to_int = {}\n",
    "int_to_word = {}\n",
    "\n",
    "for i in range(0, len(features)):\n",
    "    word = features[i]\n",
    "    \n",
    "    word_to_int[word] = i\n",
    "    int_to_word[i] = word"
   ]
  },
  {
   "cell_type": "code",
   "execution_count": 15,
   "metadata": {},
   "outputs": [
    {
     "name": "stdout",
     "output_type": "stream",
     "text": [
      "{0: '', 1: '!', 2: ',', 3: '--', 4: '.', 5: ':', 6: ';', 7: '?', 8: 'Abend', 9: 'Abenden', 10: 'Abends', 11: 'Aber', 12: 'Absicht', 13: 'Als', 14: 'Also', 15: 'Anblick', 16: 'Angestellten', 17: 'Angst', 18: 'Anstrengung', 19: 'Antwort', 20: 'Apfel', 21: 'Arbeit', 22: 'Arm', 23: 'Arme', 24: 'Art', 25: 'Arzt', 26: 'Atem', 27: 'Augen', 28: 'Augenblick', 29: 'Aus', 30: 'Bauch', 31: 'Bedenken', 32: 'Bedienerin', 33: 'Beinchen', 34: 'Beine', 35: 'Beispiel', 36: 'Benehmen', 37: 'Besen', 38: 'Besonders', 39: 'Besserung', 40: 'Bett', 41: 'Bewegung', 42: 'Bild', 43: 'Blick', 44: 'Blicke', 45: 'Blicken', 46: 'Boden', 47: 'Brot', 48: 'Brust', 49: 'Chef', 50: 'Chefs', 51: 'Da', 52: 'Dann', 53: 'Das', 54: 'Decke', 55: 'Denn', 56: 'Der', 57: 'Die', 58: 'Dienstmädchen', 59: 'Diese', 60: 'Dinge', 61: 'Du', 62: 'Dunkel', 63: 'Eigensinn', 64: 'Eile', 65: 'Ein', 66: 'Einmal', 67: 'Eintritt', 68: 'Eltern', 69: 'Ende', 70: 'Entfernung', 71: 'Er', 72: 'Erklärung', 73: 'Erklärungen', 74: 'Erst', 75: 'Es', 76: 'Essen', 77: 'Fall', 78: 'Familie', 79: 'Faust', 80: 'Fenster', 81: 'Finger', 82: 'Fleisch', 83: 'Flucht', 84: 'Fläschchen', 85: 'Forderungen', 86: 'Frau', 87: 'Frauen', 88: 'Fremden', 89: 'Freude', 90: 'Freunde', 91: 'Frühstück', 92: 'Fuß', 93: 'Fußboden', 94: 'Fußspitzen', 95: 'Füße', 96: 'Füßen', 97: 'Ganze', 98: 'Gasse', 99: 'Gedanken', 100: 'Geduld', 101: 'Gefallen', 102: 'Gegenteil', 103: 'Geld', 104: 'Geldverdienens', 105: 'Gelegenheit', 106: 'Geländer', 107: 'Gemüse', 108: 'Geringste', 109: 'Geräusch', 110: 'Geschäft', 111: 'Geschäfte', 112: 'Gesicht', 113: 'Gespräch', 114: 'Gewalt', 115: 'Gott', 116: 'Gregor', 117: 'Gregors', 118: 'Grete', 119: 'Gretes', 120: 'Grund', 121: 'Güte', 122: 'Hals', 123: 'Hand', 124: 'Hause', 125: 'Herr', 126: 'Herren', 127: 'Herrn', 128: 'Hilfe', 129: 'Hoffnung', 130: 'Hunger', 131: 'Hände', 132: 'Händen', 133: 'Hätte', 134: 'Höflichkeit', 135: 'Höhe', 136: 'Ich', 137: 'Ihm', 138: 'Ihnen', 139: 'Ihre', 140: 'Im', 141: 'In', 142: 'Ja', 143: 'Jahr', 144: 'Jahre', 145: 'Jahren', 146: 'Kanapee', 147: 'Kanapees', 148: 'Kasten', 149: 'Kaum', 150: 'Kind', 151: 'Klang', 152: 'Komm', 153: 'Konservatorium', 154: 'Kopf', 155: 'Krach', 156: 'Kraft', 157: 'Kriechen', 158: 'Käse', 159: 'Körper', 160: 'Körpers', 161: 'Küche', 162: 'Lage', 163: 'Last', 164: 'Laufe', 165: 'Laufen', 166: 'Leben', 167: 'Leib', 168: 'Leiche', 169: 'Leintuch', 170: 'Leistungen', 171: 'Licht', 172: 'Liegen', 173: 'Luft', 174: 'Lärm', 175: 'Male', 176: 'Man', 177: 'Manchmal', 178: 'Mann', 179: 'Meinung', 180: 'Menschen', 181: 'Milch', 182: 'Mit', 183: 'Monat', 184: 'Morgen', 185: 'Morgens', 186: 'Mund', 187: 'Mutter', 188: 'Mädchen', 189: 'Möbel', 190: 'Möglichkeit', 191: 'Mühe', 192: 'Nacht', 193: 'Nachtmahl', 194: 'Napf', 195: 'Nebenzimmer', 196: 'Noch', 197: 'Noten', 198: 'Nun', 199: 'Nur', 200: 'Ordnung', 201: 'Platz', 202: 'Posten', 203: 'Prokurist', 204: 'Prokuristen', 205: 'Rede', 206: 'Reise', 207: 'Reisen', 208: 'Respekt', 209: 'Richtung', 210: 'Ruhe', 211: 'Röcke', 212: 'Rücken', 213: 'Rücksicht', 214: 'Samsa', 215: 'Schlaf', 216: 'Schlosser', 217: 'Schloß', 218: 'Schlüssel', 219: 'Schmerz', 220: 'Schon', 221: 'Schrecken', 222: 'Schreibtisch', 223: 'Schuld', 224: 'Schwester', 225: 'Schüssel', 226: 'Seine', 227: 'Seite', 228: 'Seiten', 229: 'Sessel', 230: 'Sicherheit', 231: 'Sie', 232: 'Sinn', 233: 'So', 234: 'Sorge', 235: 'Sorgen', 236: 'Speise', 237: 'Speisen', 238: 'Spiel', 239: 'Stadt', 240: 'Stelle', 241: 'Stellung', 242: 'Stille', 243: 'Stimme', 244: 'Stock', 245: 'Stunden', 246: 'Stück', 247: 'Tag', 248: 'Tage', 249: 'Tages', 250: 'Teil', 251: 'Teppich', 252: 'Tier', 253: 'Tisch', 254: 'Tische', 255: 'Tochter', 256: 'Trauer', 257: 'Treppe', 258: 'Trotz', 259: 'Trotzdem', 260: 'Tränen', 261: 'Tür', 262: 'Türe', 263: 'Türen', 264: 'Türflügel', 265: 'Uhr', 266: 'Um', 267: 'Und', 268: 'Unglück', 269: 'Uniform', 270: 'Vater', 271: 'Vaters', 272: 'Vergnügen', 273: 'Verhältnisse', 274: 'Verstand', 275: 'Versäumnis', 276: 'Veränderung', 277: 'Vielleicht', 278: 'Violine', 279: 'Violinspiel', 280: 'Vorwürfe', 281: 'Vorzimmer', 282: 'Wand', 283: 'Warum', 284: 'Was', 285: 'Weg', 286: 'Weilchen', 287: 'Weile', 288: 'Weinen', 289: 'Weise', 290: 'Wenn', 291: 'Wie', 292: 'Winkel', 293: 'Wir', 294: 'Wohnung', 295: 'Wohnungstür', 296: 'Wohnzimmer', 297: 'Wohnzimmers', 298: 'Wohnzimmertür', 299: 'Wort', 300: 'Worte', 301: 'Worten', 302: 'Wunde', 303: 'Während', 304: 'Wände', 305: 'Zeichen', 306: 'Zeit', 307: 'Zeiten', 308: 'Zeitung', 309: 'Zimmer', 310: 'Zimmerherren', 311: 'Zimmers', 312: 'Zuerst', 313: 'Zug', 314: 'Zukunft', 315: 'Zustand', 316: 'Zustandes', 317: 'Zuversicht', 318: 'Zwei', 319: 'Zwischenzeit', 320: 'Zähne', 321: 'ab', 322: 'abend', 323: 'abends', 324: 'aber', 325: 'acht', 326: 'achtete', 327: 'alle', 328: 'allein', 329: 'allem', 330: 'allen', 331: 'aller', 332: 'allerdings', 333: 'alles', 334: 'allgemeinen', 335: 'allmählich', 336: 'als', 337: 'also', 338: 'alte', 339: 'alten', 340: 'alter', 341: 'am', 342: 'an', 343: 'andere', 344: 'anderen', 345: 'anderes', 346: 'anders', 347: 'angefangen', 348: 'angezogen', 349: 'antwortete', 350: 'arbeiten', 351: 'auch', 352: 'auf', 353: 'auffallend', 354: 'aufmerksam', 355: 'aufrecht', 356: 'aufzurichten', 357: 'augenblicklich', 358: 'aus', 359: 'ausgefragt', 360: 'außerhalb', 361: 'aß', 362: 'bald', 363: 'bedacht', 364: 'beendet', 365: 'befand', 366: 'begann', 367: 'behaglich', 368: 'beherrschen', 369: 'bei', 370: 'beide', 371: 'beiden', 372: 'beim', 373: 'bekam', 374: 'bekommen', 375: 'beleidigt', 376: 'bemerken', 377: 'bemerkte', 378: 'beobachten', 379: 'beobachtet', 380: 'beobachtete', 381: 'bereit', 382: 'beschmiertes', 383: 'beschäftigt', 384: 'besessen', 385: 'besondere', 386: 'besonderem', 387: 'besonderen', 388: 'besonders', 389: 'besorgte', 390: 'besser', 391: 'besseren', 392: 'beste', 393: 'bestimmt', 394: 'bestimmte', 395: 'bestimmten', 396: 'betreffenden', 397: 'beugten', 398: 'bewegen', 399: 'beweglich', 400: 'bin', 401: 'bis', 402: 'bisher', 403: 'bisweilen', 404: 'bitte', 405: 'bitten', 406: 'bleiben', 407: 'bleich', 408: 'blieb', 409: 'blieben', 410: 'bloß', 411: 'brach', 412: 'brachte', 413: 'brauchte', 414: 'braunen', 415: 'breit', 416: 'bringen', 417: 'da', 418: 'dabei', 419: 'dachte', 420: 'dadurch', 421: 'dafür', 422: 'dagegen', 423: 'daher', 424: 'damals', 425: 'damit', 426: 'dann', 427: 'daran', 428: 'darauf', 429: 'darüber', 430: 'das', 431: 'davon', 432: 'dazu', 433: 'daß', 434: 'dem', 435: 'den', 436: 'denen', 437: 'denken', 438: 'denn', 439: 'der', 440: 'derartig', 441: 'des', 442: 'deshalb', 443: 'dessen', 444: 'desto', 445: 'die', 446: 'dies', 447: 'diese', 448: 'diesem', 449: 'diesen', 450: 'dieser', 451: 'dieses', 452: 'diesmal', 453: 'dir', 454: 'doch', 455: 'dort', 456: 'drehte', 457: 'drei', 458: 'dreiviertel', 459: 'drängte', 460: 'drückte', 461: 'du', 462: 'dulden', 463: 'durch', 464: 'durchaus', 465: 'durfte', 466: 'dürfen', 467: 'eben', 468: 'ehe', 469: 'eigenen', 470: 'eigentlich', 471: 'eigentlichen', 472: 'eiligst', 473: 'eilte', 474: 'ein', 475: 'einander', 476: 'eine', 477: 'einem', 478: 'einen', 479: 'einer', 480: 'eines', 481: 'einfach', 482: 'einmal', 483: 'eintreten', 484: 'einzige', 485: 'endlich', 486: 'entfernen', 487: 'entfernt', 488: 'entlassen', 489: 'entschlossen', 490: 'er', 491: 'erfahren', 492: 'ergriffen', 493: 'erhalten', 494: 'erheben', 495: 'erhob', 496: 'erhoben', 497: 'erhobener', 498: 'erinnerte', 499: 'erkannte', 500: 'erklären', 501: 'ernsthaft', 502: 'erschienen', 503: 'erschrak', 504: 'ersparen', 505: 'erst', 506: 'erste', 507: 'ersten', 508: 'erstenmal', 509: 'ertragen', 510: 'es', 511: 'essen', 512: 'etwa', 513: 'etwas', 514: 'fallen', 515: 'fand', 516: 'fast', 517: 'fertig', 518: 'fest', 519: 'festhielt', 520: 'fiel', 521: 'fing', 522: 'flog', 523: 'flüsterte', 524: 'folgten', 525: 'fragte', 526: 'freilich', 527: 'freundlich', 528: 'frisch', 529: 'froh', 530: 'frühen', 531: 'früher', 532: 'früheren', 533: 'förmlich', 534: 'fühlte', 535: 'fünf', 536: 'für', 537: 'fürchtete', 538: 'gab', 539: 'ganz', 540: 'ganze', 541: 'ganzen', 542: 'gar', 543: 'geben', 544: 'gebeten', 545: 'gebracht', 546: 'gedacht', 547: 'gegen', 548: 'gegenwärtigen', 549: 'gegenüber', 550: 'gehabt', 551: 'gehalten', 552: 'gehen', 553: 'geht', 554: 'gehört', 555: 'gekommen', 556: 'gelang', 557: 'gelassen', 558: 'gelegen', 559: 'gelegt', 560: 'gemacht', 561: 'genau', 562: 'genug', 563: 'genügte', 564: 'gerade', 565: 'geradezu', 566: 'geringsten', 567: 'gern', 568: 'gesagt', 569: 'geschehe', 570: 'geschehen', 571: 'geschlafen', 572: 'geschlossen', 573: 'geschäftlichen', 574: 'gewesen', 575: 'gewiß', 576: 'geworden', 577: 'gewöhnt', 578: 'gezwungen', 579: 'geöffnet', 580: 'ging', 581: 'gingen', 582: 'glauben', 583: 'glaubte', 584: 'gleich', 585: 'gleichen', 586: 'gleichzeitig', 587: 'glitt', 588: 'große', 589: 'großen', 590: 'großes', 591: 'größte', 592: 'größten', 593: 'gut', 594: 'guten', 595: 'gänzlich', 596: 'habe', 597: 'haben', 598: 'halb', 599: 'halten', 600: 'hastig', 601: 'hat', 602: 'hatte', 603: 'hatten', 604: 'heftig', 605: 'helfen', 606: 'her', 607: 'heran', 608: 'herein', 609: 'herum', 610: 'hervor', 611: 'heute', 612: 'hie', 613: 'hielt', 614: 'hier', 615: 'hierbei', 616: 'hin', 617: 'hinaus', 618: 'hinein', 619: 'hing', 620: 'hinter', 621: 'hob', 622: 'hoch', 623: 'holen', 624: 'holte', 625: 'hätte', 626: 'hätten', 627: 'hören', 628: 'hörte', 629: 'ich', 630: 'ihm', 631: 'ihn', 632: 'ihnen', 633: 'ihr', 634: 'ihre', 635: 'ihrem', 636: 'ihren', 637: 'ihrer', 638: 'im', 639: 'immer', 640: 'immerhin', 641: 'imstande', 642: 'in', 643: 'infolge', 644: 'ins', 645: 'inzwischen', 646: 'irgend', 647: 'irgendeine', 648: 'irgendeinen', 649: 'irgendeiner', 650: 'irgendwie', 651: 'ist', 652: 'ja', 653: 'je', 654: 'jede', 655: 'jeden', 656: 'jeder', 657: 'jemand', 658: 'jetzt', 659: 'kam', 660: 'kann', 661: 'kannte', 662: 'kaum', 663: 'kein', 664: 'keine', 665: 'keinen', 666: 'klang', 667: 'klar', 668: 'kleine', 669: 'kleinen', 670: 'klopfte', 671: 'knapp', 672: 'kommen', 673: 'konnte', 674: 'krank', 675: 'kriechen', 676: 'kroch', 677: 'könne', 678: 'können', 679: 'könnte', 680: 'kümmern', 681: 'lag', 682: 'lang', 683: 'lange', 684: 'langen', 685: 'langsam', 686: 'lassen', 687: 'lauter', 688: 'leben', 689: 'leeren', 690: 'legte', 691: 'leicht', 692: 'leichtes', 693: 'leider', 694: 'leise', 695: 'lernte', 696: 'letzten', 697: 'letzter', 698: 'lieber', 699: 'lief', 700: 'liege', 701: 'liegen', 702: 'ließ', 703: 'ließen', 704: 'links', 705: 'litt', 706: 'los', 707: 'loszuwerden', 708: 'lächelnd', 709: 'lächelte', 710: 'länger', 711: 'längst', 712: 'läutete', 713: 'mach', 714: 'mache', 715: 'machen', 716: 'macht', 717: 'machte', 718: 'machten', 719: 'mal', 720: 'man', 721: 'manchmal', 722: 'mehr', 723: 'mehrmals', 724: 'mein', 725: 'meine', 726: 'meinen', 727: 'meiner', 728: 'meist', 729: 'menschlichen', 730: 'menschlicher', 731: 'merken', 732: 'merkte', 733: 'mich', 734: 'mir', 735: 'mit', 736: 'mittlere', 737: 'mochte', 738: 'morgens', 739: 'muß', 740: 'mußt', 741: 'mußte', 742: 'möglich', 743: 'möglicherweise', 744: 'möglichst', 745: 'müde', 746: 'müsse', 747: 'müssen', 748: 'nach', 749: 'nachdem', 750: 'nahe', 751: 'nahm', 752: 'nahmen', 753: 'natürlich', 754: 'neben', 755: 'nebenan', 756: 'nehmen', 757: 'neue', 758: 'neuen', 759: 'nicht', 760: 'nichts', 761: 'nie', 762: 'nieder', 763: 'niemals', 764: 'niemand', 765: 'noch', 766: 'nun', 767: 'nur', 768: 'nutzlos', 769: 'nötig', 770: 'ob', 771: 'oben', 772: 'oder', 773: 'offen', 774: 'offenbar', 775: 'oft', 776: 'ohne', 777: 'paar', 778: 'peinlich', 779: 'pflegte', 780: 'plötzlich', 781: 'prüfen', 782: 'rasch', 783: 'recht', 784: 'rechte', 785: 'rechts', 786: 'reden', 787: 'rief', 788: 'ringsherum', 789: 'ruhig', 790: 'ruhiger', 791: 'rühren', 792: 'rührte', 793: 'sage', 794: 'sagen', 795: 'sagte', 796: 'sah', 797: 'sahen', 798: 'saß', 799: 'saßen', 800: 'scharf', 801: 'schicken', 802: 'schien', 803: 'schleppte', 804: 'schlief', 805: 'schließen', 806: 'schließlich', 807: 'schloß', 808: 'schlug', 809: 'schob', 810: 'schon', 811: 'schrie', 812: 'schwach', 813: 'schwer', 814: 'schwere', 815: 'schweren', 816: 'schüttelte', 817: 'sehe', 818: 'sehen', 819: 'sehr', 820: 'sei', 821: 'sein', 822: 'seine', 823: 'seinem', 824: 'seinen', 825: 'seiner', 826: 'seines', 827: 'seit', 828: 'selbst', 829: 'setzte', 830: 'sich', 831: 'sicher', 832: 'sie', 833: 'sieben', 834: 'sind', 835: 'sitzen', 836: 'so', 837: 'sofort', 838: 'sogar', 839: 'solche', 840: 'solchen', 841: 'solle', 842: 'sollen', 843: 'sollte', 844: 'sondern', 845: 'sonst', 846: 'spielen', 847: 'spielte', 848: 'sprechen', 849: 'später', 850: 'stand', 851: 'starke', 852: 'statt', 853: 'staunte', 854: 'stehen', 855: 'stellte', 856: 'stets', 857: 'stieß', 858: 'still', 859: 'streckte', 860: 'stundenlang', 861: 'stören', 862: 'suchen', 863: 'suchte', 864: 'tatsächlich', 865: 'tiefer', 866: 'trat', 867: 'traten', 868: 'traurig', 869: 'trotz', 870: 'trotzdem', 871: 'trug', 872: 'tun', 873: 'täglich', 874: 'um', 875: 'umdrehte', 876: 'umzudrehen', 877: 'unbedingt', 878: 'unbeweglich', 879: 'und', 880: 'ungestört', 881: 'unmittelbar', 882: 'unmöglich', 883: 'uns', 884: 'unter', 885: 'verbrachte', 886: 'verdienen', 887: 'vergaß', 888: 'vergessen', 889: 'verhältnismäßig', 890: 'verlassen', 891: 'verletzt', 892: 'verlieren', 893: 'verließ', 894: 'verlor', 895: 'vermeiden', 896: 'versperrt', 897: 'verstand', 898: 'verstanden', 899: 'verstummte', 900: 'versuchen', 901: 'versuchte', 902: 'versäumen', 903: 'verursachen', 904: 'verursachte', 905: 'viel', 906: 'viele', 907: 'vielen', 908: 'vielleicht', 909: 'vier', 910: 'vollständig', 911: 'vom', 912: 'von', 913: 'vor', 914: 'vorläufig', 915: 'vorsichtig', 916: 'vorwärts', 917: 'vorüber', 918: 'völlig', 919: 'wachte', 920: 'wagte', 921: 'wahrhaftig', 922: 'wahrscheinlich', 923: 'war', 924: 'waren', 925: 'warf', 926: 'warte', 927: 'warten', 928: 'wartete', 929: 'warteten', 930: 'warum', 931: 'was', 932: 'wecken', 933: 'weder', 934: 'weg', 935: 'wegen', 936: 'wegfahren', 937: 'weggeschickt', 938: 'weil', 939: 'weinte', 940: 'weit', 941: 'weiter', 942: 'weiteres', 943: 'weiterhin', 944: 'weiß', 945: 'welche', 946: 'welcher', 947: 'wendete', 948: 'wenig', 949: 'wenigstens', 950: 'wenn', 951: 'werde', 952: 'werden', 953: 'wie', 954: 'wieder', 955: 'will', 956: 'wir', 957: 'wird', 958: 'wirklich', 959: 'wissen', 960: 'wo', 961: 'wohin', 962: 'wohl', 963: 'wolle', 964: 'wollen', 965: 'wollte', 966: 'wollten', 967: 'womit', 968: 'worden', 969: 'wurde', 970: 'wurden', 971: 'wußte', 972: 'während', 973: 'wäre', 974: 'würde', 975: 'würden', 976: 'zeigte', 977: 'zog', 978: 'zogen', 979: 'zu', 980: 'zuerst', 981: 'zufällig', 982: 'zum', 983: 'zur', 984: 'zurück', 985: 'zwar', 986: 'zwei', 987: 'zwischen', 988: '«', 989: '»', 990: 'Übung', 991: 'äußerst', 992: 'öffnen', 993: 'öffnete', 994: 'über', 995: 'überdies', 996: 'überhaupt', 997: 'überlegen', 998: 'übrigen', 999: 'übrigens'}\n"
     ]
    }
   ],
   "source": [
    "print(int_to_word)"
   ]
  },
  {
   "cell_type": "code",
   "execution_count": null,
   "metadata": {},
   "outputs": [],
   "source": []
  }
 ],
 "metadata": {
  "kernelspec": {
   "display_name": "Environment (conda_tensorflow_p36)",
   "language": "python",
   "name": "conda_tensorflow_p36"
  },
  "language_info": {
   "codemirror_mode": {
    "name": "ipython",
    "version": 3
   },
   "file_extension": ".py",
   "mimetype": "text/x-python",
   "name": "python",
   "nbconvert_exporter": "python",
   "pygments_lexer": "ipython3",
   "version": "3.6.6"
  }
 },
 "nbformat": 4,
 "nbformat_minor": 2
}
