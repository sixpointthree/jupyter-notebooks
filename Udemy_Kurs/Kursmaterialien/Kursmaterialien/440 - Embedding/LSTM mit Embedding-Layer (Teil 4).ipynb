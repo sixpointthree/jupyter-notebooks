{
 "cells": [
  {
   "cell_type": "code",
   "execution_count": 1,
   "metadata": {},
   "outputs": [],
   "source": [
    "with open(\"verwandlung.txt\", \"r\", encoding=\"utf-8\") as file:\n",
    "    contents = file.read()\n",
    "    \n",
    "contents = \"\\n\".join(contents.split(\"\\n\")[59:1952])"
   ]
  },
  {
   "cell_type": "code",
   "execution_count": 2,
   "metadata": {},
   "outputs": [
    {
     "name": "stdout",
     "output_type": "stream",
     "text": [
      "[nltk_data] Downloading package punkt to /home/ubuntu/nltk_data...\n",
      "[nltk_data]   Package punkt is already up-to-date!\n"
     ]
    }
   ],
   "source": [
    "# http://www.nltk.org/\n",
    "\n",
    "import nltk\n",
    "from nltk import word_tokenize\n",
    "from sklearn.feature_extraction.text import CountVectorizer\n",
    "\n",
    "nltk.download('punkt')\n",
    "\n",
    "tokens = word_tokenize(contents)\n",
    "\n",
    "cv = CountVectorizer(max_features=1000, lowercase=False, token_pattern=\"(.*)\")\n",
    "cv.fit(tokens)\n",
    "\n",
    "features = cv.get_feature_names()\n",
    "\n",
    "word_to_int = {}\n",
    "int_to_word = {}\n",
    "\n",
    "for i in range(0, len(features)):\n",
    "    word = features[i]\n",
    "    \n",
    "    word_to_int[word] = i\n",
    "    int_to_word[i] = word"
   ]
  },
  {
   "cell_type": "code",
   "execution_count": 3,
   "metadata": {},
   "outputs": [],
   "source": [
    "tokens_transformed = [word_to_int[word] for word in tokens if word in word_to_int]"
   ]
  },
  {
   "cell_type": "code",
   "execution_count": 7,
   "metadata": {},
   "outputs": [],
   "source": [
    "import numpy as np\n",
    "\n",
    "X = []\n",
    "y = []\n",
    "\n",
    "seq_length = 40\n",
    "\n",
    "for i in range(0, len(tokens_transformed) - seq_length):\n",
    "    X.append(tokens_transformed[i:i+seq_length])\n",
    "    y.append(tokens_transformed[i+seq_length])\n",
    "    \n",
    "X = np.array(X)\n",
    "y = np.array(y)"
   ]
  },
  {
   "cell_type": "code",
   "execution_count": 14,
   "metadata": {},
   "outputs": [],
   "source": [
    "from keras.models import Sequential\n",
    "from keras.layers import Dense, LSTM, Dropout, Embedding, Flatten\n",
    "\n",
    "model = Sequential()\n",
    "model.add(Embedding(cv.max_features, 100, input_shape=(seq_length,)))\n",
    "model.add(LSTM(128, return_sequences=True))\n",
    "model.add(LSTM(128, return_sequences=False))\n",
    "\n",
    "model.add(Dense(cv.max_features, activation=\"softmax\"))\n",
    "\n",
    "model.compile(optimizer=\"adam\", loss=\"categorical_crossentropy\", metrics=[\"accuracy\"])"
   ]
  },
  {
   "cell_type": "code",
   "execution_count": 21,
   "metadata": {},
   "outputs": [
    {
     "name": "stdout",
     "output_type": "stream",
     "text": [
      "Epoch 1/10\n",
      "18748/18748 [==============================] - 81s 4ms/step - loss: 5.5045 - acc: 0.0993\n",
      "Epoch 2/10\n",
      "18748/18748 [==============================] - 82s 4ms/step - loss: 5.3573 - acc: 0.0994\n",
      "Epoch 3/10\n",
      "18748/18748 [==============================] - 80s 4ms/step - loss: 5.2184 - acc: 0.1001\n",
      "Epoch 4/10\n",
      "18748/18748 [==============================] - 81s 4ms/step - loss: 5.0821 - acc: 0.1131\n",
      "Epoch 5/10\n",
      "18748/18748 [==============================] - 80s 4ms/step - loss: 4.9574 - acc: 0.1243\n",
      "Epoch 6/10\n",
      "18748/18748 [==============================] - 80s 4ms/step - loss: 4.8484 - acc: 0.1297\n",
      "Epoch 7/10\n",
      "18748/18748 [==============================] - 80s 4ms/step - loss: 4.7785 - acc: 0.1336\n",
      "Epoch 8/10\n",
      "18748/18748 [==============================] - 80s 4ms/step - loss: 4.7136 - acc: 0.1382\n",
      "Epoch 9/10\n",
      "18748/18748 [==============================] - 80s 4ms/step - loss: 4.5984 - acc: 0.1436\n",
      "Epoch 10/10\n",
      "18748/18748 [==============================] - 80s 4ms/step - loss: 4.5066 - acc: 0.1469\n"
     ]
    },
    {
     "data": {
      "text/plain": [
       "<keras.callbacks.History at 0x7fbf555eac18>"
      ]
     },
     "execution_count": 21,
     "metadata": {},
     "output_type": "execute_result"
    }
   ],
   "source": [
    "from keras.utils import to_categorical\n",
    "\n",
    "model.fit(X, to_categorical(y, num_classes=cv.max_features), epochs=10, batch_size=32)"
   ]
  },
  {
   "cell_type": "code",
   "execution_count": 16,
   "metadata": {},
   "outputs": [
    {
     "name": "stdout",
     "output_type": "stream",
     "text": [
      "_________________________________________________________________\n",
      "Layer (type)                 Output Shape              Param #   \n",
      "=================================================================\n",
      "embedding_5 (Embedding)      (None, 40, 100)           100000    \n",
      "_________________________________________________________________\n",
      "lstm_7 (LSTM)                (None, 40, 128)           117248    \n",
      "_________________________________________________________________\n",
      "lstm_8 (LSTM)                (None, 128)               131584    \n",
      "_________________________________________________________________\n",
      "dense_3 (Dense)              (None, 1000)              129000    \n",
      "=================================================================\n",
      "Total params: 477,832\n",
      "Trainable params: 477,832\n",
      "Non-trainable params: 0\n",
      "_________________________________________________________________\n"
     ]
    }
   ],
   "source": [
    "model.summary()"
   ]
  },
  {
   "cell_type": "code",
   "execution_count": 22,
   "metadata": {},
   "outputs": [],
   "source": [
    "model.save(\"verwandlung.model\")"
   ]
  },
  {
   "cell_type": "code",
   "execution_count": 24,
   "metadata": {},
   "outputs": [],
   "source": [
    "import pickle\n",
    "\n",
    "with open(\"word_to_int.pickle\", \"wb\") as file:\n",
    "    pickle.dump(word_to_int, file)\n",
    "    \n",
    "    \n",
    "with open(\"int_to_word.pickle\", \"wb\") as file:\n",
    "    pickle.dump(int_to_word, file)"
   ]
  },
  {
   "cell_type": "code",
   "execution_count": null,
   "metadata": {},
   "outputs": [],
   "source": []
  }
 ],
 "metadata": {
  "kernelspec": {
   "display_name": "Python 3",
   "language": "python",
   "name": "python3"
  },
  "language_info": {
   "codemirror_mode": {
    "name": "ipython",
    "version": 3
   },
   "file_extension": ".py",
   "mimetype": "text/x-python",
   "name": "python",
   "nbconvert_exporter": "python",
   "pygments_lexer": "ipython3",
   "version": "3.6.5"
  }
 },
 "nbformat": 4,
 "nbformat_minor": 2
}
