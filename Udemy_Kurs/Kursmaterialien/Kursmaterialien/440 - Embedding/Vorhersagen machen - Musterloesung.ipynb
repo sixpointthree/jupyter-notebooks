{
 "cells": [
  {
   "cell_type": "code",
   "execution_count": 4,
   "metadata": {},
   "outputs": [
    {
     "name": "stdout",
     "output_type": "stream",
     "text": [
      "[nltk_data] Downloading package punkt to /home/ubuntu/nltk_data...\n",
      "[nltk_data]   Package punkt is already up-to-date!\n"
     ]
    }
   ],
   "source": [
    "import nltk\n",
    "\n",
    "with open(\"verwandlung.txt\", \"r\", encoding=\"utf-8\") as file:\n",
    "    contents = file.read()\n",
    "    \n",
    "contents = \"\\n\".join(contents.split(\"\\n\")[59:1952])\n",
    "\n",
    "nltk.download('punkt')\n",
    "\n",
    "tokens = nltk.word_tokenize(contents)"
   ]
  },
  {
   "cell_type": "code",
   "execution_count": 5,
   "metadata": {},
   "outputs": [],
   "source": [
    "import pickle\n",
    "\n",
    "with open(\"word_to_int.pickle\", \"rb\") as file:\n",
    "    word_to_int = pickle.load(file)\n",
    "    \n",
    "with open(\"int_to_word.pickle\", \"rb\") as file:\n",
    "    int_to_word = pickle.load(file)"
   ]
  },
  {
   "cell_type": "code",
   "execution_count": 6,
   "metadata": {},
   "outputs": [],
   "source": [
    "tokens_transformed = [word_to_int[word] for word in tokens if word in word_to_int]"
   ]
  },
  {
   "cell_type": "code",
   "execution_count": 10,
   "metadata": {},
   "outputs": [],
   "source": [
    "from keras.models import load_model\n",
    "\n",
    "model = load_model(\"verwandlung.model\")"
   ]
  },
  {
   "cell_type": "code",
   "execution_count": 11,
   "metadata": {},
   "outputs": [
    {
     "name": "stdout",
     "output_type": "stream",
     "text": [
      "von war -- Samsa war -- , hing das Bild , das er vor aus einer und in einem , hatte . Es stellte eine , die , mit einem und einer , aufrecht und einen schweren , in dem\n"
     ]
    }
   ],
   "source": [
    "sentence = tokens_transformed[100:140]\n",
    "\n",
    "print(\" \".join([int_to_word[token] for token in sentence]))"
   ]
  },
  {
   "cell_type": "code",
   "execution_count": 13,
   "metadata": {},
   "outputs": [
    {
     "name": "stdout",
     "output_type": "stream",
     "text": [
      ". Vater und von seiner sein kleinen nicht ein haben mußte ; früher war verstanden . Herren , aber auf uns auf « Du bin merkte mit ihm zu . Ich Grete gleich , daß Gregor unmittelbar nur , die auf bis mit seine Geschäft hätten die Zimmerherren mit dem Zeit imstande von um entfernen mehr zu Hause war ; aber die Prokurist aber die werden ? ihr war wenigstens die Entfernung haben . Aber eine Hände , » Sie die Bett , nach seinen Boden , wie er lieber ein lassen , von Rücksicht er auf einem , die "
     ]
    }
   ],
   "source": [
    "import numpy as np\n",
    "\n",
    "sentence = np.array(tokens_transformed[100:140])\n",
    "\n",
    "\n",
    "for i in range(0, 100):\n",
    "    prediction = model.predict(sentence.reshape(1, 40))\n",
    "    \n",
    "    # word = np.argmax(prediction[0])\n",
    "    word = np.random.choice(len(int_to_word), p=prediction[0])\n",
    "    print(int_to_word[word], end=\" \")\n",
    "    \n",
    "    sentence = np.append(sentence[1:], [word])"
   ]
  },
  {
   "cell_type": "code",
   "execution_count": null,
   "metadata": {},
   "outputs": [],
   "source": []
  },
  {
   "cell_type": "code",
   "execution_count": null,
   "metadata": {},
   "outputs": [],
   "source": []
  }
 ],
 "metadata": {
  "kernelspec": {
   "display_name": "Environment (conda_tensorflow_p36)",
   "language": "python",
   "name": "conda_tensorflow_p36"
  },
  "language_info": {
   "codemirror_mode": {
    "name": "ipython",
    "version": 3
   },
   "file_extension": ".py",
   "mimetype": "text/x-python",
   "name": "python",
   "nbconvert_exporter": "python",
   "pygments_lexer": "ipython3",
   "version": "3.6.6"
  }
 },
 "nbformat": 4,
 "nbformat_minor": 2
}
