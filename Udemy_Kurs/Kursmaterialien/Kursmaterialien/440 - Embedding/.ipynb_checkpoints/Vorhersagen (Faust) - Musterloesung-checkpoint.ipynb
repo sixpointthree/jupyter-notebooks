{
 "cells": [
  {
   "cell_type": "code",
   "execution_count": 1,
   "metadata": {},
   "outputs": [
    {
     "name": "stdout",
     "output_type": "stream",
     "text": [
      "[nltk_data] Downloading package punkt to /home/ubuntu/nltk_data...\n",
      "[nltk_data]   Package punkt is already up-to-date!\n"
     ]
    }
   ],
   "source": [
    "with open(\"faust.txt\", \"r\", encoding=\"utf-8\") as file:\n",
    "    contents = file.read()\n",
    "    \n",
    "contents = contents.split(\"\\n\")[52:7052]\n",
    "contents = [line.strip() for line in contents]\n",
    "\n",
    "contents = \"\\n\".join(contents)\n",
    "\n",
    "contents = contents.replace(\"\\n\", \" \\\\n \")\n",
    "\n",
    "import nltk\n",
    "\n",
    "nltk.download('punkt')\n",
    "\n",
    "tokens = nltk.word_tokenize(contents)"
   ]
  },
  {
   "cell_type": "code",
   "execution_count": 2,
   "metadata": {},
   "outputs": [],
   "source": [
    "import pickle\n",
    "\n",
    "with open(\"word_to_int.faust.pickle\", \"rb\") as file:\n",
    "    word_to_int = pickle.load(file)\n",
    "    \n",
    "with open(\"int_to_word.faust.pickle\", \"rb\") as file:\n",
    "    int_to_word = pickle.load(file)"
   ]
  },
  {
   "cell_type": "code",
   "execution_count": 3,
   "metadata": {},
   "outputs": [],
   "source": [
    "tokens_transformed = [word_to_int[word] for word in tokens if word in word_to_int]"
   ]
  },
  {
   "cell_type": "code",
   "execution_count": 5,
   "metadata": {},
   "outputs": [],
   "source": [
    "from keras.models import load_model\n",
    "\n",
    "model = load_model(\"faust.model\")"
   ]
  },
  {
   "cell_type": "code",
   "execution_count": 6,
   "metadata": {},
   "outputs": [
    {
     "name": "stdout",
     "output_type": "stream",
     "text": [
      "; \n",
      " Gleich einer alten , halbverklungnen Sage \n",
      " Kommt erste Lieb und Freundschaft mit herauf ; \n",
      " Der Schmerz wird neu , es wiederholt die Klage \n",
      " Des Lebens labyrinthisch irren Lauf , \n",
      " Und nennt die Guten ,\n"
     ]
    }
   ],
   "source": [
    "sentence = tokens_transformed[100:140]\n",
    "\n",
    "print(\" \".join([int_to_word[token] for token in sentence]).replace(\"\\\\n\", \"\\n\"))"
   ]
  },
  {
   "cell_type": "code",
   "execution_count": 8,
   "metadata": {},
   "outputs": [
    {
     "name": "stdout",
     "output_type": "stream",
     "text": [
      "die Bitte , Saat \n",
      " Dreht ab im Pest voraus . \n",
      " \n",
      " MARTHE : \n",
      " Ei , ich gehn von dir zu geht ; \n",
      " Er ich mit Gedanken , denn grade auf , \n",
      " Und dem ist ein liebenswürdig Ziel \n",
      " \n",
      " Durch 's am Götterhöhe da und Euch im Busen sagen . Die Ritze in der Herzen , \n",
      " Die Engel dich nur aus der Munde . \n",
      " \n",
      " FAUST : \n",
      " Entfliehe , welche Dämmerschein , ) \n",
      " \n",
      " DICHTER : \n",
      " Es hat kein Herrn , nicht Schädel der Meister steigt . \n",
      " Kannst du dich schmeichelnd allen Fehler werden , \n",
      " Des Menschen spürt , im Gesellen reicht , \n",
      " Nach der Gesellen , das sich so mich nicht treiben , \n",
      " Den du grau diesen Kopf von deinem Meer , \n",
      " Dort geb ich in deinem wünsche Weise , \n",
      " Und in die Mann sich täglich Neuen ; \n",
      " Sie Alter Brust der Leben zum besten meiden . \n",
      " ( Sie wirst , dem solche Sinne auf der Blätter zurücktritt , indem er vor der Dingen stürzte . ) \n",
      " \n",
      " FAUST : \n",
      " Er käme mich , wo 's derweil ihn auf den Riegel Fegefeuer . \n",
      " \n",
      " WAGNER : \n",
      " Ich bitt dich , dazu kochen Jahr , \n",
      " Daß das hier als was gelüsten . \n",
      " \n",
      " FROSCH : \n",
      " Ach Gott ! war deine armes Tag ! \n",
      " Kannst du mir nicht mein Worten reichen , \n",
      " Wird euch vorwärts zu wart ! \n",
      " \n",
      " MARGARETE : \n",
      " Ach ! wenn Ihr wohl , doch hab ich mir allein ! \n",
      " \n",
      " FAUST : \n",
      " Ihr lieber ab , daß das solche Frauen geschäftig , \n",
      " Und die Worten in der Pferdefuß \n",
      " Die ersten wilde Hals um die "
     ]
    }
   ],
   "source": [
    "import numpy as np\n",
    "\n",
    "sentence = np.array(tokens_transformed[100:140])\n",
    "\n",
    "for i in range(0, 300):\n",
    "    prediction = model.predict(sentence.reshape(1, 40))\n",
    "    \n",
    "    # word = np.argmax(prediction[0])\n",
    "    word = np.random.choice(len(int_to_word), p=prediction[0])\n",
    "    print(int_to_word[word].replace(\"\\\\n\", \"\\n\"), end=\" \")\n",
    "    \n",
    "    sentence = np.append(sentence[1:], [word])"
   ]
  },
  {
   "cell_type": "code",
   "execution_count": null,
   "metadata": {},
   "outputs": [],
   "source": [
    "len(int_to_word)"
   ]
  },
  {
   "cell_type": "code",
   "execution_count": null,
   "metadata": {},
   "outputs": [],
   "source": [
    "len(prediction[0])"
   ]
  },
  {
   "cell_type": "code",
   "execution_count": null,
   "metadata": {},
   "outputs": [],
   "source": []
  },
  {
   "cell_type": "code",
   "execution_count": null,
   "metadata": {},
   "outputs": [],
   "source": []
  }
 ],
 "metadata": {
  "kernelspec": {
   "display_name": "Python 3",
   "language": "python",
   "name": "python3"
  },
  "language_info": {
   "codemirror_mode": {
    "name": "ipython",
    "version": 3
   },
   "file_extension": ".py",
   "mimetype": "text/x-python",
   "name": "python",
   "nbconvert_exporter": "python",
   "pygments_lexer": "ipython3",
   "version": "3.6.5"
  }
 },
 "nbformat": 4,
 "nbformat_minor": 2
}
