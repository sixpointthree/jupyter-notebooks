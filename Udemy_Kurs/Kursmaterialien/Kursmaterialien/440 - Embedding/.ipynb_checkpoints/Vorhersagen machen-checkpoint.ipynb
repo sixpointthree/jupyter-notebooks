{
 "cells": [
  {
   "cell_type": "code",
   "execution_count": 1,
   "metadata": {},
   "outputs": [
    {
     "name": "stdout",
     "output_type": "stream",
     "text": [
      "[nltk_data] Downloading package punkt to /Users/jannis/nltk_data...\n",
      "[nltk_data]   Unzipping tokenizers/punkt.zip.\n"
     ]
    }
   ],
   "source": [
    "import nltk\n",
    "\n",
    "with open(\"verwandlung.txt\", \"r\", encoding=\"utf-8\") as file:\n",
    "    contents = file.read()\n",
    "    \n",
    "contents = \"\\n\".join(contents.split(\"\\n\")[59:1952])\n",
    "\n",
    "nltk.download('punkt')\n",
    "\n",
    "tokens = nltk.word_tokenize(contents)"
   ]
  },
  {
   "cell_type": "code",
   "execution_count": 2,
   "metadata": {},
   "outputs": [],
   "source": [
    "import pickle\n",
    "\n",
    "with open(\"word_to_int.pickle\", \"rb\") as file:\n",
    "    word_to_int = pickle.load(file)\n",
    "    \n",
    "with open(\"int_to_word.pickle\", \"rb\") as file:\n",
    "    int_to_word = pickle.load(file)"
   ]
  },
  {
   "cell_type": "code",
   "execution_count": 3,
   "metadata": {},
   "outputs": [],
   "source": [
    "tokens_transformed = [word_to_int[word] for word in tokens if word in word_to_int]"
   ]
  },
  {
   "cell_type": "code",
   "execution_count": 4,
   "metadata": {},
   "outputs": [
    {
     "name": "stderr",
     "output_type": "stream",
     "text": [
      "/Users/jannis/anaconda3/lib/python3.6/site-packages/h5py/__init__.py:36: FutureWarning: Conversion of the second argument of issubdtype from `float` to `np.floating` is deprecated. In future, it will be treated as `np.float64 == np.dtype(float).type`.\n",
      "  from ._conv import register_converters as _register_converters\n",
      "Using TensorFlow backend.\n"
     ]
    }
   ],
   "source": [
    "from keras.models import load_model\n",
    "\n",
    "model = load_model(\"verwandlung.model\")"
   ]
  },
  {
   "cell_type": "code",
   "execution_count": 5,
   "metadata": {},
   "outputs": [
    {
     "name": "stdout",
     "output_type": "stream",
     "text": [
      "von war -- Samsa war -- , hing das Bild , das er vor aus einer und in einem , hatte . Es stellte eine , die , mit einem und einer , aufrecht und einen schweren , in dem\n"
     ]
    }
   ],
   "source": [
    "sentence = tokens_transformed[100:140]\n",
    "\n",
    "print(\" \".join([int_to_word[token] for token in sentence]))"
   ]
  },
  {
   "cell_type": "code",
   "execution_count": 6,
   "metadata": {},
   "outputs": [
    {
     "name": "stdout",
     "output_type": "stream",
     "text": [
      "aber nahmen daran , daß damals wirklich kannte ; und werde er aufrecht zu liegen und es in den bringen schon Leiche , um hatte noch darauf drei ganz Zustandes sich die Sorge sogar , um dem größten Familie als . Da der Vater zur Aber noch fast einer Respekt bleiben und wurde nicht , in einem nicht , dort konnte während mit Gregor ; » ihr kaum seinem Prokuristen genügte nur ganz , nach den , der ! der Zuversicht und leicht , daß sie immer darauf zu bleiben ! schwach Schloß her , daß er ja gleich auch "
     ]
    }
   ],
   "source": [
    "import numpy as np\n",
    "\n",
    "sentence = np.array(tokens_transformed[100:140])\n",
    "\n",
    "\n",
    "for i in range(0, 100):\n",
    "    prediction = model.predict(sentence.reshape(1, 40))\n",
    "    \n",
    "    # word = np.argmax(prediction[0])\n",
    "    word = np.random.choice(len(int_to_word), p=prediction[0])\n",
    "    print(int_to_word[word], end=\" \")\n",
    "    \n",
    "    sentence = np.append(sentence[1:], [word])"
   ]
  },
  {
   "cell_type": "code",
   "execution_count": 7,
   "metadata": {},
   "outputs": [
    {
     "data": {
      "text/plain": [
       "1000"
      ]
     },
     "execution_count": 7,
     "metadata": {},
     "output_type": "execute_result"
    }
   ],
   "source": [
    "len(int_to_word)"
   ]
  },
  {
   "cell_type": "code",
   "execution_count": 8,
   "metadata": {},
   "outputs": [
    {
     "data": {
      "text/plain": [
       "1000"
      ]
     },
     "execution_count": 8,
     "metadata": {},
     "output_type": "execute_result"
    }
   ],
   "source": [
    "len(prediction[0])"
   ]
  },
  {
   "cell_type": "code",
   "execution_count": null,
   "metadata": {},
   "outputs": [],
   "source": []
  },
  {
   "cell_type": "code",
   "execution_count": null,
   "metadata": {},
   "outputs": [],
   "source": []
  }
 ],
 "metadata": {
  "kernelspec": {
   "display_name": "Python 3",
   "language": "python",
   "name": "python3"
  },
  "language_info": {
   "codemirror_mode": {
    "name": "ipython",
    "version": 3
   },
   "file_extension": ".py",
   "mimetype": "text/x-python",
   "name": "python",
   "nbconvert_exporter": "python",
   "pygments_lexer": "ipython3",
   "version": "3.6.5"
  }
 },
 "nbformat": 4,
 "nbformat_minor": 2
}
