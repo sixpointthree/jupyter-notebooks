{
 "cells": [
  {
   "cell_type": "code",
   "execution_count": 1,
   "metadata": {},
   "outputs": [],
   "source": [
    "with open(\"faust.txt\", \"r\", encoding=\"utf-8\") as file:\n",
    "    contents = file.read()\n",
    "    \n",
    "contents = contents.split(\"\\n\")[52:7052]\n",
    "contents = [line.strip() for line in contents]\n",
    "\n",
    "contents = \"\\n\".join(contents)\n",
    "\n",
    "contents = contents.replace(\"\\n\", \" \\\\n \")"
   ]
  },
  {
   "cell_type": "code",
   "execution_count": 2,
   "metadata": {},
   "outputs": [
    {
     "name": "stdout",
     "output_type": "stream",
     "text": [
      "[nltk_data] Downloading package punkt to /home/ubuntu/nltk_data...\n",
      "[nltk_data]   Package punkt is already up-to-date!\n"
     ]
    }
   ],
   "source": [
    "# http://www.nltk.org/\n",
    "\n",
    "import nltk\n",
    "from nltk import word_tokenize\n",
    "from sklearn.feature_extraction.text import CountVectorizer\n",
    "\n",
    "nltk.download('punkt')\n",
    "\n",
    "tokens = word_tokenize(contents)\n",
    "\n",
    "cv = CountVectorizer(max_features=len(set(tokens)), lowercase=False, token_pattern=\"(.*)\")\n",
    "cv.fit(tokens)\n",
    "\n",
    "features = cv.get_feature_names()\n",
    "\n",
    "word_to_int = {}\n",
    "int_to_word = {}\n",
    "\n",
    "for i in range(0, len(features)):\n",
    "    word = features[i]\n",
    "    \n",
    "    word_to_int[word] = i\n",
    "    int_to_word[i] = word"
   ]
  },
  {
   "cell_type": "code",
   "execution_count": 3,
   "metadata": {},
   "outputs": [],
   "source": [
    "tokens_transformed = [word_to_int[word] for word in tokens if word in word_to_int]"
   ]
  },
  {
   "cell_type": "code",
   "execution_count": 4,
   "metadata": {},
   "outputs": [],
   "source": [
    "import numpy as np\n",
    "\n",
    "X = []\n",
    "y = []\n",
    "\n",
    "seq_length = 40\n",
    "\n",
    "for i in range(0, len(tokens_transformed) - seq_length):\n",
    "    X.append(tokens_transformed[i:i+seq_length])\n",
    "    y.append(tokens_transformed[i+seq_length])\n",
    "    \n",
    "X = np.array(X)\n",
    "y = np.array(y)"
   ]
  },
  {
   "cell_type": "code",
   "execution_count": 5,
   "metadata": {},
   "outputs": [
    {
     "name": "stderr",
     "output_type": "stream",
     "text": [
      "/home/ubuntu/anaconda3/envs/tensorflow_p36/lib/python3.6/site-packages/h5py/__init__.py:36: FutureWarning: Conversion of the second argument of issubdtype from `float` to `np.floating` is deprecated. In future, it will be treated as `np.float64 == np.dtype(float).type`.\n",
      "  from ._conv import register_converters as _register_converters\n",
      "Using TensorFlow backend.\n"
     ]
    }
   ],
   "source": [
    "from keras.models import Sequential\n",
    "from keras.layers import Dense, LSTM, Dropout, Embedding, Flatten\n",
    "\n",
    "model = Sequential()\n",
    "model.add(Embedding(cv.max_features, 150, input_shape=(seq_length,)))\n",
    "model.add(LSTM(256, return_sequences=True))\n",
    "model.add(LSTM(256, return_sequences=False))\n",
    "\n",
    "model.add(Dense(1000, activation=\"sigmoid\"))\n",
    "\n",
    "model.add(Dense(cv.max_features, activation=\"softmax\"))\n",
    "\n",
    "model.compile(optimizer=\"adam\", loss=\"categorical_crossentropy\", metrics=[\"accuracy\"])"
   ]
  },
  {
   "cell_type": "code",
   "execution_count": 6,
   "metadata": {},
   "outputs": [
    {
     "name": "stdout",
     "output_type": "stream",
     "text": [
      "Epoch 1/10\n",
      "45343/45343 [==============================] - 213s 5ms/step - loss: 5.9813 - acc: 0.1865\n",
      "Epoch 2/10\n",
      "45343/45343 [==============================] - 209s 5ms/step - loss: 5.1822 - acc: 0.2263\n",
      "Epoch 3/10\n",
      "45343/45343 [==============================] - 208s 5ms/step - loss: 4.8747 - acc: 0.2353\n",
      "Epoch 4/10\n",
      "45343/45343 [==============================] - 208s 5ms/step - loss: 4.6813 - acc: 0.2426\n",
      "Epoch 5/10\n",
      "45343/45343 [==============================] - 208s 5ms/step - loss: 4.5154 - acc: 0.2536\n",
      "Epoch 6/10\n",
      "45343/45343 [==============================] - 208s 5ms/step - loss: 4.3700 - acc: 0.2660\n",
      "Epoch 7/10\n",
      "45343/45343 [==============================] - 208s 5ms/step - loss: 4.2261 - acc: 0.2798\n",
      "Epoch 8/10\n",
      "45343/45343 [==============================] - 208s 5ms/step - loss: 4.0862 - acc: 0.2903\n",
      "Epoch 9/10\n",
      "45343/45343 [==============================] - 209s 5ms/step - loss: 3.9497 - acc: 0.3030\n",
      "Epoch 10/10\n",
      "45343/45343 [==============================] - 209s 5ms/step - loss: 3.8144 - acc: 0.3141\n"
     ]
    },
    {
     "data": {
      "text/plain": [
       "<keras.callbacks.History at 0x7fdb0e8ffbe0>"
      ]
     },
     "execution_count": 6,
     "metadata": {},
     "output_type": "execute_result"
    }
   ],
   "source": [
    "from keras.utils import to_categorical\n",
    "\n",
    "model.fit(X, to_categorical(y, num_classes=cv.max_features), epochs=10, batch_size=32)"
   ]
  },
  {
   "cell_type": "code",
   "execution_count": 15,
   "metadata": {},
   "outputs": [
    {
     "name": "stdout",
     "output_type": "stream",
     "text": [
      "Epoch 1/10\n",
      "45343/45343 [==============================] - 209s 5ms/step - loss: 3.6740 - acc: 0.3234\n",
      "Epoch 2/10\n",
      "45343/45343 [==============================] - 209s 5ms/step - loss: 3.5398 - acc: 0.3316\n",
      "Epoch 3/10\n",
      "45343/45343 [==============================] - 209s 5ms/step - loss: 3.3996 - acc: 0.3423\n",
      "Epoch 4/10\n",
      "45343/45343 [==============================] - 209s 5ms/step - loss: 3.2550 - acc: 0.3549\n",
      "Epoch 5/10\n",
      "45343/45343 [==============================] - 209s 5ms/step - loss: 3.1081 - acc: 0.3668\n",
      "Epoch 6/10\n",
      "45343/45343 [==============================] - 209s 5ms/step - loss: 2.9636 - acc: 0.3819\n",
      "Epoch 7/10\n",
      "45343/45343 [==============================] - 209s 5ms/step - loss: 2.8077 - acc: 0.3994\n",
      "Epoch 8/10\n",
      "45343/45343 [==============================] - 209s 5ms/step - loss: 2.6561 - acc: 0.4193\n",
      "Epoch 9/10\n",
      "45343/45343 [==============================] - 208s 5ms/step - loss: 2.5019 - acc: 0.4438\n",
      "Epoch 10/10\n",
      "45343/45343 [==============================] - 208s 5ms/step - loss: 2.3792 - acc: 0.4660\n"
     ]
    },
    {
     "data": {
      "text/plain": [
       "<keras.callbacks.History at 0x7fdab3fa01d0>"
      ]
     },
     "execution_count": 15,
     "metadata": {},
     "output_type": "execute_result"
    }
   ],
   "source": [
    "model.fit(X, to_categorical(y, num_classes=cv.max_features), epochs=10, batch_size=32)"
   ]
  },
  {
   "cell_type": "code",
   "execution_count": 20,
   "metadata": {},
   "outputs": [
    {
     "name": "stdout",
     "output_type": "stream",
     "text": [
      "_________________________________________________________________\n",
      "Layer (type)                 Output Shape              Param #   \n",
      "=================================================================\n",
      "embedding_1 (Embedding)      (None, 40, 150)           1052700   \n",
      "_________________________________________________________________\n",
      "lstm_1 (LSTM)                (None, 40, 256)           416768    \n",
      "_________________________________________________________________\n",
      "lstm_2 (LSTM)                (None, 256)               525312    \n",
      "_________________________________________________________________\n",
      "dense_1 (Dense)              (None, 1000)              257000    \n",
      "_________________________________________________________________\n",
      "dense_2 (Dense)              (None, 7018)              7025018   \n",
      "=================================================================\n",
      "Total params: 9,276,798\n",
      "Trainable params: 9,276,798\n",
      "Non-trainable params: 0\n",
      "_________________________________________________________________\n"
     ]
    }
   ],
   "source": [
    "model.summary()"
   ]
  },
  {
   "cell_type": "code",
   "execution_count": 21,
   "metadata": {},
   "outputs": [],
   "source": [
    "model.save(\"faust.model\")"
   ]
  },
  {
   "cell_type": "code",
   "execution_count": 22,
   "metadata": {},
   "outputs": [],
   "source": [
    "import pickle\n",
    "\n",
    "with open(\"word_to_int.faust.pickle\", \"wb\") as file:\n",
    "    pickle.dump(word_to_int, file)\n",
    "    \n",
    "    \n",
    "with open(\"int_to_word.faust.pickle\", \"wb\") as file:\n",
    "    pickle.dump(int_to_word, file)"
   ]
  },
  {
   "cell_type": "code",
   "execution_count": null,
   "metadata": {},
   "outputs": [],
   "source": []
  }
 ],
 "metadata": {
  "kernelspec": {
   "display_name": "Python 3",
   "language": "python",
   "name": "python3"
  },
  "language_info": {
   "codemirror_mode": {
    "name": "ipython",
    "version": 3
   },
   "file_extension": ".py",
   "mimetype": "text/x-python",
   "name": "python",
   "nbconvert_exporter": "python",
   "pygments_lexer": "ipython3",
   "version": "3.6.5"
  }
 },
 "nbformat": 4,
 "nbformat_minor": 2
}
