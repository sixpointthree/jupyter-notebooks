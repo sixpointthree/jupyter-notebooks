{
 "cells": [
  {
   "cell_type": "markdown",
   "metadata": {},
   "source": [
    "# Reguläre Ausdrücke - Teil 2"
   ]
  },
  {
   "cell_type": "code",
   "execution_count": 9,
   "metadata": {},
   "outputs": [
    {
     "name": "stdout",
     "output_type": "stream",
     "text": [
      "[' 1 ']\n",
      "[' 12 ']\n",
      "[' 123 ']\n"
     ]
    }
   ],
   "source": [
    "import re\n",
    "\n",
    "p = re.compile(\" [0-9]+ \")\n",
    "\n",
    "print(p.findall(\"Für 1 Knusperbrötchen habe ich 1.99€ bezahlt\"))\n",
    "print(p.findall(\"Für 12 Knusperbrötchen habe ich 1,99$ bezahlt\"))\n",
    "print(p.findall(\"Für 123 Knusperbrötchen habe ich 10.99€ bezahlt\"))"
   ]
  },
  {
   "cell_type": "code",
   "execution_count": 15,
   "metadata": {},
   "outputs": [
    {
     "name": "stdout",
     "output_type": "stream",
     "text": [
      "[' 1.99€ ']\n",
      "[' 1,99$ ']\n",
      "[' 10.99 ']\n"
     ]
    }
   ],
   "source": [
    "import re\n",
    "\n",
    "p = re.compile(\" [0-9]+[\\.,][0-9]{2}[$€]? \")\n",
    "\n",
    "print(p.findall(\"Für 1 Knusperbrötchen habe ich 1.99€ bezahlt\"))\n",
    "print(p.findall(\"Für 12 Knusperbrötchen habe ich 1,99$ bezahlt\"))\n",
    "print(p.findall(\"Für 123 Knusperbrötchen habe ich 10.99 bezahlt\"))"
   ]
  },
  {
   "cell_type": "code",
   "execution_count": null,
   "metadata": {},
   "outputs": [],
   "source": []
  }
 ],
 "metadata": {
  "kernelspec": {
   "display_name": "Python 3",
   "language": "python",
   "name": "python3"
  },
  "language_info": {
   "codemirror_mode": {
    "name": "ipython",
    "version": 3
   },
   "file_extension": ".py",
   "mimetype": "text/x-python",
   "name": "python",
   "nbconvert_exporter": "python",
   "pygments_lexer": "ipython3",
   "version": "3.6.3"
  }
 },
 "nbformat": 4,
 "nbformat_minor": 2
}
