{
 "cells": [
  {
   "cell_type": "markdown",
   "metadata": {},
   "source": [
    "# Übung: Reguläre Ausdrücke (Musterlösung)\n",
    "\n",
    "**Aufgabe:** Extrahiere die Datumsangaben mit Hilfe von regulären Ausdrücken.\n",
    "\n",
    "**Tipp:** Du darfst hierzu mehrere reguläre Ausdrücke verwenden, also beispielsweise:\n",
    "\n",
    "```python\n",
    "import re\n",
    "\n",
    "re1 = re.compile(\"\") # Regulärer Ausdruck für 01.05.2018 (Tag, Monat, Jahr)\n",
    "re2 = re.compile(\"\") # Regulärer Ausdruck für 2018/14/05 (Jahr / Tag / Monat)\n",
    "re3 = re.compile(\"\") # Regulärer Ausdruck für 05/2018 (Monat / Jahr)\n",
    "\n",
    "```\n",
    "\n",
    "Gehe also alle `sentences` durch, und extrahiere die Datumsangabe aus dem String. Du brauchst die Datumswerte nicht umzuwandeln."
   ]
  },
  {
   "cell_type": "code",
   "execution_count": 11,
   "metadata": {},
   "outputs": [
    {
     "name": "stdout",
     "output_type": "stream",
     "text": [
      "<_sre.SRE_Match object; span=(12, 16), match='a12a'>\n"
     ]
    }
   ],
   "source": [
    "import re\n",
    "\n",
    "p = re.compile(\"a[0-9]{2}a\")\n",
    "\n",
    "print(p.search(\"Hallo a123a a12a\"))"
   ]
  },
  {
   "cell_type": "code",
   "execution_count": 9,
   "metadata": {},
   "outputs": [
    {
     "name": "stdout",
     "output_type": "stream",
     "text": [
      "05.06.2018\n",
      "2018/14/05\n",
      "05/2018\n",
      "04.06.2018\n",
      "01/2018\n",
      "06.07.2018\n"
     ]
    }
   ],
   "source": [
    "import re\n",
    "\n",
    "sentences = [\n",
    "    \"Am 05.06.2018 findet ein cooles Event statt\",\n",
    "    \"Please follow our invitation and visit us on 2018/14/05\",\n",
    "    \"Im Monat 05/2018 ist oft gutes Wetter\",\n",
    "    \"Der Lottogewinn war 10.000.000€ groß. Er wurde am 04.06.2018 ausgeschüttet\",\n",
    "    \"Im Monat 01/2018 war in Sofia heftiger Smog\",\n",
    "    \"Dein Flug in den Urlaub geht am 06.07.2018\",\n",
    "]\n",
    "\n",
    "re1 = re.compile(\"[0-9]{2}\\.[0-9]{2}\\.[0-9]{4}\")\n",
    "re2 = re.compile(\"[0-9]{4}/[0-9]{2}/[0-9]{2}\")\n",
    "re3 = re.compile(\"[0-9]{2}/[0-9]{4}\")\n",
    "\n",
    "for sentence in sentences:\n",
    "    \n",
    "    match1 = re1.search(sentence)\n",
    "    match2 = re2.search(sentence)\n",
    "    match3 = re3.search(sentence)\n",
    "    \n",
    "    if match1: \n",
    "        print(match1[0])\n",
    "    elif match2: \n",
    "        print(match2[0])\n",
    "    elif match3: \n",
    "        print(match3[0])\n",
    "    \n"
   ]
  },
  {
   "cell_type": "markdown",
   "metadata": {},
   "source": [
    "**Gewünschte Ausgabe:**\n",
    "\n",
    "```\n",
    "05.06.2018\n",
    "2018/14/05\n",
    "05/2018\n",
    "04.06.2018\n",
    "01/2018\n",
    "06.07.2018\n",
    "```"
   ]
  },
  {
   "cell_type": "markdown",
   "metadata": {},
   "source": [
    "**Bonusaufgabe:** Wandel zudem auch alle Datumsangaben in ein einheitliches Format um. Wenn nur ein Monat angegeben ist, setze den Tag auf den Monatsersten. \n",
    "\n",
    "**Bonusaufgabe - Schwere Lösung:** Schau dir dazu auf jeden Fall das Datetime-Modul an (`from datetime import datetime`), und dazu die `strptime` - Funktion. Damit kannst du einen Datumswert nach Python einlesen (https://docs.python.org/3/library/datetime.html). Hierzu solltest du dir dann auch die `strftime` - Funktion anschauen. \n",
    "\n",
    "Idee wäre hier also: Du liest das Datum über `strptime` ein, dann hast du ein Python-Datums-Objekt, und dieses wandelst du dann über `strftime` wieder zurück in das deutsche Datumsformat um. Vorteil davon ist, dass du Python-Datums-Objekte gut weiterverarbeiten kannst - Nachteil, dass diese Lösung etwas aufwendiger ist.\n",
    "\n",
    "**Bonusaufgabe - Einfachere Lösung:** Alternativ kannst du auchb einfach nur mit einem `\"2018/14/05\".split(\"/\")`, etc. arbeiten, die Liste dann verändern, und zum Beispiel mit einem `\".\".join(liste)` wieder zusammenführen - das geht auch. \n",
    "\n",
    "**Bonusaufgabe - gewünschte Ausgabe:**\n",
    "\n",
    "```\n",
    "05.06.2018\n",
    "14.05.2018\n",
    "01.05.2017\n",
    "04.06.2018\n",
    "01.01.2018\n",
    "06.07.2018\n",
    "```"
   ]
  },
  {
   "cell_type": "code",
   "execution_count": 16,
   "metadata": {},
   "outputs": [
    {
     "name": "stdout",
     "output_type": "stream",
     "text": [
      "05.06.2018\n",
      "14.05.2018\n",
      "01.05.2018\n",
      "04.06.2018\n",
      "01.01.2018\n",
      "06.07.2018\n"
     ]
    }
   ],
   "source": [
    "from datetime import datetime\n",
    "\n",
    "re1 = re.compile(\"[0-9]{2}\\.[0-9]{2}\\.[0-9]{4}\")\n",
    "re2 = re.compile(\"[0-9]{4}/[0-9]{2}/[0-9]{2}\")\n",
    "re3 = re.compile(\"[0-9]{2}/[0-9]{4}\")\n",
    "\n",
    "dates = []\n",
    "for sentence in sentences:\n",
    "    \n",
    "    match1 = re1.search(sentence)\n",
    "    match2 = re2.search(sentence)\n",
    "    match3 = re3.search(sentence)\n",
    "    \n",
    "    if match1: \n",
    "        dates.append(datetime.strptime(match1[0], \"%d.%m.%Y\"))\n",
    "    elif match2: \n",
    "        dates.append(datetime.strptime(match2[0], \"%Y/%d/%m\"))\n",
    "    elif match3: \n",
    "        dates.append(datetime.strptime(match3[0], \"%m/%Y\"))\n",
    "        \n",
    "for d in dates:\n",
    "    print(d.strftime(\"%d.%m.%Y\"))"
   ]
  },
  {
   "cell_type": "code",
   "execution_count": null,
   "metadata": {
    "collapsed": true
   },
   "outputs": [],
   "source": []
  }
 ],
 "metadata": {
  "kernelspec": {
   "display_name": "Python 3",
   "language": "python",
   "name": "python3"
  },
  "language_info": {
   "codemirror_mode": {
    "name": "ipython",
    "version": 3
   },
   "file_extension": ".py",
   "mimetype": "text/x-python",
   "name": "python",
   "nbconvert_exporter": "python",
   "pygments_lexer": "ipython3",
   "version": "3.6.3"
  }
 },
 "nbformat": 4,
 "nbformat_minor": 2
}
