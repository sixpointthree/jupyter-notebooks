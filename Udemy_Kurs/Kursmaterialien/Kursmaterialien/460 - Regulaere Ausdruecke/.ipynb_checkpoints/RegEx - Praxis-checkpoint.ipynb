{
 "cells": [
  {
   "cell_type": "markdown",
   "metadata": {},
   "source": [
    "# Reguläre Ausdrücke - Beispiel: E-Mail-Adressen finden"
   ]
  },
  {
   "cell_type": "code",
   "execution_count": 23,
   "metadata": {},
   "outputs": [
    {
     "name": "stdout",
     "output_type": "stream",
     "text": [
      "<_sre.SRE_Match object; span=(25, 56), match='hallo+welt@www.codingcourses.tv'>\n",
      "<_sre.SRE_Match object; span=(23, 44), match='info@codingcourses.tv'>\n",
      "<_sre.SRE_Match object; span=(83, 113), match='veranstaltung@codingcourses.tv'>\n"
     ]
    }
   ],
   "source": [
    "import re\n",
    "\n",
    "p = re.compile(\"[a-zA-Z0-9\\+]+@[a-zA-Z0-9]+\\.[\\.a-zA-Z0-9]+\")\n",
    "\n",
    "sentences = [\n",
    "    \"Meine E-Mail-Adresse ist hallo+welt@codingcourses.tv\",\n",
    "    \"Bitte keine E-Mails an info@codingcourses.tv senden\",\n",
    "    \"Saturday@ Hotel XYZ findet ein Event statt. Zur Teilnahme kannst du eine E-Mail an veranstaltung@codingcourses.tv schicken\"\n",
    "]\n",
    "\n",
    "for sentence in sentences:\n",
    "    print(p.search(sentence))"
   ]
  },
  {
   "cell_type": "code",
   "execution_count": 33,
   "metadata": {},
   "outputs": [
    {
     "name": "stdout",
     "output_type": "stream",
     "text": [
      "hallo+welt@codingcourses.tv\n",
      "info@codingcourses.tv\n",
      "veranstaltung@codingcourses.tv\n"
     ]
    }
   ],
   "source": [
    "import re\n",
    "\n",
    "p = re.compile(\"[a-zA-Z0-9\\+]+@[a-zA-Z0-9]+\\.[\\.a-zA-Z0-9]+\")\n",
    "\n",
    "sentences = [\n",
    "    \"Hallo Welt\",\n",
    "    \"Meine E-Mail-Adresse ist hallo+welt@codingcourses.tv\",\n",
    "    \"Bitte keine E-Mails an info@codingcourses.tv senden\",\n",
    "    \"Saturday@ Hotel XYZ findet ein Event statt. Zur Teilnahme kannst du eine E-Mail an veranstaltung@codingcourses.tv schicken\"\n",
    "]\n",
    "\n",
    "for sentence in sentences:\n",
    "    match = p.search(sentence)\n",
    "    if match:\n",
    "        print(match[0])"
   ]
  },
  {
   "cell_type": "code",
   "execution_count": null,
   "metadata": {
    "collapsed": true
   },
   "outputs": [],
   "source": []
  }
 ],
 "metadata": {
  "kernelspec": {
   "display_name": "Python 3",
   "language": "python",
   "name": "python3"
  },
  "language_info": {
   "codemirror_mode": {
    "name": "ipython",
    "version": 3
   },
   "file_extension": ".py",
   "mimetype": "text/x-python",
   "name": "python",
   "nbconvert_exporter": "python",
   "pygments_lexer": "ipython3",
   "version": "3.6.3"
  }
 },
 "nbformat": 4,
 "nbformat_minor": 2
}
