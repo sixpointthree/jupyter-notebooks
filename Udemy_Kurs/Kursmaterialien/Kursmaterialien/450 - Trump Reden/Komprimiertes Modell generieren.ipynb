{
 "cells": [
  {
   "cell_type": "code",
   "execution_count": 7,
   "metadata": {},
   "outputs": [
    {
     "name": "stdout",
     "output_type": "stream",
     "text": [
      "Done: trump.model\n"
     ]
    }
   ],
   "source": [
    "from tqdm import tqdm_notebook as tqdm \n",
    "import requests\n",
    "import math\n",
    "import os\n",
    "import zipfile\n",
    "\n",
    "files = {\n",
    "    \"trump.model\": \"https://downloads.codingcoursestv.eu/037%20-%20neuronale%20netze/trump.model\",\n",
    "}\n",
    "\n",
    "for local, remote in files.items():\n",
    "    if not os.path.exists(local):\n",
    "        # Streaming, so we can iterate over the response.\n",
    "        r = requests.get(remote, stream=True)\n",
    "\n",
    "        # Total size in bytes.\n",
    "        total_size = int(r.headers.get('content-length', 0));\n",
    "\n",
    "        print(\"Downloading \" + str(total_size / 1024 / 1024) + \" MB.\")\n",
    "\n",
    "        block_size = 1024\n",
    "        with open(local, 'wb') as f:\n",
    "            for data in tqdm(r.iter_content(block_size), total=math.ceil(total_size//block_size), unit='KB', unit_divisor=1024, unit_scale=True):\n",
    "                f.write(data)\n",
    "    \n",
    "    print(\"Done: \" + local)"
   ]
  },
  {
   "cell_type": "code",
   "execution_count": 8,
   "metadata": {},
   "outputs": [],
   "source": [
    "import pickle\n",
    "\n",
    "with open(\"word_to_int.trump.pickle\", \"rb\") as file:\n",
    "    word_to_int = pickle.load(file)\n",
    "    \n",
    "with open(\"int_to_word.trump.pickle\", \"rb\") as file:\n",
    "    int_to_word = pickle.load(file)"
   ]
  },
  {
   "cell_type": "code",
   "execution_count": 9,
   "metadata": {},
   "outputs": [
    {
     "name": "stdout",
     "output_type": "stream",
     "text": [
      "Requirement already up-to-date: tensorflowjs in /Users/jannis/anaconda3/lib/python3.6/site-packages (0.5.7)\n",
      "Requirement not upgraded as not directly required: six==1.11.0 in /Users/jannis/anaconda3/lib/python3.6/site-packages (from tensorflowjs) (1.11.0)\n",
      "Requirement not upgraded as not directly required: h5py==2.8.0 in /Users/jannis/anaconda3/lib/python3.6/site-packages (from tensorflowjs) (2.8.0)\n",
      "Requirement not upgraded as not directly required: keras==2.1.6 in /Users/jannis/anaconda3/lib/python3.6/site-packages (from tensorflowjs) (2.1.6)\n",
      "Requirement not upgraded as not directly required: numpy==1.14.1 in /Users/jannis/anaconda3/lib/python3.6/site-packages (from tensorflowjs) (1.14.1)\n",
      "Requirement not upgraded as not directly required: tensorflow-hub==0.1.0 in /Users/jannis/anaconda3/lib/python3.6/site-packages (from tensorflowjs) (0.1.0)\n",
      "Requirement not upgraded as not directly required: tensorflow==1.9.0 in /Users/jannis/anaconda3/lib/python3.6/site-packages (from tensorflowjs) (1.9.0)\n",
      "Requirement not upgraded as not directly required: scipy>=0.14 in /Users/jannis/anaconda3/lib/python3.6/site-packages (from keras==2.1.6->tensorflowjs) (1.1.0)\n",
      "Requirement not upgraded as not directly required: pyyaml in /Users/jannis/anaconda3/lib/python3.6/site-packages (from keras==2.1.6->tensorflowjs) (3.12)\n",
      "Requirement not upgraded as not directly required: protobuf>=3.4.0 in /Users/jannis/anaconda3/lib/python3.6/site-packages (from tensorflow-hub==0.1.0->tensorflowjs) (3.6.0)\n",
      "Requirement not upgraded as not directly required: setuptools<=39.1.0 in /Users/jannis/anaconda3/lib/python3.6/site-packages (from tensorflow==1.9.0->tensorflowjs) (39.1.0)\n",
      "Requirement not upgraded as not directly required: absl-py>=0.1.6 in /Users/jannis/anaconda3/lib/python3.6/site-packages (from tensorflow==1.9.0->tensorflowjs) (0.3.0)\n",
      "Requirement not upgraded as not directly required: termcolor>=1.1.0 in /Users/jannis/anaconda3/lib/python3.6/site-packages (from tensorflow==1.9.0->tensorflowjs) (1.1.0)\n",
      "Requirement not upgraded as not directly required: tensorboard<1.10.0,>=1.9.0 in /Users/jannis/anaconda3/lib/python3.6/site-packages (from tensorflow==1.9.0->tensorflowjs) (1.9.0)\n",
      "Requirement not upgraded as not directly required: wheel>=0.26 in /Users/jannis/anaconda3/lib/python3.6/site-packages (from tensorflow==1.9.0->tensorflowjs) (0.31.1)\n",
      "Requirement not upgraded as not directly required: grpcio>=1.8.6 in /Users/jannis/anaconda3/lib/python3.6/site-packages (from tensorflow==1.9.0->tensorflowjs) (1.14.1)\n",
      "Requirement not upgraded as not directly required: gast>=0.2.0 in /Users/jannis/anaconda3/lib/python3.6/site-packages (from tensorflow==1.9.0->tensorflowjs) (0.2.0)\n",
      "Requirement not upgraded as not directly required: astor>=0.6.0 in /Users/jannis/anaconda3/lib/python3.6/site-packages (from tensorflow==1.9.0->tensorflowjs) (0.7.1)\n",
      "Requirement not upgraded as not directly required: werkzeug>=0.11.10 in /Users/jannis/anaconda3/lib/python3.6/site-packages (from tensorboard<1.10.0,>=1.9.0->tensorflow==1.9.0->tensorflowjs) (0.14.1)\n",
      "Requirement not upgraded as not directly required: markdown>=2.6.8 in /Users/jannis/anaconda3/lib/python3.6/site-packages (from tensorboard<1.10.0,>=1.9.0->tensorflow==1.9.0->tensorflowjs) (2.6.11)\n",
      "\u001b[31mdistributed 1.21.8 requires msgpack, which is not installed.\u001b[0m\n",
      "\u001b[33mYou are using pip version 10.0.1, however version 18.0 is available.\n",
      "You should consider upgrading via the 'pip install --upgrade pip' command.\u001b[0m\n"
     ]
    }
   ],
   "source": [
    "!pip install -U tensorflowjs"
   ]
  },
  {
   "cell_type": "code",
   "execution_count": 10,
   "metadata": {},
   "outputs": [
    {
     "name": "stdout",
     "output_type": "stream",
     "text": [
      "_________________________________________________________________\n",
      "Layer (type)                 Output Shape              Param #   \n",
      "=================================================================\n",
      "embedding_1 (Embedding)      (None, 40, 150)           1059150   \n",
      "_________________________________________________________________\n",
      "lstm_1 (LSTM)                (None, 40, 256)           416768    \n",
      "_________________________________________________________________\n",
      "lstm_2 (LSTM)                (None, 256)               525312    \n",
      "_________________________________________________________________\n",
      "dense_1 (Dense)              (None, 1000)              257000    \n",
      "_________________________________________________________________\n",
      "dense_2 (Dense)              (None, 7061)              7068061   \n",
      "=================================================================\n",
      "Total params: 9,326,291\n",
      "Trainable params: 9,326,291\n",
      "Non-trainable params: 0\n",
      "_________________________________________________________________\n"
     ]
    }
   ],
   "source": [
    "from keras.models import load_model\n",
    "\n",
    "model = load_model(\"trump.model\")\n",
    "model.summary()"
   ]
  },
  {
   "cell_type": "code",
   "execution_count": 13,
   "metadata": {},
   "outputs": [],
   "source": [
    "# https://github.com/aaron-xichen/pytorch-playground\n",
    "\n",
    "import tensorflowjs as tfjs\n",
    "import numpy as np\n",
    "\n",
    "tfjs.converters.save_keras_model(model, \"data/modeluint8\", quantization_dtype=np.uint8)"
   ]
  },
  {
   "cell_type": "code",
   "execution_count": 12,
   "metadata": {},
   "outputs": [],
   "source": [
    "tfjs.converters.save_keras_model?"
   ]
  },
  {
   "cell_type": "code",
   "execution_count": null,
   "metadata": {},
   "outputs": [],
   "source": []
  }
 ],
 "metadata": {
  "kernelspec": {
   "display_name": "Python 3",
   "language": "python",
   "name": "python3"
  },
  "language_info": {
   "codemirror_mode": {
    "name": "ipython",
    "version": 3
   },
   "file_extension": ".py",
   "mimetype": "text/x-python",
   "name": "python",
   "nbconvert_exporter": "python",
   "pygments_lexer": "ipython3",
   "version": "3.6.5"
  }
 },
 "nbformat": 4,
 "nbformat_minor": 2
}
