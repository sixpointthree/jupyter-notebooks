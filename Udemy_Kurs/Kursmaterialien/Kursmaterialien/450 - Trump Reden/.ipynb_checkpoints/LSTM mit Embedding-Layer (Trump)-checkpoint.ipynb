{
 "cells": [
  {
   "cell_type": "code",
   "execution_count": 2,
   "metadata": {},
   "outputs": [],
   "source": [
    "# Quelle: https://github.com/ryanmcdermott/trump-speeches/blob/master/speeches.txt\n",
    "\n",
    "with open(\"speeches.txt\", \"r\", encoding=\"utf-8\") as file:\n",
    "    contents = file.read()\n",
    "    \n",
    "contents = contents.split(\"\\n\")\n",
    "contents = [line.strip() for line in contents if \"SPEECH\" not in line]\n",
    "\n",
    "contents = \"\\n\".join(contents)"
   ]
  },
  {
   "cell_type": "code",
   "execution_count": null,
   "metadata": {},
   "outputs": [],
   "source": []
  },
  {
   "cell_type": "code",
   "execution_count": 1,
   "metadata": {},
   "outputs": [
    {
     "name": "stdout",
     "output_type": "stream",
     "text": [
      "[nltk_data] Downloading package punkt to /Users/jannis/nltk_data...\n",
      "[nltk_data]   Package punkt is already up-to-date!\n"
     ]
    },
    {
     "ename": "NameError",
     "evalue": "name 'contents' is not defined",
     "output_type": "error",
     "traceback": [
      "\u001b[0;31m---------------------------------------------------------------------------\u001b[0m",
      "\u001b[0;31mNameError\u001b[0m                                 Traceback (most recent call last)",
      "\u001b[0;32m<ipython-input-1-5d31aff3fe60>\u001b[0m in \u001b[0;36m<module>\u001b[0;34m()\u001b[0m\n\u001b[1;32m      7\u001b[0m \u001b[0mnltk\u001b[0m\u001b[0;34m.\u001b[0m\u001b[0mdownload\u001b[0m\u001b[0;34m(\u001b[0m\u001b[0;34m'punkt'\u001b[0m\u001b[0;34m)\u001b[0m\u001b[0;34m\u001b[0m\u001b[0m\n\u001b[1;32m      8\u001b[0m \u001b[0;34m\u001b[0m\u001b[0m\n\u001b[0;32m----> 9\u001b[0;31m \u001b[0mtokens\u001b[0m \u001b[0;34m=\u001b[0m \u001b[0mword_tokenize\u001b[0m\u001b[0;34m(\u001b[0m\u001b[0mcontents\u001b[0m\u001b[0;34m)\u001b[0m\u001b[0;34m\u001b[0m\u001b[0m\n\u001b[0m\u001b[1;32m     10\u001b[0m \u001b[0;34m\u001b[0m\u001b[0m\n\u001b[1;32m     11\u001b[0m \u001b[0mcv\u001b[0m \u001b[0;34m=\u001b[0m \u001b[0mCountVectorizer\u001b[0m\u001b[0;34m(\u001b[0m\u001b[0mmax_features\u001b[0m\u001b[0;34m=\u001b[0m\u001b[0mlen\u001b[0m\u001b[0;34m(\u001b[0m\u001b[0mset\u001b[0m\u001b[0;34m(\u001b[0m\u001b[0mtokens\u001b[0m\u001b[0;34m)\u001b[0m\u001b[0;34m)\u001b[0m\u001b[0;34m,\u001b[0m \u001b[0mlowercase\u001b[0m\u001b[0;34m=\u001b[0m\u001b[0;32mFalse\u001b[0m\u001b[0;34m,\u001b[0m \u001b[0mtoken_pattern\u001b[0m\u001b[0;34m=\u001b[0m\u001b[0;34m\"(.*)\"\u001b[0m\u001b[0;34m)\u001b[0m\u001b[0;34m\u001b[0m\u001b[0m\n",
      "\u001b[0;31mNameError\u001b[0m: name 'contents' is not defined"
     ]
    }
   ],
   "source": [
    "# http://www.nltk.org/\n",
    "\n",
    "import nltk\n",
    "from nltk import word_tokenize\n",
    "from sklearn.feature_extraction.text import CountVectorizer\n",
    "\n",
    "nltk.download('punkt')\n",
    "\n",
    "tokens = word_tokenize(contents)\n",
    "\n",
    "cv = CountVectorizer(max_features=len(set(tokens)), lowercase=False, token_pattern=\"(.*)\")\n",
    "cv.fit(tokens)\n",
    "\n",
    "features = cv.get_feature_names()\n",
    "\n",
    "word_to_int = {}\n",
    "int_to_word = {}\n",
    "\n",
    "for i in range(0, len(features)):\n",
    "    word = features[i]\n",
    "    \n",
    "    word_to_int[word] = i\n",
    "    int_to_word[i] = word"
   ]
  },
  {
   "cell_type": "code",
   "execution_count": 7,
   "metadata": {},
   "outputs": [],
   "source": [
    "tokens_transformed = [word_to_int[word] for word in tokens if word in word_to_int]"
   ]
  },
  {
   "cell_type": "code",
   "execution_count": 8,
   "metadata": {},
   "outputs": [],
   "source": [
    "import numpy as np\n",
    "\n",
    "X = []\n",
    "y = []\n",
    "\n",
    "seq_length = 40\n",
    "\n",
    "for i in range(0, len(tokens_transformed) - seq_length):\n",
    "    X.append(tokens_transformed[i:i+seq_length])\n",
    "    y.append(tokens_transformed[i+seq_length])\n",
    "    \n",
    "X = np.array(X)\n",
    "y = np.array(y)"
   ]
  },
  {
   "cell_type": "code",
   "execution_count": 9,
   "metadata": {},
   "outputs": [
    {
     "name": "stderr",
     "output_type": "stream",
     "text": [
      "/home/ubuntu/anaconda3/envs/tensorflow_p36/lib/python3.6/site-packages/h5py/__init__.py:36: FutureWarning: Conversion of the second argument of issubdtype from `float` to `np.floating` is deprecated. In future, it will be treated as `np.float64 == np.dtype(float).type`.\n",
      "  from ._conv import register_converters as _register_converters\n",
      "Using TensorFlow backend.\n"
     ]
    }
   ],
   "source": [
    "from keras.models import Sequential\n",
    "from keras.layers import Dense, LSTM, Dropout, Embedding, Flatten\n",
    "\n",
    "model = Sequential()\n",
    "model.add(Embedding(cv.max_features, 150, input_shape=(seq_length,)))\n",
    "model.add(LSTM(256, return_sequences=True))\n",
    "model.add(LSTM(256, return_sequences=False))\n",
    "\n",
    "model.add(Dense(1000, activation=\"sigmoid\"))\n",
    "\n",
    "model.add(Dense(cv.max_features, activation=\"softmax\"))\n",
    "\n",
    "model.compile(optimizer=\"adam\", loss=\"categorical_crossentropy\", metrics=[\"accuracy\"])"
   ]
  },
  {
   "cell_type": "code",
   "execution_count": 13,
   "metadata": {},
   "outputs": [
    {
     "name": "stdout",
     "output_type": "stream",
     "text": [
      "Train on 164671 samples, validate on 41168 samples\n",
      "Epoch 1/40\n",
      "164671/164671 [==============================] - 841s 5ms/step - loss: 5.2630 - acc: 0.1506 - val_loss: 5.2158 - val_acc: 0.2036\n",
      "Epoch 2/40\n",
      "164671/164671 [==============================] - 840s 5ms/step - loss: 4.4362 - acc: 0.2309 - val_loss: 5.0230 - val_acc: 0.2275\n",
      "Epoch 3/40\n",
      "164671/164671 [==============================] - 839s 5ms/step - loss: 4.1682 - acc: 0.2543 - val_loss: 4.9291 - val_acc: 0.2354\n",
      "Epoch 4/40\n",
      "164671/164671 [==============================] - 839s 5ms/step - loss: 3.9985 - acc: 0.2655 - val_loss: 4.8772 - val_acc: 0.2446\n",
      "Epoch 5/40\n",
      "164671/164671 [==============================] - 838s 5ms/step - loss: 3.8617 - acc: 0.2751 - val_loss: 4.8456 - val_acc: 0.2474\n",
      "Epoch 6/40\n",
      "164671/164671 [==============================] - 840s 5ms/step - loss: 3.7439 - acc: 0.2845 - val_loss: 4.8285 - val_acc: 0.2527\n",
      "Epoch 7/40\n",
      "164671/164671 [==============================] - 838s 5ms/step - loss: 3.6377 - acc: 0.2941 - val_loss: 4.8163 - val_acc: 0.2538\n",
      "Epoch 8/40\n",
      "164671/164671 [==============================] - 839s 5ms/step - loss: 3.5362 - acc: 0.3024 - val_loss: 4.8087 - val_acc: 0.2592\n",
      "Epoch 9/40\n",
      "164671/164671 [==============================] - 837s 5ms/step - loss: 3.4414 - acc: 0.3112 - val_loss: 4.8193 - val_acc: 0.2610\n",
      "Epoch 10/40\n",
      "164671/164671 [==============================] - 836s 5ms/step - loss: 3.3476 - acc: 0.3199 - val_loss: 4.8589 - val_acc: 0.2601\n",
      "Epoch 11/40\n",
      "164671/164671 [==============================] - 836s 5ms/step - loss: 3.2572 - acc: 0.3281 - val_loss: 4.8819 - val_acc: 0.2635\n",
      "Epoch 12/40\n",
      "164671/164671 [==============================] - 835s 5ms/step - loss: 3.1662 - acc: 0.3363 - val_loss: 4.8991 - val_acc: 0.2598\n",
      "Epoch 13/40\n",
      "164671/164671 [==============================] - 834s 5ms/step - loss: 3.0765 - acc: 0.3464 - val_loss: 4.9400 - val_acc: 0.2644\n",
      "Epoch 14/40\n",
      "164671/164671 [==============================] - 834s 5ms/step - loss: 2.9919 - acc: 0.3551 - val_loss: 4.9796 - val_acc: 0.2580\n",
      "Epoch 15/40\n",
      "164671/164671 [==============================] - 834s 5ms/step - loss: 2.9038 - acc: 0.3670 - val_loss: 5.0507 - val_acc: 0.2546\n",
      "Epoch 16/40\n",
      "164671/164671 [==============================] - 834s 5ms/step - loss: 2.8132 - acc: 0.3777 - val_loss: 5.0858 - val_acc: 0.2563\n",
      "Epoch 17/40\n",
      "164671/164671 [==============================] - 834s 5ms/step - loss: 2.7260 - acc: 0.3903 - val_loss: 5.1492 - val_acc: 0.2568\n",
      "Epoch 18/40\n",
      "164671/164671 [==============================] - 836s 5ms/step - loss: 2.6402 - acc: 0.4026 - val_loss: 5.2110 - val_acc: 0.2500\n",
      "Epoch 19/40\n",
      "164671/164671 [==============================] - 836s 5ms/step - loss: 2.5562 - acc: 0.4151 - val_loss: 5.2777 - val_acc: 0.2425\n",
      "Epoch 20/40\n",
      "164671/164671 [==============================] - 835s 5ms/step - loss: 2.4739 - acc: 0.4275 - val_loss: 5.3597 - val_acc: 0.2449\n",
      "Epoch 21/40\n",
      "164671/164671 [==============================] - 835s 5ms/step - loss: 2.3949 - acc: 0.4400 - val_loss: 5.4091 - val_acc: 0.2365\n",
      "Epoch 22/40\n",
      "164671/164671 [==============================] - 834s 5ms/step - loss: 2.3193 - acc: 0.4525 - val_loss: 5.4610 - val_acc: 0.2355\n",
      "Epoch 23/40\n",
      "164671/164671 [==============================] - 834s 5ms/step - loss: 2.2409 - acc: 0.4663 - val_loss: 5.5469 - val_acc: 0.2372\n",
      "Epoch 24/40\n",
      "164671/164671 [==============================] - 836s 5ms/step - loss: 2.1656 - acc: 0.4785 - val_loss: 5.6568 - val_acc: 0.2323\n",
      "Epoch 25/40\n",
      "164671/164671 [==============================] - 834s 5ms/step - loss: 2.0916 - acc: 0.4920 - val_loss: 5.6965 - val_acc: 0.2358\n",
      "Epoch 26/40\n",
      "164671/164671 [==============================] - 834s 5ms/step - loss: 2.0198 - acc: 0.5060 - val_loss: 5.7691 - val_acc: 0.2316\n",
      "Epoch 27/40\n",
      "164671/164671 [==============================] - 835s 5ms/step - loss: 1.9502 - acc: 0.5180 - val_loss: 5.8358 - val_acc: 0.2267\n",
      "Epoch 28/40\n",
      "164671/164671 [==============================] - 835s 5ms/step - loss: 1.8819 - acc: 0.5311 - val_loss: 5.9294 - val_acc: 0.2208\n",
      "Epoch 29/40\n",
      "164671/164671 [==============================] - 836s 5ms/step - loss: 1.8146 - acc: 0.5451 - val_loss: 6.0163 - val_acc: 0.2201\n",
      "Epoch 30/40\n",
      "164671/164671 [==============================] - 838s 5ms/step - loss: 1.7470 - acc: 0.5588 - val_loss: 6.0483 - val_acc: 0.2171\n",
      "Epoch 31/40\n",
      "164671/164671 [==============================] - 837s 5ms/step - loss: 1.6857 - acc: 0.5703 - val_loss: 6.1780 - val_acc: 0.2143\n",
      "Epoch 32/40\n",
      "164671/164671 [==============================] - 836s 5ms/step - loss: 1.6246 - acc: 0.5829 - val_loss: 6.2070 - val_acc: 0.2165\n",
      "Epoch 33/40\n",
      "164671/164671 [==============================] - 836s 5ms/step - loss: 1.5659 - acc: 0.5954 - val_loss: 6.3181 - val_acc: 0.2183\n",
      "Epoch 34/40\n",
      "164671/164671 [==============================] - 836s 5ms/step - loss: 1.5083 - acc: 0.6092 - val_loss: 6.3240 - val_acc: 0.2116\n",
      "Epoch 35/40\n",
      "164671/164671 [==============================] - 838s 5ms/step - loss: 1.4519 - acc: 0.6205 - val_loss: 6.4432 - val_acc: 0.2119\n",
      "Epoch 36/40\n",
      "164671/164671 [==============================] - 840s 5ms/step - loss: 1.3974 - acc: 0.6328 - val_loss: 6.5098 - val_acc: 0.2144\n",
      "Epoch 37/40\n",
      "164671/164671 [==============================] - 839s 5ms/step - loss: 1.3498 - acc: 0.6431 - val_loss: 6.5552 - val_acc: 0.2067\n",
      "Epoch 38/40\n",
      "164671/164671 [==============================] - 840s 5ms/step - loss: 1.2997 - acc: 0.6544 - val_loss: 6.6366 - val_acc: 0.2080\n",
      "Epoch 39/40\n",
      "164671/164671 [==============================] - 840s 5ms/step - loss: 1.2543 - acc: 0.6652 - val_loss: 6.6877 - val_acc: 0.2037\n",
      "Epoch 40/40\n",
      "164671/164671 [==============================] - 840s 5ms/step - loss: 1.2072 - acc: 0.6762 - val_loss: 6.7622 - val_acc: 0.2071\n"
     ]
    },
    {
     "data": {
      "text/plain": [
       "<keras.callbacks.History at 0x7f1494f2da90>"
      ]
     },
     "execution_count": 13,
     "metadata": {},
     "output_type": "execute_result"
    }
   ],
   "source": [
    "from keras.utils import to_categorical\n",
    "\n",
    "from keras.callbacks import ModelCheckpoint\n",
    "\n",
    "checkpoint = ModelCheckpoint(\"trump.{epoch:02d}-{val_loss:.2f}.hdf5\")\n",
    "\n",
    "model.fit(\n",
    "    X, \n",
    "    to_categorical(y, num_classes=cv.max_features), \n",
    "    epochs=40, \n",
    "    batch_size=32, \n",
    "    validation_split=0.2, \n",
    "    callbacks=[checkpoint])"
   ]
  },
  {
   "cell_type": "code",
   "execution_count": 14,
   "metadata": {},
   "outputs": [
    {
     "name": "stdout",
     "output_type": "stream",
     "text": [
      "_________________________________________________________________\n",
      "Layer (type)                 Output Shape              Param #   \n",
      "=================================================================\n",
      "embedding_1 (Embedding)      (None, 40, 150)           1059150   \n",
      "_________________________________________________________________\n",
      "lstm_1 (LSTM)                (None, 40, 256)           416768    \n",
      "_________________________________________________________________\n",
      "lstm_2 (LSTM)                (None, 256)               525312    \n",
      "_________________________________________________________________\n",
      "dense_1 (Dense)              (None, 1000)              257000    \n",
      "_________________________________________________________________\n",
      "dense_2 (Dense)              (None, 7061)              7068061   \n",
      "=================================================================\n",
      "Total params: 9,326,291\n",
      "Trainable params: 9,326,291\n",
      "Non-trainable params: 0\n",
      "_________________________________________________________________\n"
     ]
    }
   ],
   "source": [
    "model.summary()"
   ]
  },
  {
   "cell_type": "code",
   "execution_count": 15,
   "metadata": {},
   "outputs": [],
   "source": [
    "model.save(\"trump.model\")"
   ]
  },
  {
   "cell_type": "code",
   "execution_count": 16,
   "metadata": {},
   "outputs": [],
   "source": [
    "import pickle\n",
    "\n",
    "with open(\"word_to_int.trump.pickle\", \"wb\") as file:\n",
    "    pickle.dump(word_to_int, file)\n",
    "    \n",
    "    \n",
    "with open(\"int_to_word.trump.pickle\", \"wb\") as file:\n",
    "    pickle.dump(int_to_word, file)"
   ]
  },
  {
   "cell_type": "code",
   "execution_count": null,
   "metadata": {},
   "outputs": [],
   "source": []
  }
 ],
 "metadata": {
  "kernelspec": {
   "display_name": "Python 3",
   "language": "python",
   "name": "python3"
  },
  "language_info": {
   "codemirror_mode": {
    "name": "ipython",
    "version": 3
   },
   "file_extension": ".py",
   "mimetype": "text/x-python",
   "name": "python",
   "nbconvert_exporter": "python",
   "pygments_lexer": "ipython3",
   "version": "3.6.5"
  }
 },
 "nbformat": 4,
 "nbformat_minor": 2
}
