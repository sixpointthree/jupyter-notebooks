{
 "cells": [
  {
   "cell_type": "code",
   "execution_count": 1,
   "metadata": {},
   "outputs": [],
   "source": [
    "# Quelle: https://github.com/ryanmcdermott/trump-speeches/blob/master/speeches.txt\n",
    "\n",
    "with open(\"speeches.txt\", \"r\", encoding=\"utf-8\") as file:\n",
    "    contents = file.read()\n",
    "    \n",
    "contents = contents.split(\"\\n\")\n",
    "contents = [line.strip() for line in contents if \"SPEECH\" not in line]\n",
    "\n",
    "contents = \"\\n\".join(contents)"
   ]
  },
  {
   "cell_type": "code",
   "execution_count": 2,
   "metadata": {},
   "outputs": [
    {
     "name": "stdout",
     "output_type": "stream",
     "text": [
      "[nltk_data] Downloading package punkt to /Users/jannis/nltk_data...\n",
      "[nltk_data]   Package punkt is already up-to-date!\n"
     ]
    }
   ],
   "source": [
    "import nltk\n",
    "from nltk import word_tokenize\n",
    "\n",
    "nltk.download('punkt')\n",
    "\n",
    "tokens = word_tokenize(contents)"
   ]
  },
  {
   "cell_type": "code",
   "execution_count": 4,
   "metadata": {},
   "outputs": [],
   "source": [
    "import pickle\n",
    "\n",
    "with open(\"word_to_int.trump.pickle\", \"rb\") as file:\n",
    "    word_to_int = pickle.load(file)\n",
    "    \n",
    "with open(\"int_to_word.trump.pickle\", \"rb\") as file:\n",
    "    int_to_word = pickle.load(file)"
   ]
  },
  {
   "cell_type": "code",
   "execution_count": 5,
   "metadata": {},
   "outputs": [],
   "source": [
    "tokens_transformed = [word_to_int[word] for word in tokens if word in word_to_int]"
   ]
  },
  {
   "cell_type": "code",
   "execution_count": 8,
   "metadata": {},
   "outputs": [
    {
     "name": "stdout",
     "output_type": "stream",
     "text": [
      "want\n",
      "to\n",
      "work\n",
      ",\n",
      "they\n",
      "want\n",
      "to\n",
      "make\n",
      "the\n",
      "country\n",
      "great\n",
      ".\n",
      "I\n",
      "love\n",
      "the\n",
      "people\n",
      "of\n",
      "Iowa\n",
      ".\n",
      "So\n",
      "that\n",
      "'s\n",
      "the\n",
      "way\n",
      "it\n",
      "is\n",
      ".\n",
      "Very\n",
      "simple\n",
      ".\n",
      "With\n",
      "that\n",
      "said\n",
      ",\n",
      "our\n",
      "country\n",
      "is\n",
      "really\n",
      "headed\n",
      "in\n"
     ]
    }
   ],
   "source": [
    "for token in tokens_transformed[100:140]:\n",
    "    print(int_to_word[token])"
   ]
  },
  {
   "cell_type": "code",
   "execution_count": 7,
   "metadata": {},
   "outputs": [
    {
     "data": {
      "text/plain": [
       "[6850,\n",
       " 6559,\n",
       " 6976,\n",
       " 21,\n",
       " 6509,\n",
       " 6850,\n",
       " 6559,\n",
       " 4703,\n",
       " 6495,\n",
       " 2992,\n",
       " 4003,\n",
       " 24,\n",
       " 964,\n",
       " 4664,\n",
       " 6495,\n",
       " 5187,\n",
       " 5008,\n",
       " 1005,\n",
       " 24,\n",
       " 1676,\n",
       " 6493,\n",
       " 17,\n",
       " 6495,\n",
       " 6876,\n",
       " 4427,\n",
       " 4420,\n",
       " 24,\n",
       " 1894,\n",
       " 6055,\n",
       " 24,\n",
       " 1976,\n",
       " 6493,\n",
       " 5845,\n",
       " 21,\n",
       " 5073,\n",
       " 2992,\n",
       " 4420,\n",
       " 5588,\n",
       " 4098,\n",
       " 4281]"
      ]
     },
     "execution_count": 7,
     "metadata": {},
     "output_type": "execute_result"
    }
   ],
   "source": [
    "tokens_transformed[100:140]"
   ]
  },
  {
   "cell_type": "code",
   "execution_count": null,
   "metadata": {},
   "outputs": [],
   "source": []
  }
 ],
 "metadata": {
  "kernelspec": {
   "display_name": "Python 3",
   "language": "python",
   "name": "python3"
  },
  "language_info": {
   "codemirror_mode": {
    "name": "ipython",
    "version": 3
   },
   "file_extension": ".py",
   "mimetype": "text/x-python",
   "name": "python",
   "nbconvert_exporter": "python",
   "pygments_lexer": "ipython3",
   "version": "3.6.5"
  }
 },
 "nbformat": 4,
 "nbformat_minor": 2
}
