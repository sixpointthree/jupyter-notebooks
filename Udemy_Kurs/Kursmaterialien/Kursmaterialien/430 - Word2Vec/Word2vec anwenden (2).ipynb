{
 "cells": [
  {
   "cell_type": "markdown",
   "metadata": {},
   "source": [
    "## Schritt 0: Benötigte Tools installieren"
   ]
  },
  {
   "cell_type": "code",
   "execution_count": 1,
   "metadata": {},
   "outputs": [
    {
     "name": "stdout",
     "output_type": "stream",
     "text": [
      "Requirement already satisfied: tqdm in /Users/jannis/anaconda3/lib/python3.6/site-packages (4.24.0)\n",
      "Requirement already satisfied: requests in /Users/jannis/anaconda3/lib/python3.6/site-packages (2.18.4)\n",
      "Requirement already satisfied: gensim in /Users/jannis/anaconda3/lib/python3.6/site-packages (3.5.0)\n",
      "Requirement already satisfied: chardet<3.1.0,>=3.0.2 in /Users/jannis/anaconda3/lib/python3.6/site-packages (from requests) (3.0.4)\n",
      "Requirement already satisfied: idna<2.7,>=2.5 in /Users/jannis/anaconda3/lib/python3.6/site-packages (from requests) (2.6)\n",
      "Requirement already satisfied: urllib3<1.23,>=1.21.1 in /Users/jannis/anaconda3/lib/python3.6/site-packages (from requests) (1.22)\n",
      "Requirement already satisfied: certifi>=2017.4.17 in /Users/jannis/anaconda3/lib/python3.6/site-packages (from requests) (2018.4.16)\n",
      "Requirement already satisfied: smart-open>=1.2.1 in /Users/jannis/anaconda3/lib/python3.6/site-packages (from gensim) (1.6.0)\n",
      "Requirement already satisfied: six>=1.5.0 in /Users/jannis/anaconda3/lib/python3.6/site-packages (from gensim) (1.11.0)\n",
      "Requirement already satisfied: numpy>=1.11.3 in /Users/jannis/anaconda3/lib/python3.6/site-packages (from gensim) (1.14.3)\n",
      "Requirement already satisfied: scipy>=0.18.1 in /Users/jannis/anaconda3/lib/python3.6/site-packages (from gensim) (1.1.0)\n",
      "Requirement already satisfied: boto3 in /Users/jannis/anaconda3/lib/python3.6/site-packages (from smart-open>=1.2.1->gensim) (1.7.80)\n",
      "Requirement already satisfied: boto>=2.32 in /Users/jannis/anaconda3/lib/python3.6/site-packages (from smart-open>=1.2.1->gensim) (2.48.0)\n",
      "Requirement already satisfied: bz2file in /Users/jannis/anaconda3/lib/python3.6/site-packages (from smart-open>=1.2.1->gensim) (0.98)\n",
      "Requirement already satisfied: jmespath<1.0.0,>=0.7.1 in /Users/jannis/anaconda3/lib/python3.6/site-packages (from boto3->smart-open>=1.2.1->gensim) (0.9.3)\n",
      "Requirement already satisfied: botocore<1.11.0,>=1.10.80 in /Users/jannis/anaconda3/lib/python3.6/site-packages (from boto3->smart-open>=1.2.1->gensim) (1.10.80)\n",
      "Requirement already satisfied: s3transfer<0.2.0,>=0.1.10 in /Users/jannis/anaconda3/lib/python3.6/site-packages (from boto3->smart-open>=1.2.1->gensim) (0.1.13)\n",
      "Requirement already satisfied: python-dateutil<3.0.0,>=2.1; python_version >= \"2.7\" in /Users/jannis/anaconda3/lib/python3.6/site-packages (from botocore<1.11.0,>=1.10.80->boto3->smart-open>=1.2.1->gensim) (2.7.3)\n",
      "Requirement already satisfied: docutils>=0.10 in /Users/jannis/anaconda3/lib/python3.6/site-packages (from botocore<1.11.0,>=1.10.80->boto3->smart-open>=1.2.1->gensim) (0.14)\n",
      "\u001b[31mdistributed 1.21.8 requires msgpack, which is not installed.\u001b[0m\n",
      "\u001b[33mYou are using pip version 10.0.1, however version 18.0 is available.\n",
      "You should consider upgrading via the 'pip install --upgrade pip' command.\u001b[0m\n"
     ]
    }
   ],
   "source": [
    "!pip install tqdm requests gensim"
   ]
  },
  {
   "cell_type": "markdown",
   "metadata": {},
   "source": [
    "## Schritt 1: Word2vec-Index herunterladen\n",
    "\n",
    "https://devmount.github.io/GermanWordEmbeddings/"
   ]
  },
  {
   "cell_type": "code",
   "execution_count": 2,
   "metadata": {},
   "outputs": [
    {
     "name": "stdout",
     "output_type": "stream",
     "text": [
      "Datei existiert bereits\n"
     ]
    }
   ],
   "source": [
    "from tqdm import tqdm_notebook as tqdm \n",
    "import requests\n",
    "import math\n",
    "import os\n",
    "import zipfile\n",
    "\n",
    "if not os.path.exists(\"german.model\"):\n",
    "\n",
    "    url = \"https://downloads.codingcoursestv.eu/037%20-%20neuronale%20netze/german.model.zip\"\n",
    "    # Streaming, so we can iterate over the response.\n",
    "    r = requests.get(url, stream=True)\n",
    "\n",
    "    # Total size in bytes.\n",
    "    total_size = int(r.headers.get('content-length', 0));\n",
    "    \n",
    "    print(\"Downloading \" + str(total_size / 1024 / 1024) + \" MB.\")\n",
    "    \n",
    "    block_size = 1024\n",
    "    with open('german.model.zip', 'wb') as f:\n",
    "        for data in tqdm(r.iter_content(block_size), total=math.ceil(total_size//block_size), unit='KB', unit_divisor=1024, unit_scale=True):\n",
    "            f.write(data)\n",
    "            \n",
    "    # Extracting .zipFile\n",
    "    with zipfile.ZipFile(\"german.model.zip\", \"r\") as zipf:\n",
    "        zipf.extract(\"german.model\")\n",
    "        \n",
    "    # Remove .zip-File (we don't need it anymore)\n",
    "    os.remove(\"german.model.zip\")\n",
    "    \n",
    "    print(\"Done!\")\n",
    "else:\n",
    "    print(\"Datei existiert bereits\")"
   ]
  },
  {
   "cell_type": "code",
   "execution_count": 3,
   "metadata": {},
   "outputs": [],
   "source": [
    "# word2vec (gensim): https://radimrehurek.com/gensim/models/word2vec.html"
   ]
  },
  {
   "cell_type": "code",
   "execution_count": 4,
   "metadata": {},
   "outputs": [],
   "source": [
    "from gensim.models import KeyedVectors\n",
    "\n",
    "wv = KeyedVectors.load_word2vec_format(\"german.model\", binary=True)"
   ]
  },
  {
   "cell_type": "code",
   "execution_count": 9,
   "metadata": {},
   "outputs": [
    {
     "name": "stderr",
     "output_type": "stream",
     "text": [
      "/Users/jannis/anaconda3/lib/python3.6/site-packages/gensim/matutils.py:737: FutureWarning: Conversion of the second argument of issubdtype from `int` to `np.signedinteger` is deprecated. In future, it will be treated as `np.int64 == np.dtype(int).type`.\n",
      "  if np.issubdtype(vec.dtype, np.int):\n"
     ]
    },
    {
     "data": {
      "text/plain": [
       "[('Putin', 0.7802653908729553),\n",
       " ('US-Praesident_Obama', 0.7328896522521973),\n",
       " ('Barack_Obama', 0.7064037322998047),\n",
       " ('Russlands_Staatschef', 0.6975832581520081),\n",
       " ('Wladimir_Putin', 0.6830098628997803),\n",
       " ('russischen_Praesidenten', 0.6809293627738953),\n",
       " ('US-Praesident_Barack', 0.6808924674987793),\n",
       " ('US-Aussenminister_Kerry', 0.6703359484672546),\n",
       " ('Kremlchef_Wladimir', 0.6681345105171204),\n",
       " ('Russlands_Praesident', 0.6653517484664917)]"
      ]
     },
     "execution_count": 9,
     "metadata": {},
     "output_type": "execute_result"
    }
   ],
   "source": [
    "# Obama - USA + Russland = Putin\n",
    "\n",
    "wv.most_similar(positive=[\"Obama\", \"Russland\"], negative=[\"USA\"])"
   ]
  },
  {
   "cell_type": "code",
   "execution_count": 10,
   "metadata": {},
   "outputs": [
    {
     "name": "stderr",
     "output_type": "stream",
     "text": [
      "/Users/jannis/anaconda3/lib/python3.6/site-packages/gensim/matutils.py:737: FutureWarning: Conversion of the second argument of issubdtype from `int` to `np.signedinteger` is deprecated. In future, it will be treated as `np.int64 == np.dtype(int).type`.\n",
      "  if np.issubdtype(vec.dtype, np.int):\n"
     ]
    },
    {
     "data": {
      "text/plain": [
       "[('Kanzlerin_Merkel', 0.6972561478614807),\n",
       " ('Merkel_CDU', 0.6899685263633728),\n",
       " ('Kanzlerin', 0.6769891977310181),\n",
       " ('US-Praesident_Obama', 0.6683843731880188),\n",
       " ('Obama', 0.650946319103241),\n",
       " ('Russlands_Staatschef', 0.6507245302200317),\n",
       " ('Bundeskanzlerin', 0.6503758430480957),\n",
       " ('Ueberwachung_Handys', 0.6279088258743286),\n",
       " ('Angela_Merkel', 0.6278501152992249),\n",
       " ('Rande_G20-Gipfels', 0.6272603273391724)]"
      ]
     },
     "execution_count": 10,
     "metadata": {},
     "output_type": "execute_result"
    }
   ],
   "source": [
    "wv.most_similar(positive=[\"Merkel\", \"USA\"], negative=[\"Deutschland\"])"
   ]
  },
  {
   "cell_type": "code",
   "execution_count": 12,
   "metadata": {},
   "outputs": [
    {
     "name": "stderr",
     "output_type": "stream",
     "text": [
      "/Users/jannis/anaconda3/lib/python3.6/site-packages/gensim/matutils.py:737: FutureWarning: Conversion of the second argument of issubdtype from `int` to `np.signedinteger` is deprecated. In future, it will be treated as `np.int64 == np.dtype(int).type`.\n",
      "  if np.issubdtype(vec.dtype, np.int):\n"
     ]
    },
    {
     "data": {
      "text/plain": [
       "[('Grossmutter', 0.8721050024032593),\n",
       " ('Schwester', 0.8409271240234375),\n",
       " ('Tochter', 0.8314520716667175),\n",
       " ('Vater', 0.8252553343772888),\n",
       " ('Tante', 0.8161165714263916),\n",
       " ('Oma', 0.8082747459411621),\n",
       " ('Frau', 0.7920665144920349),\n",
       " ('vierjaehrige_Tochter', 0.7915295362472534),\n",
       " ('Stiefmutter', 0.7876834273338318),\n",
       " ('Pflegemutter', 0.7844383716583252)]"
      ]
     },
     "execution_count": 12,
     "metadata": {},
     "output_type": "execute_result"
    }
   ],
   "source": [
    "wv.most_similar(positive=[\"Mutter\"])"
   ]
  },
  {
   "cell_type": "code",
   "execution_count": 15,
   "metadata": {},
   "outputs": [],
   "source": [
    "from keras.models import Sequential\n",
    "\n",
    "model = Sequential()\n",
    "model.add(wv.get_keras_embedding())"
   ]
  },
  {
   "cell_type": "code",
   "execution_count": null,
   "metadata": {},
   "outputs": [],
   "source": []
  },
  {
   "cell_type": "code",
   "execution_count": null,
   "metadata": {},
   "outputs": [],
   "source": []
  }
 ],
 "metadata": {
  "kernelspec": {
   "display_name": "Python 3",
   "language": "python",
   "name": "python3"
  },
  "language_info": {
   "codemirror_mode": {
    "name": "ipython",
    "version": 3
   },
   "file_extension": ".py",
   "mimetype": "text/x-python",
   "name": "python",
   "nbconvert_exporter": "python",
   "pygments_lexer": "ipython3",
   "version": "3.6.5"
  }
 },
 "nbformat": 4,
 "nbformat_minor": 2
}
