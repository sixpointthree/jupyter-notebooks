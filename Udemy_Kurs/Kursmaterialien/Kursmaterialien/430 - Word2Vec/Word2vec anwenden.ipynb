{
 "cells": [
  {
   "cell_type": "markdown",
   "metadata": {},
   "source": [
    "## Schritt 0: Benötigte Tools installieren"
   ]
  },
  {
   "cell_type": "code",
   "execution_count": 5,
   "metadata": {},
   "outputs": [
    {
     "name": "stdout",
     "output_type": "stream",
     "text": [
      "Requirement already satisfied: tqdm in /Users/jannis/anaconda3/lib/python3.6/site-packages (4.24.0)\n",
      "Requirement already satisfied: requests in /Users/jannis/anaconda3/lib/python3.6/site-packages (2.18.4)\n",
      "Requirement already satisfied: gensim in /Users/jannis/anaconda3/lib/python3.6/site-packages (3.5.0)\n",
      "Requirement already satisfied: chardet<3.1.0,>=3.0.2 in /Users/jannis/anaconda3/lib/python3.6/site-packages (from requests) (3.0.4)\n",
      "Requirement already satisfied: idna<2.7,>=2.5 in /Users/jannis/anaconda3/lib/python3.6/site-packages (from requests) (2.6)\n",
      "Requirement already satisfied: urllib3<1.23,>=1.21.1 in /Users/jannis/anaconda3/lib/python3.6/site-packages (from requests) (1.22)\n",
      "Requirement already satisfied: certifi>=2017.4.17 in /Users/jannis/anaconda3/lib/python3.6/site-packages (from requests) (2018.4.16)\n",
      "Requirement already satisfied: scipy>=0.18.1 in /Users/jannis/anaconda3/lib/python3.6/site-packages (from gensim) (1.1.0)\n",
      "Requirement already satisfied: numpy>=1.11.3 in /Users/jannis/anaconda3/lib/python3.6/site-packages (from gensim) (1.14.3)\n",
      "Requirement already satisfied: six>=1.5.0 in /Users/jannis/anaconda3/lib/python3.6/site-packages (from gensim) (1.11.0)\n",
      "Requirement already satisfied: smart-open>=1.2.1 in /Users/jannis/anaconda3/lib/python3.6/site-packages (from gensim) (1.6.0)\n",
      "Requirement already satisfied: boto>=2.32 in /Users/jannis/anaconda3/lib/python3.6/site-packages (from smart-open>=1.2.1->gensim) (2.48.0)\n",
      "Requirement already satisfied: bz2file in /Users/jannis/anaconda3/lib/python3.6/site-packages (from smart-open>=1.2.1->gensim) (0.98)\n",
      "Requirement already satisfied: boto3 in /Users/jannis/anaconda3/lib/python3.6/site-packages (from smart-open>=1.2.1->gensim) (1.7.80)\n",
      "Requirement already satisfied: botocore<1.11.0,>=1.10.80 in /Users/jannis/anaconda3/lib/python3.6/site-packages (from boto3->smart-open>=1.2.1->gensim) (1.10.80)\n",
      "Requirement already satisfied: jmespath<1.0.0,>=0.7.1 in /Users/jannis/anaconda3/lib/python3.6/site-packages (from boto3->smart-open>=1.2.1->gensim) (0.9.3)\n",
      "Requirement already satisfied: s3transfer<0.2.0,>=0.1.10 in /Users/jannis/anaconda3/lib/python3.6/site-packages (from boto3->smart-open>=1.2.1->gensim) (0.1.13)\n",
      "Requirement already satisfied: docutils>=0.10 in /Users/jannis/anaconda3/lib/python3.6/site-packages (from botocore<1.11.0,>=1.10.80->boto3->smart-open>=1.2.1->gensim) (0.14)\n",
      "Requirement already satisfied: python-dateutil<3.0.0,>=2.1; python_version >= \"2.7\" in /Users/jannis/anaconda3/lib/python3.6/site-packages (from botocore<1.11.0,>=1.10.80->boto3->smart-open>=1.2.1->gensim) (2.7.3)\n",
      "\u001b[31mdistributed 1.21.8 requires msgpack, which is not installed.\u001b[0m\n",
      "\u001b[33mYou are using pip version 10.0.1, however version 18.0 is available.\n",
      "You should consider upgrading via the 'pip install --upgrade pip' command.\u001b[0m\n"
     ]
    }
   ],
   "source": [
    "!pip install tqdm requests gensim"
   ]
  },
  {
   "cell_type": "markdown",
   "metadata": {},
   "source": [
    "## Schritt 1: Word2vec-Index herunterladen\n",
    "\n",
    "https://devmount.github.io/GermanWordEmbeddings/"
   ]
  },
  {
   "cell_type": "code",
   "execution_count": 6,
   "metadata": {},
   "outputs": [
    {
     "name": "stdout",
     "output_type": "stream",
     "text": [
      "Downloading 653.8639621734619 MB.\n"
     ]
    },
    {
     "data": {
      "application/vnd.jupyter.widget-view+json": {
       "model_id": "80b604b104da494c83eb297b4eabc72b",
       "version_major": 2,
       "version_minor": 0
      },
      "text/plain": [
       "HBox(children=(IntProgress(value=0, max=669556), HTML(value='')))"
      ]
     },
     "metadata": {},
     "output_type": "display_data"
    },
    {
     "name": "stdout",
     "output_type": "stream",
     "text": [
      "\n",
      "Done!\n"
     ]
    }
   ],
   "source": [
    "from tqdm import tqdm_notebook as tqdm \n",
    "import requests\n",
    "import math\n",
    "import os\n",
    "import zipfile\n",
    "\n",
    "if not os.path.exists(\"german.model\"):\n",
    "\n",
    "    url = \"https://downloads.codingcoursestv.eu/037%20-%20neuronale%20netze/german.model.zip\"\n",
    "    # Streaming, so we can iterate over the response.\n",
    "    r = requests.get(url, stream=True)\n",
    "\n",
    "    # Total size in bytes.\n",
    "    total_size = int(r.headers.get('content-length', 0));\n",
    "    \n",
    "    print(\"Downloading \" + str(total_size / 1024 / 1024) + \" MB.\")\n",
    "    \n",
    "    block_size = 1024\n",
    "    with open('german.model.zip', 'wb') as f:\n",
    "        for data in tqdm(r.iter_content(block_size), total=math.ceil(total_size//block_size), unit='KB', unit_divisor=1024, unit_scale=True):\n",
    "            f.write(data)\n",
    "            \n",
    "    # Extracting .zipFile\n",
    "    with zipfile.ZipFile(\"german.model.zip\", \"r\") as zipf:\n",
    "        zipf.extract(\"german.model\")\n",
    "        \n",
    "    # Remove .zip-File (we don't need it anymore)\n",
    "    os.remove(\"german.model.zip\")\n",
    "    \n",
    "    print(\"Done!\")\n",
    "else:\n",
    "    print(\"Datei existiert bereits\")"
   ]
  },
  {
   "cell_type": "code",
   "execution_count": 13,
   "metadata": {},
   "outputs": [],
   "source": [
    "# word2vec (gensim): https://radimrehurek.com/gensim/models/word2vec.html"
   ]
  },
  {
   "cell_type": "code",
   "execution_count": 14,
   "metadata": {},
   "outputs": [],
   "source": [
    "from gensim.models import KeyedVectors\n",
    "\n",
    "wv = KeyedVectors.load_word2vec_format(\"german.model\", binary=True)"
   ]
  },
  {
   "cell_type": "code",
   "execution_count": 20,
   "metadata": {},
   "outputs": [
    {
     "data": {
      "text/plain": [
       "array([ 0.08274695, -0.09292571,  0.1440258 , -0.08743429, -0.07981274,\n",
       "        0.57984304, -0.05338991, -0.28339395, -0.26136985,  0.06288392,\n",
       "        0.15209845,  0.15987046, -0.18642883,  0.26139095, -0.2835704 ,\n",
       "        0.2563145 , -0.32896063, -0.07465652,  0.45394036,  0.19182031,\n",
       "       -0.14542551, -0.10533006,  0.33542585, -0.04136737,  0.1131146 ,\n",
       "       -0.15008093, -0.28003684, -0.48311335,  0.02994079,  0.09826756,\n",
       "        0.11603913,  0.09337544,  0.01574325, -0.05393981,  0.10660557,\n",
       "        0.04435315, -0.26036903,  0.00189808,  0.20851001, -0.03759138,\n",
       "       -0.15177606,  0.18312672, -0.19098373,  0.24177614, -0.301554  ,\n",
       "       -0.1746929 ,  0.18717839, -0.05319838,  0.09297547,  0.0490416 ,\n",
       "       -0.20739076,  0.19210999,  0.0052561 , -0.17638332, -0.36078966,\n",
       "       -0.01473953,  0.11748206, -0.05136281, -0.12604626, -0.00952858,\n",
       "        0.49993727, -0.06206097, -0.02218256, -0.2925407 , -0.02276176,\n",
       "        0.3098183 ,  0.26592305,  0.0908839 ,  0.35478482,  0.24757902,\n",
       "        0.02876803,  0.07062545, -0.11531807,  0.27024537,  0.19223878,\n",
       "       -0.05415451, -0.32255274, -0.05401583,  0.16141067, -0.06713594,\n",
       "       -0.13790391,  0.14772023,  0.17626712, -0.0332144 ,  0.39985067,\n",
       "       -0.00958967, -0.01277158,  0.14150979, -0.00381307,  0.32980946,\n",
       "       -0.1947101 ,  0.02867342,  0.12393097,  0.3544068 , -0.28864762,\n",
       "        0.17014465, -0.13003312, -0.05315099, -0.1437274 ,  0.22096999,\n",
       "        0.16427033, -0.36051142,  0.32161552,  0.19940603, -0.15825221,\n",
       "       -0.09788769, -0.11532982, -0.1290381 ,  0.1533934 ,  0.49615622,\n",
       "        0.10082597,  0.16872692,  0.20378648, -0.31439137,  0.05980785,\n",
       "        0.03661495,  0.08713841,  0.31343976, -0.18731706,  0.07713543,\n",
       "       -0.34188342, -0.48003396,  0.2032309 ,  0.10008416, -0.00976485,\n",
       "        0.11563275, -0.04347411, -0.01022025,  0.3842019 ,  0.19488817,\n",
       "       -0.04333692,  0.03486017, -0.26431096, -0.25848645, -0.13901652,\n",
       "        0.22890553,  0.25133714,  0.06887682,  0.05141359, -0.14050072,\n",
       "       -0.18176438, -0.12347631,  0.32127446, -0.01687104,  0.07707152,\n",
       "        0.12600955,  0.22203992, -0.2535166 ,  0.01060257, -0.1450268 ,\n",
       "       -0.14019473, -0.03109609,  0.07910606, -0.1483892 ,  0.14343289,\n",
       "        0.30289295,  0.13234828, -0.17363763,  0.02324969,  0.10477854,\n",
       "       -0.00760373,  0.01029557, -0.04867613,  0.31427342, -0.12765302,\n",
       "       -0.00831905,  0.11949185, -0.01340342, -0.08766682, -0.05294109,\n",
       "       -0.21816325, -0.04661485, -0.00920549,  0.07805002, -0.27224204,\n",
       "        0.01525088,  0.22030552, -0.14050987,  0.01269555,  0.19133906,\n",
       "       -0.14404468, -0.11494845,  0.182202  ,  0.02525919,  0.15840064,\n",
       "        0.13201103, -0.04203547,  0.01887587,  0.05271866,  0.06093225,\n",
       "       -0.32380548, -0.0056195 ,  0.2992399 , -0.07818139, -0.0268387 ,\n",
       "       -0.08449692, -0.01520979,  0.04345964,  0.09319944,  0.00502783,\n",
       "       -0.07638281,  0.03652843,  0.32593504, -0.02515602, -0.12364873,\n",
       "        0.03744885, -0.02280077,  0.5041281 , -0.3238788 ,  0.17658776,\n",
       "        0.12310295,  0.13105725,  0.16658694, -0.07834074,  0.3824071 ,\n",
       "        0.08572133,  0.18376377,  0.18606858,  0.01400791, -0.01249735,\n",
       "       -0.10987943, -0.069053  , -0.04368568,  0.2483621 , -0.00830004,\n",
       "        0.18145433,  0.3144603 ,  0.2950585 ,  0.11250486,  0.01080184,\n",
       "        0.2770077 ,  0.1822563 , -0.16643536,  0.20845571,  0.18610378,\n",
       "       -0.11977502, -0.18408774, -0.286608  ,  0.09202954, -0.14154208,\n",
       "        0.21201482, -0.07322052,  0.01225493, -0.099575  ,  0.1466099 ,\n",
       "       -0.05234921, -0.19157301,  0.02165462,  0.19515531, -0.33070356,\n",
       "        0.07441467,  0.18084301,  0.0281779 ,  0.05950368,  0.04507883,\n",
       "       -0.06607796,  0.05968942, -0.02547441,  0.06935246, -0.38185173,\n",
       "       -0.07439888, -0.07925989,  0.04528724, -0.14815183,  0.04033031,\n",
       "       -0.09754343,  0.23484264,  0.04907293, -0.34120452, -0.07283199,\n",
       "       -0.05102858,  0.20068917,  0.2744783 , -0.04057738, -0.3012799 ,\n",
       "        0.09284416, -0.2774043 ,  0.02103125,  0.3583048 , -0.10443097,\n",
       "        0.13169195, -0.10319974,  0.03098913,  0.03003402,  0.30205286,\n",
       "        0.28003225, -0.05753819, -0.06297307, -0.0287682 , -0.1902991 ,\n",
       "       -0.02603136,  0.10515965,  0.08591972, -0.10418324,  0.1869174 ,\n",
       "        0.198326  ,  0.22271852, -0.04211267, -0.1002399 , -0.18645632],\n",
       "      dtype=float32)"
      ]
     },
     "execution_count": 20,
     "metadata": {},
     "output_type": "execute_result"
    }
   ],
   "source": [
    "wv[\"Mutter\"]"
   ]
  },
  {
   "cell_type": "code",
   "execution_count": null,
   "metadata": {},
   "outputs": [],
   "source": []
  }
 ],
 "metadata": {
  "kernelspec": {
   "display_name": "Python 3",
   "language": "python",
   "name": "python3"
  },
  "language_info": {
   "codemirror_mode": {
    "name": "ipython",
    "version": 3
   },
   "file_extension": ".py",
   "mimetype": "text/x-python",
   "name": "python",
   "nbconvert_exporter": "python",
   "pygments_lexer": "ipython3",
   "version": "3.6.5"
  }
 },
 "nbformat": 4,
 "nbformat_minor": 2
}
