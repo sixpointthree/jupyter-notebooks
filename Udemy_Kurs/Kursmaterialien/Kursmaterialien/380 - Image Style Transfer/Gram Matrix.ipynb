{
 "cells": [
  {
   "cell_type": "markdown",
   "metadata": {},
   "source": [
    "## Weiterführende Links:\n",
    "\n",
    "- Frage auf Quora: https://www.quora.com/In-a-neural-style-transfer-why-does-using-Gram-matrices-keep-the-style\n",
    "- Paper \"Demystifying Neural Style Transfer\": https://arxiv.org/abs/1701.01036"
   ]
  },
  {
   "cell_type": "code",
   "execution_count": 1,
   "metadata": {},
   "outputs": [
    {
     "name": "stdout",
     "output_type": "stream",
     "text": [
      "[[0.04 0.22 0.04 0.04]\n",
      " [0.22 2.02 0.22 0.22]\n",
      " [0.04 0.22 0.04 0.04]\n",
      " [0.04 0.22 0.04 0.04]]\n"
     ]
    }
   ],
   "source": [
    "import numpy as np\n",
    "\n",
    "a = np.array([\n",
    "    [0.1, 0.1, 0.1, 0.1],\n",
    "    [0.1, 1, 1, 0.1],\n",
    "    [0.1, 0.1, 0.1, 0.1],\n",
    "    [0.1, 0.1, 0.1, 0.1]\n",
    "])\n",
    "\n",
    "print(a @ a.T)"
   ]
  },
  {
   "cell_type": "code",
   "execution_count": 6,
   "metadata": {},
   "outputs": [
    {
     "name": "stdout",
     "output_type": "stream",
     "text": [
      "[[0.04 0.04 0.22 0.04]\n",
      " [0.04 0.04 0.22 0.04]\n",
      " [0.22 0.22 2.02 0.22]\n",
      " [0.04 0.04 0.22 0.04]]\n"
     ]
    }
   ],
   "source": [
    "import numpy as np\n",
    "\n",
    "a = np.array([\n",
    "    [0.1, 0.1, 0.1, 0.1],\n",
    "    [0.1, 0.1, 0.1, 0.1],\n",
    "    [0.1, 1, 1, 0.1],\n",
    "    [0.1, 0.1, 0.1, 0.1]\n",
    "])\n",
    "\n",
    "print(a @ a.T)"
   ]
  },
  {
   "cell_type": "code",
   "execution_count": null,
   "metadata": {},
   "outputs": [],
   "source": []
  }
 ],
 "metadata": {
  "kernelspec": {
   "display_name": "Python 3",
   "language": "python",
   "name": "python3"
  },
  "language_info": {
   "codemirror_mode": {
    "name": "ipython",
    "version": 3
   },
   "file_extension": ".py",
   "mimetype": "text/x-python",
   "name": "python",
   "nbconvert_exporter": "python",
   "pygments_lexer": "ipython3",
   "version": "3.6.5"
  }
 },
 "nbformat": 4,
 "nbformat_minor": 2
}
