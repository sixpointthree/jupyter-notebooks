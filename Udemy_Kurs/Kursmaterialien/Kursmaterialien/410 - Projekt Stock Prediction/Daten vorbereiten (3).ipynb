{
 "cells": [
  {
   "cell_type": "code",
   "execution_count": 29,
   "metadata": {},
   "outputs": [
    {
     "data": {
      "text/html": [
       "<div>\n",
       "<style scoped>\n",
       "    .dataframe tbody tr th:only-of-type {\n",
       "        vertical-align: middle;\n",
       "    }\n",
       "\n",
       "    .dataframe tbody tr th {\n",
       "        vertical-align: top;\n",
       "    }\n",
       "\n",
       "    .dataframe thead th {\n",
       "        text-align: right;\n",
       "    }\n",
       "</style>\n",
       "<table border=\"1\" class=\"dataframe\">\n",
       "  <thead>\n",
       "    <tr style=\"text-align: right;\">\n",
       "      <th></th>\n",
       "      <th>Date</th>\n",
       "      <th>Symbol</th>\n",
       "      <th>Open</th>\n",
       "      <th>High</th>\n",
       "      <th>Low</th>\n",
       "      <th>Close</th>\n",
       "      <th>Volume From</th>\n",
       "      <th>Volume To</th>\n",
       "      <th>Open_before</th>\n",
       "      <th>Open_changes</th>\n",
       "    </tr>\n",
       "  </thead>\n",
       "  <tbody>\n",
       "    <tr>\n",
       "      <th>0</th>\n",
       "      <td>2018-08-11</td>\n",
       "      <td>BTCUSD</td>\n",
       "      <td>6141.5</td>\n",
       "      <td>6228.9</td>\n",
       "      <td>5969.6</td>\n",
       "      <td>6228.9</td>\n",
       "      <td>2586.37</td>\n",
       "      <td>15763120.05</td>\n",
       "      <td>6536.0</td>\n",
       "      <td>-0.060358</td>\n",
       "    </tr>\n",
       "    <tr>\n",
       "      <th>1</th>\n",
       "      <td>2018-08-10</td>\n",
       "      <td>BTCUSD</td>\n",
       "      <td>6536.0</td>\n",
       "      <td>6579.1</td>\n",
       "      <td>6010.0</td>\n",
       "      <td>6141.5</td>\n",
       "      <td>7526.91</td>\n",
       "      <td>47487206.71</td>\n",
       "      <td>6275.9</td>\n",
       "      <td>0.041444</td>\n",
       "    </tr>\n",
       "    <tr>\n",
       "      <th>2</th>\n",
       "      <td>2018-08-09</td>\n",
       "      <td>BTCUSD</td>\n",
       "      <td>6275.9</td>\n",
       "      <td>6630.5</td>\n",
       "      <td>6179.1</td>\n",
       "      <td>6536.0</td>\n",
       "      <td>5942.17</td>\n",
       "      <td>38175637.90</td>\n",
       "      <td>6717.8</td>\n",
       "      <td>-0.065780</td>\n",
       "    </tr>\n",
       "    <tr>\n",
       "      <th>3</th>\n",
       "      <td>2018-08-08</td>\n",
       "      <td>BTCUSD</td>\n",
       "      <td>6717.8</td>\n",
       "      <td>6717.8</td>\n",
       "      <td>6120.0</td>\n",
       "      <td>6275.9</td>\n",
       "      <td>9468.23</td>\n",
       "      <td>60523770.56</td>\n",
       "      <td>6935.7</td>\n",
       "      <td>-0.031417</td>\n",
       "    </tr>\n",
       "    <tr>\n",
       "      <th>4</th>\n",
       "      <td>2018-08-07</td>\n",
       "      <td>BTCUSD</td>\n",
       "      <td>6935.7</td>\n",
       "      <td>7149.0</td>\n",
       "      <td>6659.9</td>\n",
       "      <td>6717.8</td>\n",
       "      <td>6505.50</td>\n",
       "      <td>45042696.31</td>\n",
       "      <td>7026.9</td>\n",
       "      <td>-0.012979</td>\n",
       "    </tr>\n",
       "  </tbody>\n",
       "</table>\n",
       "</div>"
      ],
      "text/plain": [
       "         Date  Symbol    Open    High     Low   Close  Volume From  \\\n",
       "0  2018-08-11  BTCUSD  6141.5  6228.9  5969.6  6228.9      2586.37   \n",
       "1  2018-08-10  BTCUSD  6536.0  6579.1  6010.0  6141.5      7526.91   \n",
       "2  2018-08-09  BTCUSD  6275.9  6630.5  6179.1  6536.0      5942.17   \n",
       "3  2018-08-08  BTCUSD  6717.8  6717.8  6120.0  6275.9      9468.23   \n",
       "4  2018-08-07  BTCUSD  6935.7  7149.0  6659.9  6717.8      6505.50   \n",
       "\n",
       "     Volume To  Open_before  Open_changes  \n",
       "0  15763120.05       6536.0     -0.060358  \n",
       "1  47487206.71       6275.9      0.041444  \n",
       "2  38175637.90       6717.8     -0.065780  \n",
       "3  60523770.56       6935.7     -0.031417  \n",
       "4  45042696.31       7026.9     -0.012979  "
      ]
     },
     "execution_count": 29,
     "metadata": {},
     "output_type": "execute_result"
    }
   ],
   "source": [
    "import pandas as pd\n",
    "\n",
    "df = pd.read_csv(\"Kraken_BTCUSD_d.csv\", header=1)\n",
    "\n",
    "df[\"Open_before\"] = df[\"Open\"].shift(-1)\n",
    "df[\"Open_changes\"] = (df[\"Open\"] / df[\"Open_before\"]) - 1\n",
    "\n",
    "df = df.dropna()\n",
    "\n",
    "df.head()"
   ]
  },
  {
   "cell_type": "code",
   "execution_count": 30,
   "metadata": {},
   "outputs": [],
   "source": [
    "changes = df[\"Open_changes\"]"
   ]
  },
  {
   "cell_type": "code",
   "execution_count": 33,
   "metadata": {},
   "outputs": [],
   "source": [
    "# input shape: (number_of_train_examples, sequence_length, input_dim)"
   ]
  },
  {
   "cell_type": "code",
   "execution_count": 47,
   "metadata": {},
   "outputs": [
    {
     "name": "stdout",
     "output_type": "stream",
     "text": [
      "0\n"
     ]
    }
   ],
   "source": [
    "X = []\n",
    "Y = []\n",
    "\n",
    "for i in range(0, len(changes)):\n",
    "    Y.append(changes[i])\n",
    "    X.append(np.array(changes[i+1:i+21][::-1]))\n",
    "    print(i)\n",
    "    break"
   ]
  },
  {
   "cell_type": "code",
   "execution_count": 49,
   "metadata": {},
   "outputs": [
    {
     "data": {
      "text/plain": [
       "[-0.06035801713586286]"
      ]
     },
     "execution_count": 49,
     "metadata": {},
     "output_type": "execute_result"
    }
   ],
   "source": [
    "Y"
   ]
  },
  {
   "cell_type": "code",
   "execution_count": null,
   "metadata": {},
   "outputs": [],
   "source": []
  }
 ],
 "metadata": {
  "kernelspec": {
   "display_name": "Python 3",
   "language": "python",
   "name": "python3"
  },
  "language_info": {
   "codemirror_mode": {
    "name": "ipython",
    "version": 3
   },
   "file_extension": ".py",
   "mimetype": "text/x-python",
   "name": "python",
   "nbconvert_exporter": "python",
   "pygments_lexer": "ipython3",
   "version": "3.6.5"
  }
 },
 "nbformat": 4,
 "nbformat_minor": 2
}
