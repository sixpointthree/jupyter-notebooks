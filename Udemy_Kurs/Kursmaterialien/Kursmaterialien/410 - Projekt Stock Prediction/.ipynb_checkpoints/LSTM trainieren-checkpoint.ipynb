{
 "cells": [
  {
   "cell_type": "code",
   "execution_count": 1,
   "metadata": {},
   "outputs": [],
   "source": [
    "import numpy as np\n",
    "import pandas as pd\n",
    "\n",
    "df = pd.read_csv(\"Kraken_BTCUSD_d.csv\", header=1)\n",
    "\n",
    "df[\"Open_before\"] = df[\"Open\"].shift(-1)\n",
    "df[\"Open_changes\"] = (df[\"Open\"] / df[\"Open_before\"]) - 1\n",
    "\n",
    "df = df.dropna()\n",
    "\n",
    "changes = df[\"Open_changes\"]\n",
    "\n",
    "X = []\n",
    "Y = []\n",
    "\n",
    "for i in range(0, len(changes) - 20):\n",
    "    Y.append(changes[i])\n",
    "    X.append(np.array(changes[i+1:i+21][::-1]))\n",
    "    \n",
    "X = np.array(X).reshape(-1, 20, 1)\n",
    "Y = np.array(Y)"
   ]
  },
  {
   "cell_type": "code",
   "execution_count": 5,
   "metadata": {},
   "outputs": [
    {
     "name": "stdout",
     "output_type": "stream",
     "text": [
      "Epoch 1/10\n",
      "1750/1750 [==============================] - 2s 1ms/step - loss: 0.0021\n",
      "Epoch 2/10\n",
      "1750/1750 [==============================] - 1s 661us/step - loss: 0.0021\n",
      "Epoch 3/10\n",
      "1750/1750 [==============================] - 1s 639us/step - loss: 0.0021\n",
      "Epoch 4/10\n",
      "1750/1750 [==============================] - 1s 603us/step - loss: 0.0021\n",
      "Epoch 5/10\n",
      "1750/1750 [==============================] - 1s 620us/step - loss: 0.0021\n",
      "Epoch 6/10\n",
      "1750/1750 [==============================] - 1s 644us/step - loss: 0.0021\n",
      "Epoch 7/10\n",
      "1750/1750 [==============================] - 1s 661us/step - loss: 0.0021\n",
      "Epoch 8/10\n",
      "1750/1750 [==============================] - 1s 618us/step - loss: 0.0021\n",
      "Epoch 9/10\n",
      "1750/1750 [==============================] - 1s 608us/step - loss: 0.0021\n",
      "Epoch 10/10\n",
      "1750/1750 [==============================] - 1s 619us/step - loss: 0.0021\n"
     ]
    },
    {
     "data": {
      "text/plain": [
       "<keras.callbacks.History at 0xb213027f0>"
      ]
     },
     "execution_count": 5,
     "metadata": {},
     "output_type": "execute_result"
    }
   ],
   "source": [
    "from keras.models import Sequential\n",
    "from keras.layers import LSTM\n",
    "\n",
    "model = Sequential()\n",
    "model.add(LSTM(1, input_shape=(20, 1)))\n",
    "\n",
    "model.compile(optimizer=\"rmsprop\", loss=\"mse\")\n",
    "model.fit(X, Y, batch_size=32, epochs=10)"
   ]
  },
  {
   "cell_type": "code",
   "execution_count": 6,
   "metadata": {},
   "outputs": [
    {
     "data": {
      "text/plain": [
       "array([[0.00769992],\n",
       "       [0.01191214],\n",
       "       [0.00934604],\n",
       "       ...,\n",
       "       [0.00196931],\n",
       "       [0.00322163],\n",
       "       [0.00291396]], dtype=float32)"
      ]
     },
     "execution_count": 6,
     "metadata": {},
     "output_type": "execute_result"
    }
   ],
   "source": [
    "model.predict(X)"
   ]
  },
  {
   "cell_type": "code",
   "execution_count": null,
   "metadata": {},
   "outputs": [],
   "source": []
  }
 ],
 "metadata": {
  "kernelspec": {
   "display_name": "Python 3",
   "language": "python",
   "name": "python3"
  },
  "language_info": {
   "codemirror_mode": {
    "name": "ipython",
    "version": 3
   },
   "file_extension": ".py",
   "mimetype": "text/x-python",
   "name": "python",
   "nbconvert_exporter": "python",
   "pygments_lexer": "ipython3",
   "version": "3.6.5"
  }
 },
 "nbformat": 4,
 "nbformat_minor": 2
}
