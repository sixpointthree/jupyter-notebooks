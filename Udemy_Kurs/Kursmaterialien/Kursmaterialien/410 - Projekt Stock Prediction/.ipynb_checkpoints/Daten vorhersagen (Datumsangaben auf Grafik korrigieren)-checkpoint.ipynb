{
 "cells": [
  {
   "cell_type": "code",
   "execution_count": 16,
   "metadata": {},
   "outputs": [],
   "source": [
    "import numpy as np\n",
    "import pandas as pd\n",
    "\n",
    "df = pd.read_csv(\"Kraken_BTCUSD_d.csv\", header=1)\n",
    "\n",
    "df[\"Open_before\"] = df[\"Open\"].shift(-1)\n",
    "df[\"Open_changes\"] = (df[\"Open\"] / df[\"Open_before\"]) - 1\n",
    "\n",
    "df = df.dropna()\n",
    "\n",
    "changes = df[\"Open_changes\"]\n",
    "\n",
    "X = []\n",
    "Y = []\n",
    "\n",
    "for i in range(0, len(changes) - 20):\n",
    "    Y.append(changes[i])\n",
    "    X.append(np.array(changes[i+1:i+21][::-1]))\n",
    "    \n",
    "X = np.array(X).reshape(-1, 20, 1)\n",
    "Y = np.array(Y)"
   ]
  },
  {
   "cell_type": "code",
   "execution_count": 17,
   "metadata": {},
   "outputs": [
    {
     "name": "stdout",
     "output_type": "stream",
     "text": [
      "Epoch 1/10\n",
      "1750/1750 [==============================] - 2s 931us/step - loss: 0.0021\n",
      "Epoch 2/10\n",
      "1750/1750 [==============================] - 1s 604us/step - loss: 0.0021\n",
      "Epoch 3/10\n",
      "1750/1750 [==============================] - 1s 609us/step - loss: 0.0021\n",
      "Epoch 4/10\n",
      "1750/1750 [==============================] - 1s 594us/step - loss: 0.0021\n",
      "Epoch 5/10\n",
      "1750/1750 [==============================] - 1s 569us/step - loss: 0.0021\n",
      "Epoch 6/10\n",
      "1750/1750 [==============================] - 1s 653us/step - loss: 0.0021\n",
      "Epoch 7/10\n",
      "1750/1750 [==============================] - 1s 526us/step - loss: 0.0021\n",
      "Epoch 8/10\n",
      "1750/1750 [==============================] - 1s 576us/step - loss: 0.0021\n",
      "Epoch 9/10\n",
      "1750/1750 [==============================] - 1s 626us/step - loss: 0.0021\n",
      "Epoch 10/10\n",
      "1750/1750 [==============================] - 1s 608us/step - loss: 0.0021\n"
     ]
    },
    {
     "data": {
      "text/plain": [
       "<keras.callbacks.History at 0x10e1c4ef0>"
      ]
     },
     "execution_count": 17,
     "metadata": {},
     "output_type": "execute_result"
    }
   ],
   "source": [
    "from keras.models import Sequential\n",
    "from keras.layers import LSTM\n",
    "\n",
    "model = Sequential()\n",
    "model.add(LSTM(1, input_shape=(20, 1)))\n",
    "\n",
    "model.compile(optimizer=\"rmsprop\", loss=\"mse\")\n",
    "model.fit(X, Y, batch_size=32, epochs=10)"
   ]
  },
  {
   "cell_type": "code",
   "execution_count": 18,
   "metadata": {},
   "outputs": [],
   "source": [
    "predictions = model.predict(X)"
   ]
  },
  {
   "cell_type": "code",
   "execution_count": 19,
   "metadata": {},
   "outputs": [],
   "source": [
    "predictions = predictions.reshape(-1)"
   ]
  },
  {
   "cell_type": "code",
   "execution_count": 20,
   "metadata": {},
   "outputs": [
    {
     "data": {
      "text/plain": [
       "(1750,)"
      ]
     },
     "execution_count": 20,
     "metadata": {},
     "output_type": "execute_result"
    }
   ],
   "source": [
    "predictions.shape"
   ]
  },
  {
   "cell_type": "code",
   "execution_count": 21,
   "metadata": {},
   "outputs": [
    {
     "data": {
      "text/plain": [
       "1770"
      ]
     },
     "execution_count": 21,
     "metadata": {},
     "output_type": "execute_result"
    }
   ],
   "source": [
    "len(df)"
   ]
  },
  {
   "cell_type": "code",
   "execution_count": 22,
   "metadata": {},
   "outputs": [],
   "source": [
    "predictions = np.append(predictions, np.zeros(20))"
   ]
  },
  {
   "cell_type": "code",
   "execution_count": 23,
   "metadata": {},
   "outputs": [
    {
     "data": {
      "text/plain": [
       "(1770,)"
      ]
     },
     "execution_count": 23,
     "metadata": {},
     "output_type": "execute_result"
    }
   ],
   "source": [
    "predictions.shape"
   ]
  },
  {
   "cell_type": "code",
   "execution_count": 24,
   "metadata": {},
   "outputs": [],
   "source": [
    "df[\"predictions\"] = predictions"
   ]
  },
  {
   "cell_type": "code",
   "execution_count": 25,
   "metadata": {},
   "outputs": [
    {
     "data": {
      "text/html": [
       "<div>\n",
       "<style scoped>\n",
       "    .dataframe tbody tr th:only-of-type {\n",
       "        vertical-align: middle;\n",
       "    }\n",
       "\n",
       "    .dataframe tbody tr th {\n",
       "        vertical-align: top;\n",
       "    }\n",
       "\n",
       "    .dataframe thead th {\n",
       "        text-align: right;\n",
       "    }\n",
       "</style>\n",
       "<table border=\"1\" class=\"dataframe\">\n",
       "  <thead>\n",
       "    <tr style=\"text-align: right;\">\n",
       "      <th></th>\n",
       "      <th>Date</th>\n",
       "      <th>Symbol</th>\n",
       "      <th>Open</th>\n",
       "      <th>High</th>\n",
       "      <th>Low</th>\n",
       "      <th>Close</th>\n",
       "      <th>Volume From</th>\n",
       "      <th>Volume To</th>\n",
       "      <th>Open_before</th>\n",
       "      <th>Open_changes</th>\n",
       "      <th>predictions</th>\n",
       "    </tr>\n",
       "  </thead>\n",
       "  <tbody>\n",
       "    <tr>\n",
       "      <th>0</th>\n",
       "      <td>2018-08-11</td>\n",
       "      <td>BTCUSD</td>\n",
       "      <td>6141.5</td>\n",
       "      <td>6228.9</td>\n",
       "      <td>5969.6</td>\n",
       "      <td>6228.9</td>\n",
       "      <td>2586.37</td>\n",
       "      <td>15763120.05</td>\n",
       "      <td>6536.0</td>\n",
       "      <td>-0.060358</td>\n",
       "      <td>0.004365</td>\n",
       "    </tr>\n",
       "    <tr>\n",
       "      <th>1</th>\n",
       "      <td>2018-08-10</td>\n",
       "      <td>BTCUSD</td>\n",
       "      <td>6536.0</td>\n",
       "      <td>6579.1</td>\n",
       "      <td>6010.0</td>\n",
       "      <td>6141.5</td>\n",
       "      <td>7526.91</td>\n",
       "      <td>47487206.71</td>\n",
       "      <td>6275.9</td>\n",
       "      <td>0.041444</td>\n",
       "      <td>0.010619</td>\n",
       "    </tr>\n",
       "    <tr>\n",
       "      <th>2</th>\n",
       "      <td>2018-08-09</td>\n",
       "      <td>BTCUSD</td>\n",
       "      <td>6275.9</td>\n",
       "      <td>6630.5</td>\n",
       "      <td>6179.1</td>\n",
       "      <td>6536.0</td>\n",
       "      <td>5942.17</td>\n",
       "      <td>38175637.90</td>\n",
       "      <td>6717.8</td>\n",
       "      <td>-0.065780</td>\n",
       "      <td>0.007317</td>\n",
       "    </tr>\n",
       "    <tr>\n",
       "      <th>3</th>\n",
       "      <td>2018-08-08</td>\n",
       "      <td>BTCUSD</td>\n",
       "      <td>6717.8</td>\n",
       "      <td>6717.8</td>\n",
       "      <td>6120.0</td>\n",
       "      <td>6275.9</td>\n",
       "      <td>9468.23</td>\n",
       "      <td>60523770.56</td>\n",
       "      <td>6935.7</td>\n",
       "      <td>-0.031417</td>\n",
       "      <td>0.006142</td>\n",
       "    </tr>\n",
       "    <tr>\n",
       "      <th>4</th>\n",
       "      <td>2018-08-07</td>\n",
       "      <td>BTCUSD</td>\n",
       "      <td>6935.7</td>\n",
       "      <td>7149.0</td>\n",
       "      <td>6659.9</td>\n",
       "      <td>6717.8</td>\n",
       "      <td>6505.50</td>\n",
       "      <td>45042696.31</td>\n",
       "      <td>7026.9</td>\n",
       "      <td>-0.012979</td>\n",
       "      <td>0.006469</td>\n",
       "    </tr>\n",
       "  </tbody>\n",
       "</table>\n",
       "</div>"
      ],
      "text/plain": [
       "         Date  Symbol    Open    High     Low   Close  Volume From  \\\n",
       "0  2018-08-11  BTCUSD  6141.5  6228.9  5969.6  6228.9      2586.37   \n",
       "1  2018-08-10  BTCUSD  6536.0  6579.1  6010.0  6141.5      7526.91   \n",
       "2  2018-08-09  BTCUSD  6275.9  6630.5  6179.1  6536.0      5942.17   \n",
       "3  2018-08-08  BTCUSD  6717.8  6717.8  6120.0  6275.9      9468.23   \n",
       "4  2018-08-07  BTCUSD  6935.7  7149.0  6659.9  6717.8      6505.50   \n",
       "\n",
       "     Volume To  Open_before  Open_changes  predictions  \n",
       "0  15763120.05       6536.0     -0.060358     0.004365  \n",
       "1  47487206.71       6275.9      0.041444     0.010619  \n",
       "2  38175637.90       6717.8     -0.065780     0.007317  \n",
       "3  60523770.56       6935.7     -0.031417     0.006142  \n",
       "4  45042696.31       7026.9     -0.012979     0.006469  "
      ]
     },
     "execution_count": 25,
     "metadata": {},
     "output_type": "execute_result"
    }
   ],
   "source": [
    "df.head()"
   ]
  },
  {
   "cell_type": "code",
   "execution_count": 26,
   "metadata": {},
   "outputs": [
    {
     "data": {
      "text/plain": [
       "6568.052544"
      ]
     },
     "execution_count": 26,
     "metadata": {},
     "output_type": "execute_result"
    }
   ],
   "source": [
    "6536.0 * (1 + 0.004904)"
   ]
  },
  {
   "cell_type": "code",
   "execution_count": 27,
   "metadata": {},
   "outputs": [
    {
     "data": {
      "text/plain": [
       "6141.500112"
      ]
     },
     "execution_count": 27,
     "metadata": {},
     "output_type": "execute_result"
    }
   ],
   "source": [
    "6536.0 * (1 -0.060358)"
   ]
  },
  {
   "cell_type": "code",
   "execution_count": 28,
   "metadata": {},
   "outputs": [],
   "source": [
    "df[\"Open_predicted\"] = df[\"Open_before\"] * (1 + df[\"predictions\"])"
   ]
  },
  {
   "cell_type": "code",
   "execution_count": 29,
   "metadata": {},
   "outputs": [
    {
     "data": {
      "text/plain": [
       "Int64Index([   0,    1,    2,    3,    4,    5,    6,    7,    8,    9,\n",
       "            ...\n",
       "            1760, 1761, 1762, 1763, 1764, 1765, 1766, 1767, 1768, 1769],\n",
       "           dtype='int64', length=1770)"
      ]
     },
     "execution_count": 29,
     "metadata": {},
     "output_type": "execute_result"
    }
   ],
   "source": [
    "df.index"
   ]
  },
  {
   "cell_type": "code",
   "execution_count": 47,
   "metadata": {},
   "outputs": [
    {
     "data": {
      "image/png": "[encoded data removed]",
      "text/plain": [
       "<Figure size 432x288 with 1 Axes>"
      ]
     },
     "metadata": {},
     "output_type": "display_data"
    }
   ],
   "source": [
    "# https://matplotlib.org/gallery/text_labels_and_annotations/date.html\n",
    "\n",
    "%matplotlib inline\n",
    "\n",
    "import matplotlib.pyplot as t\n",
    "import matplotlib.dates as mdates\n",
    "import matplotlib.cbook as cbook\n",
    "\n",
    "years = mdates.YearLocator()   # every year\n",
    "months = mdates.MonthLocator()  # every month\n",
    "yearsFmt = mdates.DateFormatter('%Y')\n",
    "\n",
    "# format the ticks\n",
    "ax = plt.gca()\n",
    "ax.xaxis.set_major_locator(years)\n",
    "ax.xaxis.set_major_formatter(yearsFmt)\n",
    "ax.xaxis.set_minor_locator(months)\n",
    "\n",
    "dates = np.array(df[\"Date\"]).astype(np.datetime64)\n",
    "\n",
    "plt.plot(dates, df[\"Open\"], label=\"Open\")\n",
    "plt.plot(dates, df[\"Open_predicted\"], label=\"Open (predicted)\")\n",
    "\n",
    "plt.legend()\n",
    "\n",
    "plt.show()"
   ]
  },
  {
   "cell_type": "code",
   "execution_count": null,
   "metadata": {},
   "outputs": [],
   "source": []
  },
  {
   "cell_type": "code",
   "execution_count": null,
   "metadata": {},
   "outputs": [],
   "source": []
  },
  {
   "cell_type": "code",
   "execution_count": null,
   "metadata": {},
   "outputs": [],
   "source": []
  }
 ],
 "metadata": {
  "kernelspec": {
   "display_name": "Python 3",
   "language": "python",
   "name": "python3"
  },
  "language_info": {
   "codemirror_mode": {
    "name": "ipython",
    "version": 3
   },
   "file_extension": ".py",
   "mimetype": "text/x-python",
   "name": "python",
   "nbconvert_exporter": "python",
   "pygments_lexer": "ipython3",
   "version": "3.6.5"
  }
 },
 "nbformat": 4,
 "nbformat_minor": 2
}
