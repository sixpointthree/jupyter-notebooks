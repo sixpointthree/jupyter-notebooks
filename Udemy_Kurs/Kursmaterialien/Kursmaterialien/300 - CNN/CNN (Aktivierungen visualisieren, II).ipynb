{
 "cells": [
  {
   "cell_type": "code",
   "execution_count": 5,
   "metadata": {},
   "outputs": [],
   "source": [
    "# Vorstellung: MNIST-Daten!\n",
    "# http://yann.lecun.com/exdb/mnist/\n",
    "# FashionMNIST: https://github.com/zalandoresearch/fashion-mnist\n",
    "\n",
    "import gzip\n",
    "import numpy as np\n",
    "from keras.utils import to_categorical\n",
    "\n",
    "def open_images(filename):\n",
    "    with gzip.open(filename, \"rb\") as file:\n",
    "        data = file.read()\n",
    "        return np.frombuffer(data, dtype=np.uint8, offset=16)\\\n",
    "            .reshape(-1, 28, 28)\\\n",
    "            .astype(np.float32)\n",
    "\n",
    "\n",
    "def open_labels(filename):\n",
    "    with gzip.open(filename, \"rb\") as file:\n",
    "        data = file.read()\n",
    "        return np.frombuffer(data, dtype=np.uint8, offset=8)\n",
    "    \n",
    "X_train = open_images(\"../data/fashion/train-images-idx3-ubyte.gz\")\n",
    "y_train = open_labels(\"../data/fashion/train-labels-idx1-ubyte.gz\")\n",
    "\n",
    "X_test = open_images(\"../data/fashion/t10k-images-idx3-ubyte.gz\")\n",
    "y_test = open_labels(\"../data/fashion/t10k-labels-idx1-ubyte.gz\")\n",
    "\n",
    "y_train = to_categorical(y_train)\n",
    "y_test = to_categorical(y_test)"
   ]
  },
  {
   "cell_type": "code",
   "execution_count": 16,
   "metadata": {},
   "outputs": [
    {
     "name": "stdout",
     "output_type": "stream",
     "text": [
      "Epoch 1/10\n",
      "60000/60000 [==============================] - 6s 101us/step - loss: 2.5788 - acc: 0.5905\n",
      "Epoch 2/10\n",
      "60000/60000 [==============================] - 5s 89us/step - loss: 0.6773 - acc: 0.7635\n",
      "Epoch 3/10\n",
      "60000/60000 [==============================] - 5s 84us/step - loss: 0.5388 - acc: 0.8080\n",
      "Epoch 4/10\n",
      "60000/60000 [==============================] - 5s 85us/step - loss: 0.4541 - acc: 0.8382\n",
      "Epoch 5/10\n",
      "60000/60000 [==============================] - 5s 89us/step - loss: 0.4128 - acc: 0.8517\n",
      "Epoch 6/10\n",
      "60000/60000 [==============================] - 6s 97us/step - loss: 0.3838 - acc: 0.8621\n",
      "Epoch 7/10\n",
      "60000/60000 [==============================] - 5s 89us/step - loss: 0.3691 - acc: 0.8653\n",
      "Epoch 8/10\n",
      "60000/60000 [==============================] - 5s 89us/step - loss: 0.3434 - acc: 0.8762\n",
      "Epoch 9/10\n",
      "60000/60000 [==============================] - 5s 91us/step - loss: 0.3343 - acc: 0.8782\n",
      "Epoch 10/10\n",
      "60000/60000 [==============================] - 6s 98us/step - loss: 0.3145 - acc: 0.8851\n"
     ]
    },
    {
     "data": {
      "text/plain": [
       "<keras.callbacks.History at 0x111ee7860>"
      ]
     },
     "execution_count": 16,
     "metadata": {},
     "output_type": "execute_result"
    }
   ],
   "source": [
    "from keras.models import Sequential\n",
    "from keras.layers import Dense, Conv2D, Flatten\n",
    "\n",
    "model = Sequential()\n",
    "\n",
    "model.add(Conv2D(10, kernel_size=(3, 3), activation=\"sigmoid\", input_shape=(28, 28, 1)))\n",
    "model.add(Flatten())\n",
    "model.add(Dense(10, activation=\"softmax\"))\n",
    "\n",
    "model.compile(optimizer=\"rmsprop\", loss=\"categorical_crossentropy\", metrics=[\"accuracy\"])\n",
    "model.fit(X_train.reshape(60000, 28, 28, 1), y_train, epochs=10, batch_size=1000)"
   ]
  },
  {
   "cell_type": "code",
   "execution_count": 30,
   "metadata": {},
   "outputs": [],
   "source": [
    "model2 = Sequential()\n",
    "\n",
    "model2.add(Conv2D(10, \n",
    "                  kernel_size=(3, 3), \n",
    "                  activation=\"sigmoid\", \n",
    "                  input_shape=(28, 28, 1), \n",
    "                  weights=model.layers[0].get_weights()))"
   ]
  },
  {
   "cell_type": "code",
   "execution_count": 35,
   "metadata": {},
   "outputs": [
    {
     "data": {
      "image/png": "[encoded data removed]",
      "text/plain": [
       "<Figure size 432x288 with 1 Axes>"
      ]
     },
     "metadata": {},
     "output_type": "display_data"
    }
   ],
   "source": [
    "%matplotlib inline\n",
    "\n",
    "import matplotlib.pyplot as plt\n",
    "\n",
    "plt.imshow(X_test[0], cmap=\"gray_r\")\n",
    "plt.show()"
   ]
  },
  {
   "cell_type": "code",
   "execution_count": 37,
   "metadata": {},
   "outputs": [],
   "source": [
    "result = model2.predict(X_test[0].reshape(1, 28, 28, 1))"
   ]
  },
  {
   "cell_type": "code",
   "execution_count": 38,
   "metadata": {},
   "outputs": [
    {
     "data": {
      "text/plain": [
       "(1, 26, 26, 10)"
      ]
     },
     "execution_count": 38,
     "metadata": {},
     "output_type": "execute_result"
    }
   ],
   "source": [
    "result.shape"
   ]
  },
  {
   "cell_type": "code",
   "execution_count": 40,
   "metadata": {},
   "outputs": [
    {
     "data": {
      "text/plain": [
       "(26, 26, 10)"
      ]
     },
     "execution_count": 40,
     "metadata": {},
     "output_type": "execute_result"
    }
   ],
   "source": [
    "result[0].shape"
   ]
  },
  {
   "cell_type": "code",
   "execution_count": 41,
   "metadata": {},
   "outputs": [
    {
     "data": {
      "text/plain": [
       "array([[4.19276863e-01, 4.19276863e-01, 4.19276863e-01, 4.19276863e-01,\n",
       "        4.19276863e-01, 4.19276863e-01, 4.19276863e-01, 4.19276863e-01,\n",
       "        4.19276863e-01, 4.19276863e-01, 4.19276863e-01, 4.19276863e-01,\n",
       "        4.19276863e-01, 4.19276863e-01, 4.19276863e-01, 4.19276863e-01,\n",
       "        4.19276863e-01, 4.19276863e-01, 4.19276863e-01, 4.19276863e-01,\n",
       "        4.19276863e-01, 4.19276863e-01, 4.19276863e-01, 4.19276863e-01,\n",
       "        4.19276863e-01, 4.19276863e-01],\n",
       "       [4.19276863e-01, 4.19276863e-01, 4.19276863e-01, 4.19276863e-01,\n",
       "        4.19276863e-01, 4.19276863e-01, 4.19276863e-01, 4.19276863e-01,\n",
       "        4.19276863e-01, 4.19276863e-01, 4.19276863e-01, 4.19276863e-01,\n",
       "        4.19276863e-01, 4.19276863e-01, 4.19276863e-01, 4.19276863e-01,\n",
       "        4.19276863e-01, 4.19276863e-01, 4.19276863e-01, 4.19276863e-01,\n",
       "        4.19276863e-01, 4.19276863e-01, 4.19276863e-01, 4.19276863e-01,\n",
       "        4.19276863e-01, 4.19276863e-01],\n",
       "       [4.19276863e-01, 4.19276863e-01, 4.19276863e-01, 4.19276863e-01,\n",
       "        4.19276863e-01, 4.19276863e-01, 4.19276863e-01, 4.19276863e-01,\n",
       "        4.19276863e-01, 4.19276863e-01, 4.19276863e-01, 4.19276863e-01,\n",
       "        4.19276863e-01, 4.19276863e-01, 4.19276863e-01, 4.19276863e-01,\n",
       "        4.19276863e-01, 4.19276863e-01, 4.19276863e-01, 4.19276863e-01,\n",
       "        4.19276863e-01, 4.19276863e-01, 4.19276863e-01, 4.19276863e-01,\n",
       "        4.19276863e-01, 4.19276863e-01],\n",
       "       [4.19276863e-01, 4.19276863e-01, 4.19276863e-01, 4.19276863e-01,\n",
       "        4.19276863e-01, 4.19276863e-01, 4.19276863e-01, 4.19276863e-01,\n",
       "        4.19276863e-01, 4.19276863e-01, 4.19276863e-01, 4.19276863e-01,\n",
       "        4.19276863e-01, 4.19276863e-01, 4.19276863e-01, 4.19276863e-01,\n",
       "        4.19276863e-01, 4.19276863e-01, 4.19276863e-01, 4.19276863e-01,\n",
       "        4.19276863e-01, 4.19276863e-01, 4.19276863e-01, 4.19276863e-01,\n",
       "        4.19276863e-01, 4.19276863e-01],\n",
       "       [4.19276863e-01, 4.19276863e-01, 4.19276863e-01, 4.19276863e-01,\n",
       "        4.19276863e-01, 4.19276863e-01, 4.19276863e-01, 4.19276863e-01,\n",
       "        4.19276863e-01, 4.19276863e-01, 4.19276863e-01, 4.19276863e-01,\n",
       "        4.19276863e-01, 4.19276863e-01, 4.19276863e-01, 4.19276863e-01,\n",
       "        4.19276863e-01, 4.19276863e-01, 4.19276863e-01, 4.19276863e-01,\n",
       "        4.19276863e-01, 4.19276863e-01, 4.19276863e-01, 4.19276863e-01,\n",
       "        4.19276863e-01, 4.19276863e-01],\n",
       "       [4.19276863e-01, 4.19276863e-01, 4.19276863e-01, 4.19276863e-01,\n",
       "        4.19276863e-01, 4.19276863e-01, 4.19276863e-01, 4.19276863e-01,\n",
       "        4.19276863e-01, 4.19276863e-01, 4.19276863e-01, 4.19276863e-01,\n",
       "        4.19276863e-01, 4.19276863e-01, 4.19276863e-01, 4.19276863e-01,\n",
       "        4.19276863e-01, 2.64373481e-01, 2.77793288e-01, 5.35831213e-01,\n",
       "        4.68746573e-01, 1.24170512e-01, 2.22279504e-01, 5.38747641e-04,\n",
       "        5.35712810e-03, 9.99171615e-01],\n",
       "       [4.19276863e-01, 4.19276863e-01, 4.19276863e-01, 4.19276863e-01,\n",
       "        4.19276863e-01, 4.19276863e-01, 4.19276863e-01, 4.19276863e-01,\n",
       "        4.19276863e-01, 4.19276863e-01, 4.19276863e-01, 3.63945156e-01,\n",
       "        2.84305364e-01, 4.03730541e-01, 2.01893505e-03, 6.65285674e-11,\n",
       "        1.86170713e-04, 9.99999523e-01, 9.01179433e-01, 4.26997036e-01,\n",
       "        4.08767879e-01, 1.96297035e-01, 6.91117346e-01, 1.66312982e-15,\n",
       "        4.10437096e-05, 1.00000000e+00],\n",
       "       [4.19276863e-01, 4.19276863e-01, 4.19276863e-01, 4.19276863e-01,\n",
       "        4.19276863e-01, 4.19276863e-01, 4.19276863e-01, 4.19276863e-01,\n",
       "        4.19276863e-01, 4.19276863e-01, 4.19276863e-01, 3.28910112e-01,\n",
       "        3.52922827e-01, 5.38591504e-01, 1.31262379e-11, 4.01446187e-24,\n",
       "        6.92267790e-08, 9.99993324e-01, 1.00000000e+00, 5.34085274e-01,\n",
       "        4.52412039e-01, 4.21928475e-03, 2.38479271e-11, 1.20101006e-22,\n",
       "        1.00000000e+00, 1.00000000e+00],\n",
       "       [4.19276863e-01, 4.19276863e-01, 4.19276863e-01, 4.19276863e-01,\n",
       "        4.19276863e-01, 4.19276863e-01, 4.19276863e-01, 4.19276863e-01,\n",
       "        4.19276863e-01, 4.19276863e-01, 4.19276863e-01, 1.95617184e-01,\n",
       "        3.44749808e-01, 8.79922936e-06, 8.82813671e-23, 1.15178614e-18,\n",
       "        1.02109504e-06, 2.56853741e-06, 2.09235222e-15, 2.04611415e-11,\n",
       "        2.27146232e-10, 3.34464782e-11, 1.22273916e-19, 1.97316989e-12,\n",
       "        1.00000000e+00, 1.00000000e+00],\n",
       "       [4.19276863e-01, 4.19276863e-01, 4.19276863e-01, 4.19276863e-01,\n",
       "        4.19276863e-01, 4.19276863e-01, 4.19276863e-01, 4.19276863e-01,\n",
       "        4.19276863e-01, 4.19276863e-01, 3.11992496e-01, 2.29163855e-01,\n",
       "        1.44507572e-01, 6.45265915e-19, 5.42581427e-26, 2.45884223e-07,\n",
       "        2.32886830e-08, 2.89324609e-09, 1.03985549e-07, 5.55470527e-15,\n",
       "        5.59545306e-15, 1.22512283e-15, 8.73989162e-12, 3.71024456e-08,\n",
       "        1.00000000e+00, 1.00000000e+00],\n",
       "       [4.19276863e-01, 4.19276863e-01, 4.19276863e-01, 4.19276863e-01,\n",
       "        3.63945156e-01, 3.87430280e-01, 3.56576383e-01, 3.05116624e-01,\n",
       "        4.85755116e-01, 3.05170953e-01, 2.62586385e-01, 6.42539501e-01,\n",
       "        3.69678572e-13, 2.84602372e-27, 2.72337275e-06, 9.44547821e-07,\n",
       "        2.46115711e-10, 1.39338886e-06, 9.59708452e-01, 1.33604268e-02,\n",
       "        1.07077148e-03, 9.96179104e-01, 6.23670518e-02, 2.97109503e-02,\n",
       "        1.00000000e+00, 1.00000000e+00],\n",
       "       [4.19276863e-01, 4.19276863e-01, 3.63945156e-01, 3.87430280e-01,\n",
       "        4.30450439e-01, 4.59052354e-01, 3.36543709e-01, 4.60728377e-01,\n",
       "        2.79204249e-01, 2.26054698e-01, 6.80125356e-01, 7.31476935e-10,\n",
       "        1.18217066e-27, 1.05078835e-09, 4.50632751e-01, 1.08201255e-06,\n",
       "        1.35376821e-09, 9.74616826e-01, 8.37598443e-01, 3.65418236e-04,\n",
       "        3.96424584e-04, 9.99490023e-01, 8.77303362e-01, 1.34014699e-04,\n",
       "        1.00000000e+00, 1.00000000e+00],\n",
       "       [4.19276863e-01, 4.19276863e-01, 3.82115275e-01, 4.59052354e-01,\n",
       "        3.02099675e-01, 1.88037887e-01, 3.63956243e-01, 6.12223983e-01,\n",
       "        4.34821844e-01, 5.70595980e-01, 9.55903204e-11, 4.78976220e-26,\n",
       "        1.60858621e-14, 1.19496413e-01, 7.28363618e-02, 2.70276357e-10,\n",
       "        7.20735989e-06, 9.96584296e-01, 9.72137693e-03, 1.56428746e-03,\n",
       "        2.14246009e-03, 9.96833503e-01, 2.12325484e-01, 2.83524714e-05,\n",
       "        1.00000000e+00, 1.00000000e+00],\n",
       "       [3.11992496e-01, 2.58153319e-01, 3.95297408e-01, 3.85986090e-01,\n",
       "        3.62436205e-01, 4.45025802e-01, 5.19769967e-01, 4.16433364e-01,\n",
       "        1.61853281e-03, 3.40496294e-13, 4.82739140e-23, 1.41248804e-10,\n",
       "        3.12972734e-05, 4.94521460e-04, 3.28737032e-03, 4.68945455e-12,\n",
       "        3.55169438e-02, 2.21372053e-01, 2.99700041e-04, 8.90143565e-04,\n",
       "        1.30033679e-02, 9.99153495e-01, 8.08590591e-01, 1.20821595e-03,\n",
       "        5.52767456e-01, 1.00000000e+00],\n",
       "       [4.91571128e-01, 4.22566235e-01, 4.39289063e-01, 3.63438964e-01,\n",
       "        4.86939847e-01, 5.52624511e-03, 3.27262228e-07, 4.06225886e-11,\n",
       "        4.78591699e-15, 3.14471967e-16, 2.25301413e-08, 6.13018813e-07,\n",
       "        2.99166732e-05, 3.63019551e-03, 8.98383041e-06, 3.39602167e-07,\n",
       "        3.15740501e-04, 2.56378535e-05, 1.39678158e-02, 4.64166701e-01,\n",
       "        6.16826266e-02, 9.85553086e-01, 9.51395392e-01, 3.60123627e-02,\n",
       "        1.36918141e-04, 1.00000000e+00],\n",
       "       [2.98711611e-03, 1.34954135e-07, 2.28493047e-08, 1.94663173e-07,\n",
       "        4.73621569e-08, 2.39668376e-12, 2.89138911e-15, 3.11574985e-13,\n",
       "        1.91316435e-10, 1.98776622e-08, 7.07929132e-07, 4.20875411e-04,\n",
       "        7.13420275e-04, 9.96581584e-05, 8.60465079e-05, 6.20050775e-03,\n",
       "        1.52912762e-04, 7.97308329e-03, 5.37318766e-01, 1.01658492e-03,\n",
       "        2.93982536e-01, 9.47810173e-01, 4.84430813e-04, 7.11381508e-05,\n",
       "        4.09394124e-05, 1.00000000e+00],\n",
       "       [1.21584856e-15, 1.86601672e-11, 4.44483117e-10, 1.73033105e-12,\n",
       "        1.43747070e-10, 2.91726322e-12, 7.72107100e-11, 1.89006855e-09,\n",
       "        8.96686814e-08, 2.98036248e-05, 5.75868646e-04, 1.99690647e-03,\n",
       "        1.57943875e-01, 1.28077945e-05, 7.38185699e-05, 3.16715464e-02,\n",
       "        2.45644134e-02, 9.99568164e-01, 1.70779288e-01, 1.26855884e-04,\n",
       "        9.62534308e-01, 8.92674625e-01, 1.07709123e-02, 4.81155963e-04,\n",
       "        1.12566834e-09, 1.00000000e+00],\n",
       "       [4.27367671e-19, 2.67861789e-04, 8.23191749e-06, 2.01459101e-04,\n",
       "        1.57436344e-03, 5.85249579e-03, 3.17547731e-02, 3.40425223e-01,\n",
       "        3.47148418e-01, 2.85926163e-01, 5.18462947e-03, 3.35290059e-02,\n",
       "        6.80696405e-03, 4.16140301e-06, 1.79056897e-05, 4.41602402e-04,\n",
       "        6.70039171e-08, 2.35855714e-05, 2.85680954e-07, 1.36697490e-05,\n",
       "        1.28718594e-03, 2.77557177e-03, 1.71230313e-05, 1.42905817e-04,\n",
       "        5.42178517e-04, 1.00000000e+00],\n",
       "       [1.53311367e-20, 1.30251441e-13, 7.10325299e-10, 8.71585399e-08,\n",
       "        2.81046290e-04, 1.24733318e-02, 4.86361533e-01, 8.85204077e-01,\n",
       "        3.77694875e-01, 2.05651179e-01, 2.06527254e-03, 3.25496472e-07,\n",
       "        1.30942701e-09, 6.16430740e-10, 2.38744935e-08, 6.01670935e-11,\n",
       "        4.18369561e-10, 9.70179200e-01, 2.02081307e-09, 5.90629655e-17,\n",
       "        4.08873158e-09, 3.44262538e-08, 1.52763094e-10, 3.98627390e-06,\n",
       "        7.23264087e-03, 1.00000000e+00],\n",
       "       [9.99991417e-01, 1.00000000e+00, 3.68873149e-01, 1.10448397e-08,\n",
       "        1.08380171e-11, 2.05197445e-13, 4.54501298e-11, 7.08477998e-11,\n",
       "        2.34250588e-11, 2.48338683e-09, 5.06237829e-10, 2.81970891e-09,\n",
       "        6.35003969e-02, 9.99998093e-01, 1.00000000e+00, 1.00000000e+00,\n",
       "        1.00000000e+00, 1.00000000e+00, 3.34196316e-11, 2.04942191e-19,\n",
       "        6.19040511e-04, 9.84338105e-01, 9.92368937e-01, 9.99482989e-01,\n",
       "        9.97518301e-01, 1.00000000e+00],\n",
       "       [9.99811709e-01, 1.00000000e+00, 1.00000000e+00, 1.00000000e+00,\n",
       "        1.00000000e+00, 1.00000000e+00, 1.00000000e+00, 1.00000000e+00,\n",
       "        1.00000000e+00, 9.99999762e-01, 9.99999881e-01, 1.00000000e+00,\n",
       "        1.00000000e+00, 1.00000000e+00, 1.00000000e+00, 1.00000000e+00,\n",
       "        1.00000000e+00, 1.00000000e+00, 9.99941707e-01, 1.00000000e+00,\n",
       "        1.00000000e+00, 1.00000000e+00, 1.00000000e+00, 1.00000000e+00,\n",
       "        1.00000000e+00, 1.00000000e+00],\n",
       "       [4.19276863e-01, 4.10014898e-01, 5.38790226e-01, 9.92087185e-01,\n",
       "        9.99999404e-01, 1.00000000e+00, 1.00000000e+00, 1.00000000e+00,\n",
       "        1.00000000e+00, 1.00000000e+00, 1.00000000e+00, 1.00000000e+00,\n",
       "        1.00000000e+00, 1.00000000e+00, 1.00000000e+00, 9.99986172e-01,\n",
       "        6.79779947e-01, 4.19276863e-01, 2.90738791e-01, 9.99909639e-01,\n",
       "        1.00000000e+00, 1.00000000e+00, 1.00000000e+00, 1.00000000e+00,\n",
       "        1.00000000e+00, 1.00000000e+00],\n",
       "       [4.19276863e-01, 4.19276863e-01, 4.19276863e-01, 4.19276863e-01,\n",
       "        4.19276863e-01, 4.19276863e-01, 4.19276863e-01, 4.19276863e-01,\n",
       "        4.19276863e-01, 4.19276863e-01, 4.19276863e-01, 4.19276863e-01,\n",
       "        4.19276863e-01, 4.19276863e-01, 4.19276863e-01, 4.19276863e-01,\n",
       "        4.19276863e-01, 4.19276863e-01, 4.19276863e-01, 4.19276863e-01,\n",
       "        4.19276863e-01, 4.19276863e-01, 4.19276863e-01, 4.19276863e-01,\n",
       "        4.19276863e-01, 4.19276863e-01],\n",
       "       [4.19276863e-01, 4.19276863e-01, 4.19276863e-01, 4.19276863e-01,\n",
       "        4.19276863e-01, 4.19276863e-01, 4.19276863e-01, 4.19276863e-01,\n",
       "        4.19276863e-01, 4.19276863e-01, 4.19276863e-01, 4.19276863e-01,\n",
       "        4.19276863e-01, 4.19276863e-01, 4.19276863e-01, 4.19276863e-01,\n",
       "        4.19276863e-01, 4.19276863e-01, 4.19276863e-01, 4.19276863e-01,\n",
       "        4.19276863e-01, 4.19276863e-01, 4.19276863e-01, 4.19276863e-01,\n",
       "        4.19276863e-01, 4.19276863e-01],\n",
       "       [4.19276863e-01, 4.19276863e-01, 4.19276863e-01, 4.19276863e-01,\n",
       "        4.19276863e-01, 4.19276863e-01, 4.19276863e-01, 4.19276863e-01,\n",
       "        4.19276863e-01, 4.19276863e-01, 4.19276863e-01, 4.19276863e-01,\n",
       "        4.19276863e-01, 4.19276863e-01, 4.19276863e-01, 4.19276863e-01,\n",
       "        4.19276863e-01, 4.19276863e-01, 4.19276863e-01, 4.19276863e-01,\n",
       "        4.19276863e-01, 4.19276863e-01, 4.19276863e-01, 4.19276863e-01,\n",
       "        4.19276863e-01, 4.19276863e-01],\n",
       "       [4.19276863e-01, 4.19276863e-01, 4.19276863e-01, 4.19276863e-01,\n",
       "        4.19276863e-01, 4.19276863e-01, 4.19276863e-01, 4.19276863e-01,\n",
       "        4.19276863e-01, 4.19276863e-01, 4.19276863e-01, 4.19276863e-01,\n",
       "        4.19276863e-01, 4.19276863e-01, 4.19276863e-01, 4.19276863e-01,\n",
       "        4.19276863e-01, 4.19276863e-01, 4.19276863e-01, 4.19276863e-01,\n",
       "        4.19276863e-01, 4.19276863e-01, 4.19276863e-01, 4.19276863e-01,\n",
       "        4.19276863e-01, 4.19276863e-01]], dtype=float32)"
      ]
     },
     "execution_count": 41,
     "metadata": {},
     "output_type": "execute_result"
    }
   ],
   "source": [
    "result[0][:, :, 0]"
   ]
  },
  {
   "cell_type": "code",
   "execution_count": 48,
   "metadata": {},
   "outputs": [
    {
     "data": {
      "image/png": "[encoded data removed]",
      "text/plain": [
       "<Figure size 432x288 with 1 Axes>"
      ]
     },
     "metadata": {},
     "output_type": "display_data"
    }
   ],
   "source": [
    "plt.imshow(result[0][:, :, 6])\n",
    "plt.show()"
   ]
  },
  {
   "cell_type": "code",
   "execution_count": 51,
   "metadata": {},
   "outputs": [
    {
     "name": "stdout",
     "output_type": "stream",
     "text": [
      "Epoch 1/1\n",
      "60000/60000 [==============================] - 18s 306us/step - loss: 1.8303 - acc: 0.4307\n"
     ]
    },
    {
     "data": {
      "text/plain": [
       "<keras.callbacks.History at 0xb469b0630>"
      ]
     },
     "execution_count": 51,
     "metadata": {},
     "output_type": "execute_result"
    }
   ],
   "source": [
    "from keras.models import Sequential\n",
    "from keras.layers import Dense, Conv2D, Flatten\n",
    "\n",
    "model3 = Sequential()\n",
    "\n",
    "model3.add(Conv2D(10, kernel_size=(3, 3), activation=\"sigmoid\", input_shape=(28, 28, 1)))\n",
    "model3.add(Conv2D(10, kernel_size=(3, 3), activation=\"sigmoid\"))\n",
    "model3.add(Flatten())\n",
    "model3.add(Dense(10, activation=\"softmax\"))\n",
    "\n",
    "model3.compile(optimizer=\"rmsprop\", loss=\"categorical_crossentropy\", metrics=[\"accuracy\"])\n",
    "model3.fit(X_train.reshape(60000, 28, 28, 1), y_train, epochs=1, batch_size=1000)"
   ]
  },
  {
   "cell_type": "code",
   "execution_count": null,
   "metadata": {},
   "outputs": [],
   "source": []
  },
  {
   "cell_type": "code",
   "execution_count": null,
   "metadata": {},
   "outputs": [],
   "source": []
  }
 ],
 "metadata": {
  "kernelspec": {
   "display_name": "Python 3",
   "language": "python",
   "name": "python3"
  },
  "language_info": {
   "codemirror_mode": {
    "name": "ipython",
    "version": 3
   },
   "file_extension": ".py",
   "mimetype": "text/x-python",
   "name": "python",
   "nbconvert_exporter": "python",
   "pygments_lexer": "ipython3",
   "version": "3.6.5"
  }
 },
 "nbformat": 4,
 "nbformat_minor": 2
}
