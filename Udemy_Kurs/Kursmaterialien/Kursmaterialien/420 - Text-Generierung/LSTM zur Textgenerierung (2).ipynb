{
 "cells": [
  {
   "cell_type": "code",
   "execution_count": 1,
   "metadata": {},
   "outputs": [],
   "source": [
    "import numpy as np"
   ]
  },
  {
   "cell_type": "code",
   "execution_count": 9,
   "metadata": {},
   "outputs": [],
   "source": [
    "# 60-1952\n",
    "\n",
    "with open(\"verwandlung.txt\", \"r\", encoding=\"utf-8\") as file:\n",
    "    contents = file.read()\n",
    "    \n",
    "contents = \"\\n\".join(contents.split(\"\\n\")[59:1952])\n",
    "\n",
    "unique_chars = set(contents)\n",
    "int_to_char = {}\n",
    "char_to_int = {}\n",
    "\n",
    "for i, j in enumerate(unique_chars):\n",
    "    int_to_char[i] = j\n",
    "    char_to_int[j] = i"
   ]
  },
  {
   "cell_type": "code",
   "execution_count": 25,
   "metadata": {},
   "outputs": [
    {
     "name": "stdout",
     "output_type": "stream",
     "text": [
      "[[63, 58, 5, 3, 25, 4, 6, 28, 53, 4, 3, 20, 33, 65, 5, 33, 3, 6, 39, 38, 6, 5, 3, 52, 53, 4, 28, 6, 38, 5, 3, 33, 26, 5, 3, 26, 38, 4, 26, 36], [58, 5, 3, 25, 4, 6, 28, 53, 4, 3, 20, 33, 65, 5, 33, 3, 6, 39, 38, 6, 5, 3, 52, 53, 4, 28, 6, 38, 5, 3, 33, 26, 5, 3, 26, 38, 4, 26, 36, 39], [5, 3, 25, 4, 6, 28, 53, 4, 3, 20, 33, 65, 5, 33, 3, 6, 39, 38, 6, 5, 3, 52, 53, 4, 28, 6, 38, 5, 3, 33, 26, 5, 3, 26, 38, 4, 26, 36, 39, 28], [3, 25, 4, 6, 28, 53, 4, 3, 20, 33, 65, 5, 33, 3, 6, 39, 38, 6, 5, 3, 52, 53, 4, 28, 6, 38, 5, 3, 33, 26, 5, 3, 26, 38, 4, 26, 36, 39, 28, 6]]\n",
      "[39, 28, 6, 38]\n"
     ]
    }
   ],
   "source": [
    "length = 40\n",
    "\n",
    "X = []\n",
    "y = []\n",
    "\n",
    "for i in range(0, len(contents) - length):\n",
    "    line = contents[i:i+length]\n",
    "    X.append([char_to_int[l] for l in line])\n",
    "    \n",
    "    letter = contents[i+length]\n",
    "    y.append(char_to_int[letter])\n",
    "    \n",
    "print(X[:4])\n",
    "print(y[:4])"
   ]
  },
  {
   "cell_type": "code",
   "execution_count": null,
   "metadata": {},
   "outputs": [],
   "source": []
  }
 ],
 "metadata": {
  "kernelspec": {
   "display_name": "Python 3",
   "language": "python",
   "name": "python3"
  },
  "language_info": {
   "codemirror_mode": {
    "name": "ipython",
    "version": 3
   },
   "file_extension": ".py",
   "mimetype": "text/x-python",
   "name": "python",
   "nbconvert_exporter": "python",
   "pygments_lexer": "ipython3",
   "version": "3.7.7"
  }
 },
 "nbformat": 4,
 "nbformat_minor": 2
}
