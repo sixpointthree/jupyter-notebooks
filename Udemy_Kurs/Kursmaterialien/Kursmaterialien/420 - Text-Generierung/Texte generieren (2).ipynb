{
 "cells": [
  {
   "cell_type": "code",
   "execution_count": 1,
   "metadata": {},
   "outputs": [],
   "source": [
    "import pickle\n",
    "\n",
    "with open(\"char_to_int.pickle\", \"rb\") as file:\n",
    "    char_to_int = pickle.load(file)\n",
    "    \n",
    "with open(\"int_to_char.pickle\", \"rb\") as file:\n",
    "    int_to_char = pickle.load(file)"
   ]
  },
  {
   "cell_type": "code",
   "execution_count": 2,
   "metadata": {},
   "outputs": [],
   "source": [
    "with open(\"verwandlung.txt\", \"r\", encoding=\"utf-8\") as file:\n",
    "    contents = file.read()\n",
    "    \n",
    "contents = \"\\n\".join(contents.split(\"\\n\")[59:1952])"
   ]
  },
  {
   "cell_type": "code",
   "execution_count": 3,
   "metadata": {},
   "outputs": [
    {
     "name": "stderr",
     "output_type": "stream",
     "text": [
      "/Users/jannis/anaconda3/lib/python3.6/site-packages/h5py/__init__.py:36: FutureWarning: Conversion of the second argument of issubdtype from `float` to `np.floating` is deprecated. In future, it will be treated as `np.float64 == np.dtype(float).type`.\n",
      "  from ._conv import register_converters as _register_converters\n",
      "Using TensorFlow backend.\n"
     ]
    },
    {
     "name": "stdout",
     "output_type": "stream",
     "text": [
      "_________________________________________________________________\n",
      "Layer (type)                 Output Shape              Param #   \n",
      "=================================================================\n",
      "lstm_1 (LSTM)                (None, 128)               100864    \n",
      "_________________________________________________________________\n",
      "dense_1 (Dense)              (None, 68)                8772      \n",
      "=================================================================\n",
      "Total params: 109,636\n",
      "Trainable params: 109,636\n",
      "Non-trainable params: 0\n",
      "_________________________________________________________________\n"
     ]
    }
   ],
   "source": [
    "from keras.models import load_model\n",
    "\n",
    "model = load_model(\"weights.hdf5\")\n",
    "\n",
    "model.summary()"
   ]
  },
  {
   "cell_type": "code",
   "execution_count": 15,
   "metadata": {},
   "outputs": [],
   "source": [
    "line = contents[100:140]"
   ]
  },
  {
   "cell_type": "code",
   "execution_count": 28,
   "metadata": {},
   "outputs": [],
   "source": [
    "print?"
   ]
  },
  {
   "cell_type": "code",
   "execution_count": 30,
   "metadata": {},
   "outputs": [
    {
     "name": "stdout",
     "output_type": "stream",
     "text": [
      "ungeheueren Ungeziefer verwandelt. Er langsam die Schwester auf dem Kopf die Schwester auf dem Kopf die Schwester auf dem Kopf die Schwester"
     ]
    }
   ],
   "source": [
    "import numpy as np\n",
    "from keras.utils import to_categorical\n",
    "\n",
    "print(line, end=\"\")\n",
    "\n",
    "seed = [char_to_int[l] for l in line]\n",
    "seed = to_categorical(seed, num_classes=len(char_to_int))\n",
    "\n",
    "for i in range(0, 100):\n",
    "    prediction = model.predict(seed.reshape(1, 40, 68))\n",
    "    prediction = prediction[0]\n",
    "    \n",
    "    pos = np.argmax(prediction)\n",
    "    print(int_to_char[pos], end=\"\")\n",
    "    \n",
    "    new_char = to_categorical([pos], num_classes=len(char_to_int))\n",
    "        \n",
    "    seed = seed[1:,:]\n",
    "    seed = np.append(seed, new_char, axis=0)"
   ]
  },
  {
   "cell_type": "code",
   "execution_count": null,
   "metadata": {},
   "outputs": [],
   "source": []
  }
 ],
 "metadata": {
  "kernelspec": {
   "display_name": "Python 3",
   "language": "python",
   "name": "python3"
  },
  "language_info": {
   "codemirror_mode": {
    "name": "ipython",
    "version": 3
   },
   "file_extension": ".py",
   "mimetype": "text/x-python",
   "name": "python",
   "nbconvert_exporter": "python",
   "pygments_lexer": "ipython3",
   "version": "3.7.7"
  }
 },
 "nbformat": 4,
 "nbformat_minor": 2
}
