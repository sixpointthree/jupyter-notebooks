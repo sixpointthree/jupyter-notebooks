{
 "cells": [
  {
   "cell_type": "code",
   "execution_count": 9,
   "metadata": {},
   "outputs": [],
   "source": [
    "import numpy as np"
   ]
  },
  {
   "cell_type": "code",
   "execution_count": 22,
   "metadata": {},
   "outputs": [],
   "source": [
    "# 60-1952\n",
    "\n",
    "with open(\"verwandlung.txt\", \"r\", encoding=\"utf-8\") as file:\n",
    "    contents = file.read()"
   ]
  },
  {
   "cell_type": "code",
   "execution_count": 33,
   "metadata": {},
   "outputs": [],
   "source": [
    "contents = \"\\n\".join(contents.split(\"\\n\")[59:1952])"
   ]
  },
  {
   "cell_type": "code",
   "execution_count": 34,
   "metadata": {},
   "outputs": [
    {
     "data": {
      "text/plain": [
       "121130"
      ]
     },
     "execution_count": 34,
     "metadata": {},
     "output_type": "execute_result"
    }
   ],
   "source": [
    "len(contents)"
   ]
  },
  {
   "cell_type": "code",
   "execution_count": 36,
   "metadata": {},
   "outputs": [
    {
     "data": {
      "text/plain": [
       "{'H', 'W'}"
      ]
     },
     "execution_count": 36,
     "metadata": {},
     "output_type": "execute_result"
    }
   ],
   "source": [
    "set([\"H\", \"H\", \"W\"])"
   ]
  },
  {
   "cell_type": "code",
   "execution_count": 37,
   "metadata": {},
   "outputs": [
    {
     "data": {
      "text/plain": [
       "68"
      ]
     },
     "execution_count": 37,
     "metadata": {},
     "output_type": "execute_result"
    }
   ],
   "source": [
    "len(set(contents))"
   ]
  },
  {
   "cell_type": "code",
   "execution_count": 41,
   "metadata": {},
   "outputs": [],
   "source": [
    "unique_chars = set(contents)"
   ]
  },
  {
   "cell_type": "code",
   "execution_count": 45,
   "metadata": {},
   "outputs": [],
   "source": [
    "int_to_char = {}\n",
    "char_to_int = {}\n",
    "\n",
    "for i, j in enumerate(unique_chars):\n",
    "    int_to_char[i] = j\n",
    "    char_to_int[j] = i"
   ]
  },
  {
   "cell_type": "code",
   "execution_count": 46,
   "metadata": {},
   "outputs": [
    {
     "name": "stdout",
     "output_type": "stream",
     "text": [
      "{0: 'A', 1: 'p', 2: '!', 3: 'E', 4: ';', 5: 'L', 6: ':', 7: 't', 8: 'C', 9: 'V', 10: \"'\", 11: 'e', 12: 'ö', 13: 'r', 14: 'b', 15: '«', 16: 'H', 17: 'w', 18: 'c', 19: 'l', 20: '?', 21: 'Ü', 22: 'ß', 23: 'Ä', 24: '\\n', 25: 'k', 26: 'z', 27: 'W', 28: 'D', 29: 'J', 30: 'u', 31: 'M', 32: 'I', 33: 'g', 34: 'Ö', 35: 'ü', 36: 'F', 37: 'f', 38: 'Z', 39: '.', 40: 'v', 41: '»', 42: 'x', 43: 's', 44: '-', 45: 'a', 46: 'o', 47: 'T', 48: 'N', 49: 'n', 50: ' ', 51: ',', 52: 'q', 53: 'P', 54: 'j', 55: 'm', 56: 'i', 57: 'R', 58: 'S', 59: 'O', 60: 'Q', 61: 'ä', 62: 'd', 63: 'G', 64: 'K', 65: 'U', 66: 'h', 67: 'B'}\n"
     ]
    }
   ],
   "source": [
    "print(int_to_char)"
   ]
  },
  {
   "cell_type": "code",
   "execution_count": 47,
   "metadata": {},
   "outputs": [
    {
     "name": "stdout",
     "output_type": "stream",
     "text": [
      "{'A': 0, 'p': 1, '!': 2, 'E': 3, ';': 4, 'L': 5, ':': 6, 't': 7, 'C': 8, 'V': 9, \"'\": 10, 'e': 11, 'ö': 12, 'r': 13, 'b': 14, '«': 15, 'H': 16, 'w': 17, 'c': 18, 'l': 19, '?': 20, 'Ü': 21, 'ß': 22, 'Ä': 23, '\\n': 24, 'k': 25, 'z': 26, 'W': 27, 'D': 28, 'J': 29, 'u': 30, 'M': 31, 'I': 32, 'g': 33, 'Ö': 34, 'ü': 35, 'F': 36, 'f': 37, 'Z': 38, '.': 39, 'v': 40, '»': 41, 'x': 42, 's': 43, '-': 44, 'a': 45, 'o': 46, 'T': 47, 'N': 48, 'n': 49, ' ': 50, ',': 51, 'q': 52, 'P': 53, 'j': 54, 'm': 55, 'i': 56, 'R': 57, 'S': 58, 'O': 59, 'Q': 60, 'ä': 61, 'd': 62, 'G': 63, 'K': 64, 'U': 65, 'h': 66, 'B': 67}\n"
     ]
    }
   ],
   "source": [
    "print(char_to_int)"
   ]
  },
  {
   "cell_type": "code",
   "execution_count": null,
   "metadata": {},
   "outputs": [],
   "source": []
  }
 ],
 "metadata": {
  "kernelspec": {
   "display_name": "Python 3",
   "language": "python",
   "name": "python3"
  },
  "language_info": {
   "codemirror_mode": {
    "name": "ipython",
    "version": 3
   },
   "file_extension": ".py",
   "mimetype": "text/x-python",
   "name": "python",
   "nbconvert_exporter": "python",
   "pygments_lexer": "ipython3",
   "version": "3.7.7"
  }
 },
 "nbformat": 4,
 "nbformat_minor": 2
}
