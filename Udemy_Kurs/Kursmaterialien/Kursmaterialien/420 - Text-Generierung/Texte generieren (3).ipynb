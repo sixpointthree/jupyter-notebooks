{
 "cells": [
  {
   "cell_type": "code",
   "execution_count": 1,
   "metadata": {},
   "outputs": [],
   "source": [
    "import pickle\n",
    "\n",
    "with open(\"char_to_int.pickle\", \"rb\") as file:\n",
    "    char_to_int = pickle.load(file)\n",
    "    \n",
    "with open(\"int_to_char.pickle\", \"rb\") as file:\n",
    "    int_to_char = pickle.load(file)"
   ]
  },
  {
   "cell_type": "code",
   "execution_count": 2,
   "metadata": {},
   "outputs": [],
   "source": [
    "with open(\"verwandlung.txt\", \"r\", encoding=\"utf-8\") as file:\n",
    "    contents = file.read()\n",
    "    \n",
    "contents = \"\\n\".join(contents.split(\"\\n\")[59:1952])"
   ]
  },
  {
   "cell_type": "code",
   "execution_count": 4,
   "metadata": {},
   "outputs": [
    {
     "name": "stdout",
     "output_type": "stream",
     "text": [
      "_________________________________________________________________\n",
      "Layer (type)                 Output Shape              Param #   \n",
      "=================================================================\n",
      "lstm_1 (LSTM)                (None, 128)               100864    \n",
      "_________________________________________________________________\n",
      "dense_1 (Dense)              (None, 68)                8772      \n",
      "=================================================================\n",
      "Total params: 109,636\n",
      "Trainable params: 109,636\n",
      "Non-trainable params: 0\n",
      "_________________________________________________________________\n"
     ]
    }
   ],
   "source": [
    "from keras.models import load_model\n",
    "\n",
    "model = load_model(\"weights.hdf5\")\n",
    "\n",
    "model.summary()"
   ]
  },
  {
   "cell_type": "code",
   "execution_count": 5,
   "metadata": {},
   "outputs": [],
   "source": [
    "line = contents[100:140]"
   ]
  },
  {
   "cell_type": "code",
   "execution_count": 29,
   "metadata": {},
   "outputs": [
    {
     "name": "stdout",
     "output_type": "stream",
     "text": [
      "ungeheueren Ungeziefer verwandelt. Er lart der Gregor\n",
      "auf den Arden. Herr Patsam nicht sich nicht ins\n",
      "Einstracks.,\n",
      "so hätte aber\n",
      "sich bewortet, sie eine lesstrung; wenelerstend in\n",
      "die beierlich und die\n",
      "rücktich Gregor sich zuorgten, fest jetzt geschäft mit der Diesen sehen hinchen die Türer und leicht der Bewißungschein klang daßazen, als kroch zueren\n",
      "hindigen Gregur hoff, zofort irten Reisen mich nur hatte, dließ ihre Stzörerne gerährt zu verschwang einzimmer öff, die Worig gebrachtelbeit weifer, schaut geträcht, sielt so haben.\n",
      "\n",
      "blaute er mupf war, weiß er rupfig, »Verhältigsten Entstunde, die ihn stilcher\n",
      "weite erst, lich den gesenet hald die Rücken hilaunstore mit dem mit Augenen Rücke Zeichen Brohnen. Gregor nur gesterf,\n",
      "im Tränen sagen, und Gregor die\n",
      "Begendrich gekommen saßen, daß sie wehr fregürkershurte. zwie allend wach genügte im Haunel alle\n",
      "gleich im Kopf auf ihnen wie ich Grendernaus gewörel, ilt machte Gregor\n",
      "eigentlich Ruhd, um eine Familie\n",
      "zubeseren, verlesst nie gemerkte sie sehn die\n",
      "Rückes und da aus einem "
     ]
    }
   ],
   "source": [
    "import numpy as np\n",
    "from keras.utils import to_categorical\n",
    "\n",
    "print(line, end=\"\")\n",
    "\n",
    "seed = [char_to_int[l] for l in line]\n",
    "seed = to_categorical(seed, num_classes=len(char_to_int))\n",
    "\n",
    "for i in range(0, 1000):\n",
    "    prediction = model.predict(seed.reshape(1, 40, 68))\n",
    "    prediction = prediction[0]\n",
    "        \n",
    "    pos = np.random.choice(68, 1, p=prediction)[0]\n",
    "    print(int_to_char[pos], end=\"\")\n",
    "    \n",
    "    new_char = to_categorical([pos], num_classes=len(char_to_int))\n",
    "        \n",
    "    seed = seed[1:,:]\n",
    "    seed = np.append(seed, new_char, axis=0)"
   ]
  },
  {
   "cell_type": "code",
   "execution_count": 21,
   "metadata": {},
   "outputs": [
    {
     "data": {
      "text/plain": [
       "array([1])"
      ]
     },
     "execution_count": 21,
     "metadata": {},
     "output_type": "execute_result"
    }
   ],
   "source": [
    "np.random.choice(3, 1, p=[0.1, 0.8, 0.1])"
   ]
  },
  {
   "cell_type": "code",
   "execution_count": null,
   "metadata": {},
   "outputs": [],
   "source": []
  }
 ],
 "metadata": {
  "kernelspec": {
   "display_name": "Python 3",
   "language": "python",
   "name": "python3"
  },
  "language_info": {
   "codemirror_mode": {
    "name": "ipython",
    "version": 3
   },
   "file_extension": ".py",
   "mimetype": "text/x-python",
   "name": "python",
   "nbconvert_exporter": "python",
   "pygments_lexer": "ipython3",
   "version": "3.7.7"
  }
 },
 "nbformat": 4,
 "nbformat_minor": 2
}
