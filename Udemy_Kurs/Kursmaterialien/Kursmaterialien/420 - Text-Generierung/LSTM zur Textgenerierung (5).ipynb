{
 "cells": [
  {
   "cell_type": "code",
   "execution_count": 5,
   "metadata": {},
   "outputs": [],
   "source": [
    "import numpy as np\n",
    "import keras"
   ]
  },
  {
   "cell_type": "code",
   "execution_count": 6,
   "metadata": {},
   "outputs": [],
   "source": [
    "# 60-1952\n",
    "\n",
    "with open(\"verwandlung.txt\", \"r\", encoding=\"utf-8\") as file:\n",
    "    contents = file.read()\n",
    "    \n",
    "contents = \"\\n\".join(contents.split(\"\\n\")[59:1952])\n",
    "\n",
    "unique_chars = set(contents)\n",
    "int_to_char = {}\n",
    "char_to_int = {}\n",
    "\n",
    "for i, j in enumerate(unique_chars):\n",
    "    int_to_char[i] = j\n",
    "    char_to_int[j] = i"
   ]
  },
  {
   "cell_type": "code",
   "execution_count": 7,
   "metadata": {},
   "outputs": [],
   "source": [
    "length = 40\n",
    "\n",
    "X = []\n",
    "y = []\n",
    "\n",
    "for i in range(0, len(contents) - length):\n",
    "    line = contents[i:i+length]\n",
    "    X.append([char_to_int[l] for l in line])\n",
    "    \n",
    "    letter = contents[i+length]\n",
    "    y.append(char_to_int[letter])"
   ]
  },
  {
   "cell_type": "code",
   "execution_count": 8,
   "metadata": {},
   "outputs": [],
   "source": [
    "# 0 = [1, 0, 0, 0, 0, 0, ....]\n",
    "# 1 = [0, 1, 0, 0, 0, 0, ...]\n",
    "\n",
    "from keras.utils import to_categorical\n",
    "\n",
    "X = to_categorical(X, num_classes=len(unique_chars))\n",
    "y = to_categorical(y, num_classes=len(unique_chars))"
   ]
  },
  {
   "cell_type": "code",
   "execution_count": 9,
   "metadata": {},
   "outputs": [
    {
     "data": {
      "text/plain": [
       "(121090, 40, 68)"
      ]
     },
     "execution_count": 9,
     "metadata": {},
     "output_type": "execute_result"
    }
   ],
   "source": [
    "X.shape"
   ]
  },
  {
   "cell_type": "code",
   "execution_count": 10,
   "metadata": {},
   "outputs": [],
   "source": [
    "from keras.models import Sequential\n",
    "from keras.layers import Dense, LSTM\n",
    "\n",
    "model = Sequential()\n",
    "model.add(LSTM(128, input_shape=(40, 68)))\n",
    "model.add(Dense(68, activation=\"softmax\"))\n",
    "\n",
    "model.compile(optimizer=\"adam\", loss=\"categorical_crossentropy\")"
   ]
  },
  {
   "cell_type": "code",
   "execution_count": 11,
   "metadata": {},
   "outputs": [],
   "source": [
    "from keras.callbacks import ModelCheckpoint\n",
    "\n",
    "save_model = ModelCheckpoint(\"weights.{epoch:02d}-{loss:.2f}.hdf5\")"
   ]
  },
  {
   "cell_type": "code",
   "execution_count": 12,
   "metadata": {},
   "outputs": [
    {
     "name": "stdout",
     "output_type": "stream",
     "text": [
      "Epoch 1/10\n",
      "121090/121090 [==============================] - 263s 2ms/step - loss: 2.3387\n",
      "Epoch 2/10\n",
      "121090/121090 [==============================] - 261s 2ms/step - loss: 1.8949\n",
      "Epoch 3/10\n",
      "121090/121090 [==============================] - 261s 2ms/step - loss: 1.7499\n",
      "Epoch 4/10\n",
      "121090/121090 [==============================] - 261s 2ms/step - loss: 1.6562\n",
      "Epoch 5/10\n",
      "121090/121090 [==============================] - 259s 2ms/step - loss: 1.5871\n",
      "Epoch 6/10\n",
      "121090/121090 [==============================] - 259s 2ms/step - loss: 1.5340\n",
      "Epoch 7/10\n",
      "121090/121090 [==============================] - 257s 2ms/step - loss: 1.4911\n",
      "Epoch 8/10\n",
      "121090/121090 [==============================] - 257s 2ms/step - loss: 1.4560\n",
      "Epoch 9/10\n",
      "121090/121090 [==============================] - 257s 2ms/step - loss: 1.4249\n",
      "Epoch 10/10\n",
      "121090/121090 [==============================] - 256s 2ms/step - loss: 1.4019\n"
     ]
    },
    {
     "data": {
      "text/plain": [
       "<keras.callbacks.History at 0x7f0d7ff13b38>"
      ]
     },
     "execution_count": 12,
     "metadata": {},
     "output_type": "execute_result"
    }
   ],
   "source": [
    "model.fit(X, y, batch_size=32, epochs=10, callbacks=[save_model])"
   ]
  },
  {
   "cell_type": "code",
   "execution_count": null,
   "metadata": {},
   "outputs": [],
   "source": []
  }
 ],
 "metadata": {
  "kernelspec": {
   "display_name": "Python 3",
   "language": "python",
   "name": "python3"
  },
  "language_info": {
   "codemirror_mode": {
    "name": "ipython",
    "version": 3
   },
   "file_extension": ".py",
   "mimetype": "text/x-python",
   "name": "python",
   "nbconvert_exporter": "python",
   "pygments_lexer": "ipython3",
   "version": "3.7.7"
  }
 },
 "nbformat": 4,
 "nbformat_minor": 2
}
