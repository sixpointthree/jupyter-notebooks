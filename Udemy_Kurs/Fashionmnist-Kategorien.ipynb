{
 "cells": [
  {
   "cell_type": "code",
   "execution_count": 2,
   "id": "f9c825ba",
   "metadata": {},
   "outputs": [],
   "source": [
    "# Wenn Daten nicht aufgeteilt sind:\n",
    "#from sklearn.model_selection import train_test_split\n",
    "#X_train, X_test, y_train, y_test = train_test_split(X, y)\n",
    "# Unsere Daten sind aber schon aufgeteilt!"
   ]
  },
  {
   "cell_type": "code",
   "execution_count": 3,
   "id": "6d381936",
   "metadata": {},
   "outputs": [],
   "source": [
    "# Vorstellung: MNIST-Daten!\n",
    "# http://yann.lecun.com/exdb/mnist/\n",
    "# FashionMNIST: https://github.com/zalandoresearch/fashion-mnist\n",
    "\n",
    "import gzip\n",
    "import numpy as np\n",
    "\n",
    "def open_images(filename):\n",
    "    with gzip.open(filename, \"rb\") as file:\n",
    "        data = file.read()\n",
    "        return np.frombuffer(data, dtype=np.uint8, offset=16)\\\n",
    "            .reshape(-1, 28, 28)\\\n",
    "            .astype(np.float32)\n",
    "\n",
    "\n",
    "def open_labels(filename):\n",
    "    with gzip.open(filename, \"rb\") as file:\n",
    "        data = file.read()\n",
    "        return np.frombuffer(data, dtype=np.uint8, offset=8)"
   ]
  },
  {
   "cell_type": "code",
   "execution_count": 4,
   "id": "e2da1b30",
   "metadata": {},
   "outputs": [],
   "source": [
    "X_train = open_images(\"C:/Users/Steffen/Documents/Jupyter Notebooks/Udemy_Kurs/Kursmaterialien/Kursmaterialien/data/fashion/train-images-idx3-ubyte.gz\")\n",
    "y_train = open_labels(\"C:/Users/Steffen/Documents/Jupyter Notebooks/Udemy_Kurs/Kursmaterialien/Kursmaterialien/data/fashion/train-labels-idx1-ubyte.gz\")\n",
    "\n",
    "# Testdaten!\n",
    "X_test = open_images(\"C:/Users/Steffen/Documents/Jupyter Notebooks/Udemy_Kurs/Kursmaterialien/Kursmaterialien/data/fashion/t10k-images-idx3-ubyte.gz\")\n",
    "y_test = open_labels(\"C:/Users/Steffen/Documents/Jupyter Notebooks/Udemy_Kurs/Kursmaterialien/Kursmaterialien/data/fashion/t10k-labels-idx1-ubyte.gz\")"
   ]
  },
  {
   "cell_type": "code",
   "execution_count": 9,
   "id": "fe1739c3",
   "metadata": {},
   "outputs": [
    {
     "name": "stdout",
     "output_type": "stream",
     "text": [
      "[9 0 0 ... 3 0 5]\n"
     ]
    }
   ],
   "source": [
    "from tensorflow.keras.utils import to_categorical\n",
    "\n",
    "print(y_train)\n",
    "y_train_cat = to_categorical(y_train)\n",
    "y_test_cat = to_categorical(y_test)"
   ]
  },
  {
   "cell_type": "code",
   "execution_count": 11,
   "id": "040444d6",
   "metadata": {},
   "outputs": [],
   "source": [
    "from tensorflow.keras.models import Sequential\n",
    "from tensorflow.keras.layers import Dense"
   ]
  },
  {
   "cell_type": "code",
   "execution_count": 12,
   "id": "eee360e1",
   "metadata": {},
   "outputs": [
    {
     "name": "stdout",
     "output_type": "stream",
     "text": [
      "Epoch 1/10\n",
      "60/60 [==============================] - 1s 7ms/step - loss: 1.6898 - accuracy: 0.5030\n",
      "Epoch 2/10\n",
      "60/60 [==============================] - 0s 6ms/step - loss: 1.2075 - accuracy: 0.6819\n",
      "Epoch 3/10\n",
      "60/60 [==============================] - 0s 6ms/step - loss: 1.0397 - accuracy: 0.7152\n",
      "Epoch 4/10\n",
      "60/60 [==============================] - 0s 6ms/step - loss: 0.9411 - accuracy: 0.7367\n",
      "Epoch 5/10\n",
      "60/60 [==============================] - 0s 6ms/step - loss: 0.8729 - accuracy: 0.7517\n",
      "Epoch 6/10\n",
      "60/60 [==============================] - 0s 6ms/step - loss: 0.8217 - accuracy: 0.7652\n",
      "Epoch 7/10\n",
      "60/60 [==============================] - 0s 6ms/step - loss: 0.7807 - accuracy: 0.7713\n",
      "Epoch 8/10\n",
      "60/60 [==============================] - 0s 6ms/step - loss: 0.7475 - accuracy: 0.7799\n",
      "Epoch 9/10\n",
      "60/60 [==============================] - 0s 6ms/step - loss: 0.7196 - accuracy: 0.7852\n",
      "Epoch 10/10\n",
      "60/60 [==============================] - 0s 6ms/step - loss: 0.6943 - accuracy: 0.7919\n"
     ]
    },
    {
     "data": {
      "text/plain": [
       "<keras.callbacks.History at 0x26def24b580>"
      ]
     },
     "execution_count": 12,
     "metadata": {},
     "output_type": "execute_result"
    }
   ],
   "source": [
    "model = Sequential()\n",
    "# 100 Neuronen im Hidden Layer, Sigmoid als Aktivierungsfunktion, 28 x 28 px --> 784 Eingänge\n",
    "model.add(Dense(100, activation=\"sigmoid\", input_shape=(784,)))\n",
    "# 10 Ausgangsneuronen, Sigmoid als Aktivierungsfunktion\n",
    "model.add(Dense(10, activation=\"sigmoid\"))\n",
    "# Modell kompilieren --> Code wird für Hardware (GPU) vorbereitet, optimizer für weights: Stochastic Gradient Descent, Metriken angeben\n",
    "model.compile(optimizer=\"sgd\", loss=\"categorical_crossentropy\", metrics=[\"accuracy\"])\n",
    "# X_train Daten reshapen Matrix von 28 x 28 --> Liste 784\n",
    "X_train_784 = X_train.reshape(60000, 784)\n",
    "# fit(Eingabedaten, Labels, Epochen: Daten werden 10x durchlaufen, Batch Size: batch von 1000 Eingabedaten, dann weight opt.)\n",
    "model.fit(X_train_784, y_train_cat, epochs=10, batch_size=1000)"
   ]
  },
  {
   "cell_type": "code",
   "execution_count": 13,
   "id": "c86b839c",
   "metadata": {},
   "outputs": [
    {
     "name": "stdout",
     "output_type": "stream",
     "text": [
      "['loss', 'accuracy']\n",
      "313/313 [==============================] - 0s 1ms/step - loss: 0.7035 - accuracy: 0.7806\n"
     ]
    },
    {
     "data": {
      "text/plain": [
       "[0.703478991985321, 0.7806000113487244]"
      ]
     },
     "execution_count": 13,
     "metadata": {},
     "output_type": "execute_result"
    }
   ],
   "source": [
    "# Genauigkeit mit Testdaten bestimmen\n",
    "print(model.metrics_names)\n",
    "X_test_784 = X_test.reshape(10000, 784)\n",
    "model.evaluate(X_test_784, y_test_cat)"
   ]
  },
  {
   "cell_type": "code",
   "execution_count": 19,
   "id": "f8795961",
   "metadata": {},
   "outputs": [
    {
     "name": "stdout",
     "output_type": "stream",
     "text": [
      "(10000, 10)\n",
      "[[0.16104856 0.19916409 0.34908175 ... 0.86043835 0.75425696 0.9299139 ]\n",
      " [0.43030116 0.4216223  0.9759307  ... 0.330482   0.3698182  0.12776706]\n",
      " [0.7236103  0.9903196  0.54219496 ... 0.16836661 0.34091586 0.3058409 ]\n",
      " ...\n",
      " [0.7969186  0.14736113 0.3882739  ... 0.29712638 0.89550585 0.3092183 ]\n",
      " [0.572602   0.98733556 0.66178405 ... 0.311657   0.37190232 0.46944314]\n",
      " [0.14070895 0.39302543 0.38480237 ... 0.9277954  0.523662   0.8666292 ]]\n"
     ]
    }
   ],
   "source": [
    "# Vorher:\n",
    "# - ja / nein\n",
    "#  10% / 90% Daten\n",
    "\n",
    "# Nachher:\n",
    "# - 10 Kategorien: T-Shirt / Hose / Schuhe / ...\n",
    "# Aufteilung gleichmäßiger\n",
    "\n",
    "pred = model.predict(X_test_784)\n",
    "print(pred.shape)\n",
    "print(pred)"
   ]
  },
  {
   "cell_type": "code",
   "execution_count": 25,
   "id": "90376a13",
   "metadata": {},
   "outputs": [
    {
     "name": "stdout",
     "output_type": "stream",
     "text": [
      "[0.16104856 0.19916409 0.34908175 0.12107736 0.21494758 0.8799598\n",
      " 0.15019825 0.86043835 0.75425696 0.9299139 ]\n",
      "9\n",
      "[0.43030116 0.4216223  0.9759307  0.43416494 0.9244586  0.4838769\n",
      " 0.88179636 0.330482   0.3698182  0.12776706]\n",
      "2\n"
     ]
    }
   ],
   "source": [
    "print(pred[0]) # Schuh: Cat 9\n",
    "print(np.argmax(pred[0]))\n",
    "\n",
    "print(pred[1]) # Pullover: Cat 2\n",
    "print(np.argmax(pred[1]))"
   ]
  },
  {
   "cell_type": "code",
   "execution_count": 46,
   "id": "4e935006",
   "metadata": {},
   "outputs": [],
   "source": [
    "# Konfusionsmatrix erstellen\n",
    "# Max für alle Daten\n",
    "y_test_pred = np.argmax(pred, axis=1)"
   ]
  },
  {
   "cell_type": "code",
   "execution_count": 47,
   "id": "7b17ce49",
   "metadata": {},
   "outputs": [
    {
     "name": "stdout",
     "output_type": "stream",
     "text": [
      "0       9\n",
      "1       2\n",
      "2       1\n",
      "3       1\n",
      "4       6\n",
      "       ..\n",
      "9995    9\n",
      "9996    1\n",
      "9997    8\n",
      "9998    1\n",
      "9999    5\n",
      "Name: actual, Length: 10000, dtype: uint8\n",
      "0       9\n",
      "1       2\n",
      "2       1\n",
      "3       1\n",
      "4       0\n",
      "       ..\n",
      "9995    9\n",
      "9996    1\n",
      "9997    8\n",
      "9998    1\n",
      "9999    5\n",
      "Name: pred, Length: 10000, dtype: int64\n"
     ]
    }
   ],
   "source": [
    "import pandas as pd\n",
    "ytrue = pd.Series(y_test, name='actual') # ohne categorical\n",
    "ypred = pd.Series(y_test_pred, name='pred')\n",
    "print(ytrue)\n",
    "print(ypred)"
   ]
  },
  {
   "cell_type": "code",
   "execution_count": 48,
   "id": "3702eac8",
   "metadata": {},
   "outputs": [
    {
     "data": {
      "text/html": [
       "<div>\n",
       "<style scoped>\n",
       "    .dataframe tbody tr th:only-of-type {\n",
       "        vertical-align: middle;\n",
       "    }\n",
       "\n",
       "    .dataframe tbody tr th {\n",
       "        vertical-align: top;\n",
       "    }\n",
       "\n",
       "    .dataframe thead th {\n",
       "        text-align: right;\n",
       "    }\n",
       "</style>\n",
       "<table border=\"1\" class=\"dataframe\">\n",
       "  <thead>\n",
       "    <tr style=\"text-align: right;\">\n",
       "      <th>pred</th>\n",
       "      <th>0</th>\n",
       "      <th>1</th>\n",
       "      <th>2</th>\n",
       "      <th>3</th>\n",
       "      <th>4</th>\n",
       "      <th>5</th>\n",
       "      <th>6</th>\n",
       "      <th>7</th>\n",
       "      <th>8</th>\n",
       "      <th>9</th>\n",
       "    </tr>\n",
       "    <tr>\n",
       "      <th>actual</th>\n",
       "      <th></th>\n",
       "      <th></th>\n",
       "      <th></th>\n",
       "      <th></th>\n",
       "      <th></th>\n",
       "      <th></th>\n",
       "      <th></th>\n",
       "      <th></th>\n",
       "      <th></th>\n",
       "      <th></th>\n",
       "    </tr>\n",
       "  </thead>\n",
       "  <tbody>\n",
       "    <tr>\n",
       "      <th>0</th>\n",
       "      <td>797</td>\n",
       "      <td>5</td>\n",
       "      <td>15</td>\n",
       "      <td>88</td>\n",
       "      <td>10</td>\n",
       "      <td>2</td>\n",
       "      <td>59</td>\n",
       "      <td>0</td>\n",
       "      <td>24</td>\n",
       "      <td>0</td>\n",
       "    </tr>\n",
       "    <tr>\n",
       "      <th>1</th>\n",
       "      <td>13</td>\n",
       "      <td>921</td>\n",
       "      <td>15</td>\n",
       "      <td>39</td>\n",
       "      <td>8</td>\n",
       "      <td>0</td>\n",
       "      <td>2</td>\n",
       "      <td>0</td>\n",
       "      <td>2</td>\n",
       "      <td>0</td>\n",
       "    </tr>\n",
       "    <tr>\n",
       "      <th>2</th>\n",
       "      <td>23</td>\n",
       "      <td>2</td>\n",
       "      <td>648</td>\n",
       "      <td>11</td>\n",
       "      <td>197</td>\n",
       "      <td>0</td>\n",
       "      <td>108</td>\n",
       "      <td>0</td>\n",
       "      <td>11</td>\n",
       "      <td>0</td>\n",
       "    </tr>\n",
       "    <tr>\n",
       "      <th>3</th>\n",
       "      <td>55</td>\n",
       "      <td>11</td>\n",
       "      <td>9</td>\n",
       "      <td>846</td>\n",
       "      <td>29</td>\n",
       "      <td>1</td>\n",
       "      <td>42</td>\n",
       "      <td>0</td>\n",
       "      <td>7</td>\n",
       "      <td>0</td>\n",
       "    </tr>\n",
       "    <tr>\n",
       "      <th>4</th>\n",
       "      <td>0</td>\n",
       "      <td>5</td>\n",
       "      <td>147</td>\n",
       "      <td>49</td>\n",
       "      <td>685</td>\n",
       "      <td>1</td>\n",
       "      <td>102</td>\n",
       "      <td>0</td>\n",
       "      <td>11</td>\n",
       "      <td>0</td>\n",
       "    </tr>\n",
       "    <tr>\n",
       "      <th>5</th>\n",
       "      <td>2</td>\n",
       "      <td>1</td>\n",
       "      <td>1</td>\n",
       "      <td>1</td>\n",
       "      <td>0</td>\n",
       "      <td>793</td>\n",
       "      <td>0</td>\n",
       "      <td>112</td>\n",
       "      <td>12</td>\n",
       "      <td>78</td>\n",
       "    </tr>\n",
       "    <tr>\n",
       "      <th>6</th>\n",
       "      <td>243</td>\n",
       "      <td>4</td>\n",
       "      <td>142</td>\n",
       "      <td>59</td>\n",
       "      <td>147</td>\n",
       "      <td>1</td>\n",
       "      <td>375</td>\n",
       "      <td>0</td>\n",
       "      <td>29</td>\n",
       "      <td>0</td>\n",
       "    </tr>\n",
       "    <tr>\n",
       "      <th>7</th>\n",
       "      <td>0</td>\n",
       "      <td>0</td>\n",
       "      <td>0</td>\n",
       "      <td>0</td>\n",
       "      <td>0</td>\n",
       "      <td>30</td>\n",
       "      <td>0</td>\n",
       "      <td>879</td>\n",
       "      <td>2</td>\n",
       "      <td>89</td>\n",
       "    </tr>\n",
       "    <tr>\n",
       "      <th>8</th>\n",
       "      <td>5</td>\n",
       "      <td>0</td>\n",
       "      <td>14</td>\n",
       "      <td>16</td>\n",
       "      <td>3</td>\n",
       "      <td>6</td>\n",
       "      <td>20</td>\n",
       "      <td>11</td>\n",
       "      <td>924</td>\n",
       "      <td>1</td>\n",
       "    </tr>\n",
       "    <tr>\n",
       "      <th>9</th>\n",
       "      <td>0</td>\n",
       "      <td>0</td>\n",
       "      <td>0</td>\n",
       "      <td>1</td>\n",
       "      <td>0</td>\n",
       "      <td>14</td>\n",
       "      <td>0</td>\n",
       "      <td>46</td>\n",
       "      <td>1</td>\n",
       "      <td>938</td>\n",
       "    </tr>\n",
       "  </tbody>\n",
       "</table>\n",
       "</div>"
      ],
      "text/plain": [
       "pred      0    1    2    3    4    5    6    7    8    9\n",
       "actual                                                  \n",
       "0       797    5   15   88   10    2   59    0   24    0\n",
       "1        13  921   15   39    8    0    2    0    2    0\n",
       "2        23    2  648   11  197    0  108    0   11    0\n",
       "3        55   11    9  846   29    1   42    0    7    0\n",
       "4         0    5  147   49  685    1  102    0   11    0\n",
       "5         2    1    1    1    0  793    0  112   12   78\n",
       "6       243    4  142   59  147    1  375    0   29    0\n",
       "7         0    0    0    0    0   30    0  879    2   89\n",
       "8         5    0   14   16    3    6   20   11  924    1\n",
       "9         0    0    0    1    0   14    0   46    1  938"
      ]
     },
     "execution_count": 48,
     "metadata": {},
     "output_type": "execute_result"
    }
   ],
   "source": [
    "pd.crosstab(ytrue, ypred)"
   ]
  },
  {
   "cell_type": "code",
   "execution_count": null,
   "id": "69da9bcc",
   "metadata": {},
   "outputs": [],
   "source": []
  }
 ],
 "metadata": {
  "kernelspec": {
   "display_name": "Python 3 (ipykernel)",
   "language": "python",
   "name": "python3"
  },
  "language_info": {
   "codemirror_mode": {
    "name": "ipython",
    "version": 3
   },
   "file_extension": ".py",
   "mimetype": "text/x-python",
   "name": "python",
   "nbconvert_exporter": "python",
   "pygments_lexer": "ipython3",
   "version": "3.9.7"
  }
 },
 "nbformat": 4,
 "nbformat_minor": 5
}
