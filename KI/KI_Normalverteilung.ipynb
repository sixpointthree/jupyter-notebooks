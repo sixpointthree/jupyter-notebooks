{
 "cells": [
  {
   "cell_type": "code",
   "execution_count": 1,
   "id": "b3b9f5a9",
   "metadata": {},
   "outputs": [
    {
     "name": "stdout",
     "output_type": "stream",
     "text": [
      "Using matplotlib backend: Qt5Agg\n"
     ]
    }
   ],
   "source": [
    "%matplotlib\n",
    "import numpy as np\n",
    "import matplotlib.pyplot as plt"
   ]
  },
  {
   "cell_type": "code",
   "execution_count": 2,
   "id": "2de9bab5",
   "metadata": {},
   "outputs": [],
   "source": [
    "# 100 linearly spaced numbers\n",
    "x = np.linspace(-5,5,100)\n",
    "\n",
    "# the function, which is y = x^2 here\n",
    "y = x**2\n",
    "\n",
    "# plot the function\n",
    "plt.plot(x,y, 'r')\n",
    "\n",
    "# show the plot\n",
    "plt.show()"
   ]
  },
  {
   "cell_type": "code",
   "execution_count": 3,
   "id": "1494172e",
   "metadata": {},
   "outputs": [],
   "source": [
    "import scipy.stats as stats"
   ]
  },
  {
   "cell_type": "code",
   "execution_count": 4,
   "id": "a94c5556",
   "metadata": {},
   "outputs": [
    {
     "name": "stdout",
     "output_type": "stream",
     "text": [
      "Erwartungswert -1.0\n",
      "Varianz 4.0\n",
      "Wahrscheinlichkeiten [0.12098536 0.0647588  0.02699548]\n"
     ]
    },
    {
     "data": {
      "text/plain": [
       "[<matplotlib.lines.Line2D at 0x286b70f8730>]"
      ]
     },
     "execution_count": 4,
     "metadata": {},
     "output_type": "execute_result"
    }
   ],
   "source": [
    "x = np.linspace(-5, 5, 200)\n",
    "rv = stats.norm(loc=-1, scale=2) # Erstellt Zufallsvar: loc = Mean, scale = Standardabweichung σ\n",
    "print(f\"Erwartungswert {rv.mean()}\")\n",
    "print(f\"Varianz {rv.var()}\")\n",
    "print(f\"Wahrscheinlichkeiten {rv.pdf(np.array([1, 2, 3]))}\") # Wahrscheinlichkeiten für ein paar Werte\n",
    "\n",
    "fig, ax = plt.subplots(1, 1)\n",
    "ax.spines['left'].set_position('center')\n",
    "ax.spines['bottom'].set_position('zero')\n",
    "ax.spines['right'].set_color('none') # Entfernt Achse rechts\n",
    "ax.spines['top'].set_color('none') # Entfernt Achse oben\n",
    "\n",
    "ax.set_title(f\"Normalverteilung - E(x): {rv.mean()} Varianz: {rv.var()}\")\n",
    "\n",
    "plt.plot(x, rv.pdf(x), \"r\")"
   ]
  },
  {
   "cell_type": "code",
   "execution_count": 7,
   "id": "c7b8e855",
   "metadata": {},
   "outputs": [
    {
     "data": {
      "text/plain": [
       "[<matplotlib.lines.Line2D at 0x286b60dac40>]"
      ]
     },
     "execution_count": 7,
     "metadata": {},
     "output_type": "execute_result"
    }
   ],
   "source": [
    "\n",
    "fig2, ax2 = plt.subplots(1, 1)\n",
    "ax2.spines['left'].set_position('center')\n",
    "ax2.spines['bottom'].set_position('zero')\n",
    "ax2.spines['right'].set_color('none') # Entfernt Achse rechts\n",
    "ax2.spines['top'].set_color('none') # Entfernt Achse oben\n",
    "\n",
    "ax2.set_title(f\"Normalverteilung Realisierungsbeispiel\")\n",
    "\n",
    "rvs = rv.rvs(size=1000)\n",
    "\n",
    "plt.plot(rvs, \"b\")"
   ]
  },
  {
   "cell_type": "code",
   "execution_count": 20,
   "id": "b193d534",
   "metadata": {},
   "outputs": [
    {
     "data": {
      "text/plain": [
       "(array([0.00413093, 0.00413093, 0.        , 0.        , 0.        ,\n",
       "        0.00826185, 0.00826185, 0.03717834, 0.00826185, 0.01239278,\n",
       "        0.01652371, 0.04130927, 0.04957112, 0.08261854, 0.09501132,\n",
       "        0.07435668, 0.07435668, 0.09088039, 0.12805873, 0.16523708,\n",
       "        0.12805873, 0.18589171, 0.2148082 , 0.18589171, 0.15697522,\n",
       "        0.19002264, 0.18589171, 0.19002264, 0.17762986, 0.19828449,\n",
       "        0.15697522, 0.15284429, 0.16523708, 0.16110615, 0.11979688,\n",
       "        0.14045151, 0.11153503, 0.09914225, 0.07848761, 0.06609483,\n",
       "        0.0454402 , 0.02065463, 0.02891649, 0.01652371, 0.02065463,\n",
       "        0.01239278, 0.        , 0.00413093, 0.        , 0.01652371]),\n",
       " array([-7.40003802, -7.1579616 , -6.91588518, -6.67380876, -6.43173234,\n",
       "        -6.18965591, -5.94757949, -5.70550307, -5.46342665, -5.22135023,\n",
       "        -4.9792738 , -4.73719738, -4.49512096, -4.25304454, -4.01096812,\n",
       "        -3.76889169, -3.52681527, -3.28473885, -3.04266243, -2.80058601,\n",
       "        -2.55850958, -2.31643316, -2.07435674, -1.83228032, -1.5902039 ,\n",
       "        -1.34812747, -1.10605105, -0.86397463, -0.62189821, -0.37982179,\n",
       "        -0.13774536,  0.10433106,  0.34640748,  0.5884839 ,  0.83056032,\n",
       "         1.07263675,  1.31471317,  1.55678959,  1.79886601,  2.04094243,\n",
       "         2.28301886,  2.52509528,  2.7671717 ,  3.00924812,  3.25132454,\n",
       "         3.49340097,  3.73547739,  3.97755381,  4.21963023,  4.46170666,\n",
       "         4.70378308]),\n",
       " <BarContainer object of 50 artists>)"
      ]
     },
     "execution_count": 20,
     "metadata": {},
     "output_type": "execute_result"
    }
   ],
   "source": [
    "# Histogram und PDF in einem Graph ausgeben\n",
    "plt.plot(x, rv.pdf(x), \"r\")\n",
    "plt.hist(rvs, density=1, bins=50)"
   ]
  },
  {
   "cell_type": "code",
   "execution_count": null,
   "id": "4020d0b7",
   "metadata": {},
   "outputs": [],
   "source": []
  }
 ],
 "metadata": {
  "kernelspec": {
   "display_name": "Python 3 (ipykernel)",
   "language": "python",
   "name": "python3"
  },
  "language_info": {
   "codemirror_mode": {
    "name": "ipython",
    "version": 3
   },
   "file_extension": ".py",
   "mimetype": "text/x-python",
   "name": "python",
   "nbconvert_exporter": "python",
   "pygments_lexer": "ipython3",
   "version": "3.9.7"
  }
 },
 "nbformat": 4,
 "nbformat_minor": 5
}
