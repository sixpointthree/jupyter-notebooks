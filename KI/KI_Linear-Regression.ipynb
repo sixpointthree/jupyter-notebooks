{
 "cells": [
  {
   "cell_type": "code",
   "execution_count": 61,
   "id": "cc21260e",
   "metadata": {},
   "outputs": [],
   "source": [
    "import numpy as np"
   ]
  },
  {
   "cell_type": "code",
   "execution_count": 62,
   "id": "dd59c2e3",
   "metadata": {},
   "outputs": [
    {
     "name": "stdout",
     "output_type": "stream",
     "text": [
      "X [[  1  10 150]\n",
      " [  1  15 120]\n",
      " [  1  10 100]]\n",
      "y [[300]\n",
      " [200]\n",
      " [250]]\n"
     ]
    }
   ],
   "source": [
    "# Formel: Theta = (XT*X)^-1 * XT * y\n",
    "\n",
    "X = np.array([\n",
    "    [1, 10, 150],\n",
    "    [1, 15, 120],\n",
    "    [1, 10, 100]    \n",
    "])\n",
    "print(f\"X {X}\")\n",
    "\n",
    "y = np.array([\n",
    "    [300],\n",
    "    [200],\n",
    "    [250]\n",
    "])\n",
    "print(f\"y {y}\")"
   ]
  },
  {
   "cell_type": "code",
   "execution_count": 63,
   "id": "9b72695e",
   "metadata": {},
   "outputs": [
    {
     "name": "stdout",
     "output_type": "stream",
     "text": [
      "Xt [[  1   1   1]\n",
      " [ 10  15  10]\n",
      " [150 120 100]]\n",
      "Xinv: [[-1.2  -2.    4.2 ]\n",
      " [-0.08  0.2  -0.12]\n",
      " [ 0.02 -0.   -0.02]]\n"
     ]
    }
   ],
   "source": [
    "Xt = np.transpose(X)\n",
    "print(f\"Xt {Xt}\")\n",
    "Xinv = np.linalg.inv(X)\n",
    "print(f\"Xinv: {Xinv}\")"
   ]
  },
  {
   "cell_type": "code",
   "execution_count": 64,
   "id": "6de127ce",
   "metadata": {},
   "outputs": [
    {
     "data": {
      "text/plain": [
       "array([[290.],\n",
       "       [-14.],\n",
       "       [  1.]])"
      ]
     },
     "execution_count": 64,
     "metadata": {},
     "output_type": "execute_result"
    }
   ],
   "source": [
    "# Formel: Theta = (XT*X)^-1 * XT * y\n",
    "theta = np.matmul(np.matmul(np.linalg.inv(np.matmul(Xt, X)), Xt), y)\n",
    "theta"
   ]
  },
  {
   "cell_type": "code",
   "execution_count": 65,
   "id": "86c0a19e",
   "metadata": {},
   "outputs": [],
   "source": [
    "X_test = [\n",
    "    [1, 12, 120]\n",
    "]"
   ]
  },
  {
   "cell_type": "code",
   "execution_count": 66,
   "id": "34b2b677",
   "metadata": {},
   "outputs": [
    {
     "name": "stdout",
     "output_type": "stream",
     "text": [
      "[[242.]]\n"
     ]
    }
   ],
   "source": [
    "print(np.matmul(X_test, theta))"
   ]
  },
  {
   "cell_type": "code",
   "execution_count": 67,
   "id": "7de8a01d",
   "metadata": {},
   "outputs": [],
   "source": [
    "from sklearn.linear_model import LinearRegression"
   ]
  },
  {
   "cell_type": "code",
   "execution_count": 68,
   "id": "fd26a946",
   "metadata": {},
   "outputs": [
    {
     "data": {
      "text/plain": [
       "array([[  0., -14.,   1.]])"
      ]
     },
     "execution_count": 68,
     "metadata": {},
     "output_type": "execute_result"
    }
   ],
   "source": [
    "model = LinearRegression(fit_intercept = True)\n",
    "model.fit(X, y)\n",
    "model.coef_"
   ]
  },
  {
   "cell_type": "code",
   "execution_count": 69,
   "id": "7e65dd9d",
   "metadata": {},
   "outputs": [
    {
     "data": {
      "text/plain": [
       "array([[242.]])"
      ]
     },
     "execution_count": 69,
     "metadata": {},
     "output_type": "execute_result"
    }
   ],
   "source": [
    "model.predict(X_test)"
   ]
  },
  {
   "cell_type": "code",
   "execution_count": null,
   "id": "70bf09a4",
   "metadata": {},
   "outputs": [],
   "source": []
  }
 ],
 "metadata": {
  "kernelspec": {
   "display_name": "Python 3 (ipykernel)",
   "language": "python",
   "name": "python3"
  },
  "language_info": {
   "codemirror_mode": {
    "name": "ipython",
    "version": 3
   },
   "file_extension": ".py",
   "mimetype": "text/x-python",
   "name": "python",
   "nbconvert_exporter": "python",
   "pygments_lexer": "ipython3",
   "version": "3.9.7"
  }
 },
 "nbformat": 4,
 "nbformat_minor": 5
}
