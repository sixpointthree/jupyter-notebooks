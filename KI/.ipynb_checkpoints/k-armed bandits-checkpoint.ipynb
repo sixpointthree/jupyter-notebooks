{
 "cells": [
  {
   "cell_type": "code",
   "execution_count": 1,
   "id": "081c4ef0",
   "metadata": {},
   "outputs": [],
   "source": [
    "import numpy as np"
   ]
  },
  {
   "cell_type": "code",
   "execution_count": 9,
   "id": "002d995d",
   "metadata": {},
   "outputs": [
    {
     "name": "stdout",
     "output_type": "stream",
     "text": [
      "[ 0.95132179 -0.86369547 -0.4528889  -0.27367212  0.37291506 -0.0344415\n",
      "  0.05081231 -1.15087168  0.44864035  0.05742685]\n"
     ]
    }
   ],
   "source": [
    "# Create 1 10 armed bandit\n",
    "arms = np.random.normal(loc=0.0, scale=1.0, size=10)\n",
    "print(arms)\n",
    "dists = {}\n",
    "for idx, arm in enumerate(arms):\n",
    "    dists[idx] = np.random.normal(loc=arm, scale=1.0)"
   ]
  },
  {
   "cell_type": "code",
   "execution_count": 15,
   "id": "30e35193",
   "metadata": {},
   "outputs": [],
   "source": [
    "# Define Model\n",
    "class Model():\n",
    "    def __init__(self, epsylon: float):\n",
    "        self.epsylon = epsylon\n",
    "        self.arms = {}\n",
    "        self.rewards = {}\n",
    "        self.exp_reward = {}\n",
    "        self.iterations = {}\n",
    "        for i in range(1, 11):\n",
    "            self.arms[i] = np.random.normal(loc=0.0, scale=1.0)\n",
    "            self.rewards[i] = 0.0\n",
    "            self.exp_reward[i] = np.random.normal(loc=0.0, scale=0.1)\n",
    "            self.iterations[i] = 0\n",
    "        \n",
    "    def fit(self, runs: int):\n",
    "        for n in runs:\n",
    "            self.make_choice()\n",
    "    \n",
    "    def make_choice(self):\n",
    "        action = self.__choice_with_epsylon()\n",
    "        reward = self.__get_reward(action)\n",
    "        self.__calc_exp_reward(action, reward)\n",
    "    \n",
    "    def __calc_exp_reward(self, action: int, reward: float):\n",
    "        self.iterations[i] += 1\n",
    "        self.exp_reward[action] = self.exp_reward[action] + 1/self.iterations[i] * (reward - self.exp_reward[action])\n",
    "    \n",
    "    def __get_reward(self, action: int):\n",
    "        return np.random.normal(loc=self.arms[action], scale=1.0)\n",
    "    \n",
    "    def __choice_with_epsylon(self):\n",
    "        sel = np.random.rand(0, 1)\n",
    "        if sel < self.epsylon:\n",
    "            return np.random.random_integers(1, 10, size=1)\n",
    "        best_action = -1\n",
    "        max_prob = -1.0\n",
    "        for i, Q in self.exp_reward.items():\n",
    "            if Q > max_prob:\n",
    "                best_action = i\n",
    "        return best_action\n",
    "    \n",
    "    def print_model(self):\n",
    "        print(f\"Epsylon: {self.epsylon}, Arms: {self.arms}\\nExp. reward: {self.exp_reward}\")\n",
    "            "
   ]
  },
  {
   "cell_type": "code",
   "execution_count": 16,
   "id": "4965d1b2",
   "metadata": {},
   "outputs": [
    {
     "ename": "TypeError",
     "evalue": "fit() takes 1 positional argument but 2 were given",
     "output_type": "error",
     "traceback": [
      "\u001b[1;31m---------------------------------------------------------------------------\u001b[0m",
      "\u001b[1;31mTypeError\u001b[0m                                 Traceback (most recent call last)",
      "\u001b[1;32m~\\AppData\\Local\\Temp/ipykernel_5920/3440554654.py\u001b[0m in \u001b[0;36m<module>\u001b[1;34m\u001b[0m\n\u001b[0;32m      1\u001b[0m \u001b[0mmodel\u001b[0m \u001b[1;33m=\u001b[0m \u001b[0mModel\u001b[0m\u001b[1;33m(\u001b[0m\u001b[0mepsylon\u001b[0m\u001b[1;33m=\u001b[0m\u001b[1;36m0.01\u001b[0m\u001b[1;33m)\u001b[0m\u001b[1;33m\u001b[0m\u001b[1;33m\u001b[0m\u001b[0m\n\u001b[1;32m----> 2\u001b[1;33m \u001b[0mmodel\u001b[0m\u001b[1;33m.\u001b[0m\u001b[0mfit\u001b[0m\u001b[1;33m(\u001b[0m\u001b[1;36m1000\u001b[0m\u001b[1;33m)\u001b[0m\u001b[1;33m\u001b[0m\u001b[1;33m\u001b[0m\u001b[0m\n\u001b[0m",
      "\u001b[1;31mTypeError\u001b[0m: fit() takes 1 positional argument but 2 were given"
     ]
    }
   ],
   "source": [
    "model = Model(epsylon=0.01)\n",
    "model.fit(1000)"
   ]
  },
  {
   "cell_type": "code",
   "execution_count": null,
   "id": "0e959261",
   "metadata": {},
   "outputs": [],
   "source": []
  }
 ],
 "metadata": {
  "kernelspec": {
   "display_name": "Python 3 (ipykernel)",
   "language": "python",
   "name": "python3"
  },
  "language_info": {
   "codemirror_mode": {
    "name": "ipython",
    "version": 3
   },
   "file_extension": ".py",
   "mimetype": "text/x-python",
   "name": "python",
   "nbconvert_exporter": "python",
   "pygments_lexer": "ipython3",
   "version": "3.9.7"
  }
 },
 "nbformat": 4,
 "nbformat_minor": 5
}
