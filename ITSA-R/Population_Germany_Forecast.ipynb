{
 "cells": [
  {
   "cell_type": "code",
   "execution_count": 292,
   "id": "665bdd0d",
   "metadata": {},
   "outputs": [],
   "source": [
    "# Hilfreicher Link: https://www.analyticsvidhya.com/blog/2018/02/time-series-forecasting-methods/"
   ]
  },
  {
   "cell_type": "code",
   "execution_count": 293,
   "id": "c1cf825e",
   "metadata": {},
   "outputs": [],
   "source": [
    "import pandas as pd"
   ]
  },
  {
   "cell_type": "code",
   "execution_count": 294,
   "id": "77c36736",
   "metadata": {},
   "outputs": [
    {
     "data": {
      "text/html": [
       "<div>\n",
       "<style scoped>\n",
       "    .dataframe tbody tr th:only-of-type {\n",
       "        vertical-align: middle;\n",
       "    }\n",
       "\n",
       "    .dataframe tbody tr th {\n",
       "        vertical-align: top;\n",
       "    }\n",
       "\n",
       "    .dataframe thead th {\n",
       "        text-align: right;\n",
       "    }\n",
       "</style>\n",
       "<table border=\"1\" class=\"dataframe\">\n",
       "  <thead>\n",
       "    <tr style=\"text-align: right;\">\n",
       "      <th></th>\n",
       "      <th>Name</th>\n",
       "      <th>Code</th>\n",
       "      <th>Indicator</th>\n",
       "      <th>Indicator_Code</th>\n",
       "      <th>1960</th>\n",
       "      <th>1961</th>\n",
       "      <th>1962</th>\n",
       "      <th>1963</th>\n",
       "      <th>1964</th>\n",
       "      <th>1965</th>\n",
       "      <th>...</th>\n",
       "      <th>2013</th>\n",
       "      <th>2014</th>\n",
       "      <th>2015</th>\n",
       "      <th>2016</th>\n",
       "      <th>2017</th>\n",
       "      <th>2018</th>\n",
       "      <th>2019</th>\n",
       "      <th>2020</th>\n",
       "      <th>2021</th>\n",
       "      <th>Unnamed: 66</th>\n",
       "    </tr>\n",
       "  </thead>\n",
       "  <tbody>\n",
       "    <tr>\n",
       "      <th>0</th>\n",
       "      <td>Germany</td>\n",
       "      <td>DEU</td>\n",
       "      <td>Population, total</td>\n",
       "      <td>SP.POP.TOTL</td>\n",
       "      <td>72814900</td>\n",
       "      <td>73377632</td>\n",
       "      <td>74025784</td>\n",
       "      <td>74714353</td>\n",
       "      <td>75318337</td>\n",
       "      <td>75963695</td>\n",
       "      <td>...</td>\n",
       "      <td>80645605</td>\n",
       "      <td>80982500</td>\n",
       "      <td>81686611</td>\n",
       "      <td>82348669</td>\n",
       "      <td>82657002</td>\n",
       "      <td>82905782</td>\n",
       "      <td>83092962</td>\n",
       "      <td>83160871</td>\n",
       "      <td>NaN</td>\n",
       "      <td>NaN</td>\n",
       "    </tr>\n",
       "  </tbody>\n",
       "</table>\n",
       "<p>1 rows × 67 columns</p>\n",
       "</div>"
      ],
      "text/plain": [
       "      Name Code          Indicator Indicator_Code      1960      1961  \\\n",
       "0  Germany  DEU  Population, total    SP.POP.TOTL  72814900  73377632   \n",
       "\n",
       "       1962      1963      1964      1965  ...      2013      2014      2015  \\\n",
       "0  74025784  74714353  75318337  75963695  ...  80645605  80982500  81686611   \n",
       "\n",
       "       2016      2017      2018      2019      2020  2021  Unnamed: 66  \n",
       "0  82348669  82657002  82905782  83092962  83160871   NaN          NaN  \n",
       "\n",
       "[1 rows x 67 columns]"
      ]
     },
     "execution_count": 294,
     "metadata": {},
     "output_type": "execute_result"
    }
   ],
   "source": [
    "germany_pop_raw = pd.read_csv(\"./germany_population.csv\")\n",
    "germany_pop_raw"
   ]
  },
  {
   "cell_type": "code",
   "execution_count": 295,
   "id": "5d0dad7d",
   "metadata": {},
   "outputs": [
    {
     "name": "stdout",
     "output_type": "stream",
     "text": [
      "             0\n",
      "1980  78288576\n",
      "1981  78407907\n",
      "1982  78333366\n",
      "1983  78128282\n",
      "1984  77858685\n",
      "1985  77684873\n",
      "1986  77720436\n",
      "1987  77839920\n",
      "1988  78144619\n",
      "1989  78751283\n",
      "1990  79433029\n",
      "1991  80013896\n",
      "1992  80624598\n",
      "1993  81156363\n",
      "1994  81438348\n",
      "1995  81678051\n",
      "1996  81914831\n",
      "1997  82034771\n",
      "1998  82047195\n",
      "1999  82100243\n",
      "2000  82211508\n",
      "2001  82349925\n",
      "2002  82488495\n",
      "2003  82534176\n",
      "2004  82516260\n",
      "2005  82469422\n",
      "2006  82376451\n",
      "2007  82266372\n",
      "2008  82110097\n",
      "2009  81902307\n",
      "2010  81776930\n",
      "2011  80274983\n",
      "2012  80425823\n",
      "2013  80645605\n",
      "2014  80982500\n",
      "2015  81686611\n",
      "             0\n",
      "2016  82348669\n",
      "2017  82657002\n",
      "2018  82905782\n",
      "2019  83092962\n",
      "2020  83160871\n"
     ]
    }
   ],
   "source": [
    "germany_cleared = germany_pop_raw.drop(['Name', 'Code', 'Indicator', 'Indicator_Code', '2021', 'Unnamed: 66'], axis=1)\n",
    "germany_pop = germany_cleared.transpose()\n",
    "germany_pop = germany_pop.iloc[20:]\n",
    "germany_pop_train = germany_pop.iloc[:36]\n",
    "germany_pop_test = germany_pop.iloc[36:]\n",
    "print(germany_pop_train)\n",
    "print(germany_pop_test)\n",
    "#germany_pop_trans.index"
   ]
  },
  {
   "cell_type": "code",
   "execution_count": 296,
   "id": "76029e29",
   "metadata": {},
   "outputs": [
    {
     "name": "stdout",
     "output_type": "stream",
     "text": [
      "Index(['1980', '1981', '1982', '1983', '1984', '1985', '1986', '1987', '1988',\n",
      "       '1989', '1990', '1991', '1992', '1993', '1994', '1995', '1996', '1997',\n",
      "       '1998', '1999', '2000', '2001', '2002', '2003', '2004', '2005', '2006',\n",
      "       '2007', '2008', '2009', '2010', '2011', '2012', '2013', '2014', '2015'],\n",
      "      dtype='object')\n",
      "[78288576 78407907 78333366 78128282 77858685 77684873 77720436 77839920\n",
      " 78144619 78751283 79433029 80013896 80624598 81156363 81438348 81678051\n",
      " 81914831 82034771 82047195 82100243 82211508 82349925 82488495 82534176\n",
      " 82516260 82469422 82376451 82266372 82110097 81902307 81776930 80274983\n",
      " 80425823 80645605 80982500 81686611]\n",
      "Index(['2016', '2017', '2018', '2019', '2020'], dtype='object')\n",
      "[82348669 82657002 82905782 83092962 83160871]\n"
     ]
    }
   ],
   "source": [
    "y = germany_pop.iloc[:,0]\n",
    "X = y.index\n",
    "y_train = germany_pop_train.iloc[:,0]\n",
    "X_train = y_train.index\n",
    "y_train = y_train.values\n",
    "y_test = germany_pop_test.iloc[:,0]\n",
    "X_test = y_test.index\n",
    "y_test = y_test.values\n",
    "print(X_train)\n",
    "print(y_train)\n",
    "print(X_test)\n",
    "print(y_test)"
   ]
  },
  {
   "cell_type": "code",
   "execution_count": 297,
   "id": "9dace405",
   "metadata": {},
   "outputs": [
    {
     "data": {
      "text/plain": [
       "[<matplotlib.lines.Line2D at 0x1690b93ae20>]"
      ]
     },
     "execution_count": 297,
     "metadata": {},
     "output_type": "execute_result"
    },
    {
     "data": {
      "image/png": "[encoded data removed]",
      "text/plain": [
       "<Figure size 432x288 with 1 Axes>"
      ]
     },
     "metadata": {
      "needs_background": "light"
     },
     "output_type": "display_data"
    }
   ],
   "source": [
    "%matplotlib inline\n",
    "import matplotlib.pyplot as plt\n",
    "plt.xticks([0, 10, 20, 30, 40], ['1980', '1990', '2000', '2010', '2020'])\n",
    "plt.plot(X, y)"
   ]
  },
  {
   "cell_type": "code",
   "execution_count": 298,
   "id": "0f102f64",
   "metadata": {},
   "outputs": [],
   "source": [
    "def make_array(val: float, cnt: int=5):\n",
    "    arr = []\n",
    "    for i in range(0, cnt):\n",
    "        arr.append(val)\n",
    "    return arr"
   ]
  },
  {
   "cell_type": "code",
   "execution_count": 299,
   "id": "20ed74e1",
   "metadata": {},
   "outputs": [
    {
     "name": "stdout",
     "output_type": "stream",
     "text": [
      "[81686611, 81686611, 81686611, 81686611, 81686611]\n"
     ]
    }
   ],
   "source": [
    "# naive\n",
    "y_naive = y_train[len(y_train) - 1]\n",
    "y_naive = make_array(y_naive)\n",
    "print(y_naive)"
   ]
  },
  {
   "cell_type": "code",
   "execution_count": 300,
   "id": "4404ad65",
   "metadata": {},
   "outputs": [
    {
     "name": "stdout",
     "output_type": "stream",
     "text": [
      "<class 'numpy.float64'>\n",
      "[80628242.69444445, 80628242.69444445, 80628242.69444445, 80628242.69444445, 80628242.69444445]\n"
     ]
    }
   ],
   "source": [
    "# average\n",
    "y_avg = y_train.mean()\n",
    "print(type(y_avg))\n",
    "y_avg = make_array(y_avg)\n",
    "print(y_avg)"
   ]
  },
  {
   "cell_type": "code",
   "execution_count": 301,
   "id": "fa824e99",
   "metadata": {},
   "outputs": [
    {
     "name": "stdout",
     "output_type": "stream",
     "text": [
      "[81783697.71428572, 81783697.71428572, 81783697.71428572, 81783697.71428572, 81783697.71428572]\n"
     ]
    }
   ],
   "source": [
    "# rwf\n",
    "# make diff\n",
    "y_diff = pd.DataFrame(y_train).diff().mean().values[0]\n",
    "y_rwf = y_diff + y_train[len(y_train) - 1]\n",
    "y_rwf = make_array(y_rwf)\n",
    "print(y_rwf)"
   ]
  },
  {
   "cell_type": "code",
   "execution_count": 302,
   "id": "0e3a7f35",
   "metadata": {},
   "outputs": [],
   "source": [
    "from statsmodels.tsa.api import ExponentialSmoothing, SimpleExpSmoothing, Holt"
   ]
  },
  {
   "cell_type": "code",
   "execution_count": 303,
   "id": "ebce452b",
   "metadata": {},
   "outputs": [
    {
     "name": "stdout",
     "output_type": "stream",
     "text": [
      "[81686611. 81686611. 81686611. 81686611. 81686611.]\n"
     ]
    }
   ],
   "source": [
    "# Simple Exponential Smooting - SES\n",
    "fit_ses = SimpleExpSmoothing(y_train, initialization_method=\"estimated\").fit(smoothing_level=1.0, optimized=True)\n",
    "y_ses = fit_ses.forecast(len(y_test))\n",
    "print(y_ses)"
   ]
  },
  {
   "cell_type": "code",
   "execution_count": 304,
   "id": "a75b7e9a",
   "metadata": {},
   "outputs": [
    {
     "name": "stdout",
     "output_type": "stream",
     "text": [
      "[82037036.04090244 82449550.36563426 82862064.69036607 83274579.0150979\n",
      " 83687093.33982971]\n"
     ]
    }
   ],
   "source": [
    "# Holt\n",
    "fit_holt = Holt(y_train, initialization_method=\"heuristic\").fit(smoothing_level=0.9, smoothing_trend=0.5, optimized=True)\n",
    "y_holt = fit_holt.forecast(len(y_test))\n",
    "print(y_holt)"
   ]
  },
  {
   "cell_type": "code",
   "execution_count": 305,
   "id": "ac21df99",
   "metadata": {},
   "outputs": [
    {
     "data": {
      "text/plain": [
       "<matplotlib.legend.Legend at 0x1690c5957c0>"
      ]
     },
     "execution_count": 305,
     "metadata": {},
     "output_type": "execute_result"
    },
    {
     "data": {
      "image/png": "[encoded data removed]",
      "text/plain": [
       "<Figure size 432x288 with 1 Axes>"
      ]
     },
     "metadata": {
      "needs_background": "light"
     },
     "output_type": "display_data"
    }
   ],
   "source": [
    "plt.figure()\n",
    "plt.xticks([0, 10, 20, 30, 40], ['1980', '1990', '2000', '2010', '2020'])\n",
    "plt.plot(X_train, y_train)\n",
    "plt.plot(X_test, y_test, label='Test')\n",
    "plt.plot(X_test, y_naive, label='Naive')\n",
    "plt.plot(X_test, y_avg, label='Avg')\n",
    "plt.plot(X_test, y_rwf, label='Drift rwf')\n",
    "plt.plot(X_test, y_ses, label=f'SES (alpha={fit_ses.params[\"smoothing_level\"]})')\n",
    "plt.plot(X_test, y_holt, label=f'Holt (alpha={fit_holt.params[\"smoothing_level\"]}, beta={fit_holt.params[\"smoothing_trend\"]})')\n",
    "plt.legend(loc=\"upper left\")"
   ]
  },
  {
   "cell_type": "code",
   "execution_count": 306,
   "id": "cb15586d",
   "metadata": {},
   "outputs": [
    {
     "name": "stdout",
     "output_type": "stream",
     "text": [
      "MSE Naive: 1.4035E+12\n",
      "MSE Avg: 4.9504E+12\n",
      "MSE Drift rwf: 1.1903E+12\n",
      "MSE SES: 1.4035E+12\n",
      "MSE Holt: 9.0391E+10\n"
     ]
    }
   ],
   "source": [
    "from sklearn.metrics import mean_squared_error\n",
    "print(f\"MSE Naive: {mean_squared_error(y_test, y_naive):.4E}\")\n",
    "print(f\"MSE Avg: {mean_squared_error(y_test, y_avg):.4E}\")\n",
    "print(f\"MSE Drift rwf: {mean_squared_error(y_test, y_rwf):.4E}\")\n",
    "print(f\"MSE SES: {mean_squared_error(y_test, y_ses):.4E}\")\n",
    "print(f\"MSE Holt: {mean_squared_error(y_test, y_holt):.4E}\")"
   ]
  },
  {
   "cell_type": "code",
   "execution_count": null,
   "id": "6b3a0e39",
   "metadata": {},
   "outputs": [],
   "source": []
  }
 ],
 "metadata": {
  "kernelspec": {
   "display_name": "Python 3 (ipykernel)",
   "language": "python",
   "name": "python3"
  },
  "language_info": {
   "codemirror_mode": {
    "name": "ipython",
    "version": 3
   },
   "file_extension": ".py",
   "mimetype": "text/x-python",
   "name": "python",
   "nbconvert_exporter": "python",
   "pygments_lexer": "ipython3",
   "version": "3.9.7"
  }
 },
 "nbformat": 4,
 "nbformat_minor": 5
}
